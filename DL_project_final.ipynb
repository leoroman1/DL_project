{
  "cells": [
    {
      "cell_type": "markdown",
      "metadata": {
        "id": "view-in-github",
        "colab_type": "text"
      },
      "source": [
        "<a href=\"https://colab.research.google.com/github/leoroman1/DL_project/blob/main/DL_project_final.ipynb\" target=\"_parent\"><img src=\"https://colab.research.google.com/assets/colab-badge.svg\" alt=\"Open In Colab\"/></a>"
      ]
    },
    {
      "cell_type": "markdown",
      "metadata": {
        "id": "7zusoMiAfB0s"
      },
      "source": [
        "# Google Drive connection"
      ]
    },
    {
      "cell_type": "code",
      "execution_count": 2,
      "metadata": {
        "colab": {
          "base_uri": "https://localhost:8080/"
        },
        "id": "qfO9nYf_dKRZ",
        "outputId": "3e7ee3a4-eab8-4d0b-b811-99b3043a361f"
      },
      "outputs": [
        {
          "output_type": "stream",
          "name": "stdout",
          "text": [
            "Drive already mounted at /content/drive; to attempt to forcibly remount, call drive.mount(\"/content/drive\", force_remount=True).\n"
          ]
        }
      ],
      "source": [
        "# connect to your drive with the dataset folder\n",
        "\n",
        "from google.colab import drive\n",
        "drive.mount('/content/drive')"
      ]
    },
    {
      "cell_type": "markdown",
      "metadata": {
        "id": "UsR46oRTf8P-"
      },
      "source": [
        "# Utils"
      ]
    },
    {
      "cell_type": "markdown",
      "metadata": {
        "id": "vfpwTGIjg13X"
      },
      "source": [
        "## Zip file extraction"
      ]
    },
    {
      "cell_type": "code",
      "execution_count": 3,
      "metadata": {
        "id": "CU-ClNtmLe6C"
      },
      "outputs": [],
      "source": [
        "import os\n",
        "import zipfile\n",
        "from tqdm import tqdm\n",
        "\n",
        "def extract_zip(zip_path, destination_path = \"/content\"):\n",
        "\n",
        "    os.makedirs(destination_path, exist_ok=True)\n",
        "\n",
        "    with zipfile.ZipFile(zip_path, 'r') as zip_ref:\n",
        "        members = zip_ref.infolist()\n",
        "        for member in tqdm(members, desc=\"Extracting\", unit=\"file\"):\n",
        "            zip_ref.extract(member, path=destination_path)\n",
        "\n",
        "    print(f\"Extracted to: {destination_path}\")\n"
      ]
    },
    {
      "cell_type": "markdown",
      "metadata": {
        "id": "U_YJT_eOhm4T"
      },
      "source": [
        "## Tar file extraction"
      ]
    },
    {
      "cell_type": "code",
      "execution_count": 4,
      "metadata": {
        "id": "WnDSC3Q61-Lr"
      },
      "outputs": [],
      "source": [
        "import tarfile\n",
        "from tqdm import tqdm\n",
        "import os\n",
        "\n",
        "def extract_tar(tar_path, destination_path = \"/content\"):\n",
        "\n",
        "    os.makedirs(destination_path, exist_ok=True)\n",
        "\n",
        "    with tarfile.open(tar_path, 'r:*') as tar:\n",
        "        members = tar.getmembers()\n",
        "\n",
        "        for member in tqdm(members, desc=\"Extracting\", unit=\"file\"):\n",
        "            tar.extract(member, path=destination_path)\n",
        "\n",
        "    print(f\"Extracted to: {destination_path}\")"
      ]
    },
    {
      "cell_type": "markdown",
      "source": [
        "## Zip and upload to drive"
      ],
      "metadata": {
        "id": "T50HP_1R_mlG"
      }
    },
    {
      "cell_type": "code",
      "source": [
        "import shutil\n",
        "import os\n",
        "\n",
        "def save_zip_to_drive(folder_path, zip_name, destination_path = ''):\n",
        "\n",
        "    zip_path = f\"/content/{zip_name}.zip\"\n",
        "\n",
        "    shutil.make_archive(base_name=zip_path.replace('.zip', ''), format='zip', root_dir=folder_path)\n",
        "    print(f\"Zipped folder to: {zip_path}\")\n",
        "\n",
        "    destination_path = f\"/content/drive/MyDrive/{destination_path}\"\n",
        "    os.makedirs(os.path.dirname(destination_path), exist_ok=True)\n",
        "    shutil.move(zip_path, destination_path)\n",
        "    print(f\"Uploaded to Drive at: {destination_path}\")\n"
      ],
      "metadata": {
        "id": "OfdFykgB_m75"
      },
      "execution_count": 5,
      "outputs": []
    },
    {
      "cell_type": "markdown",
      "metadata": {
        "id": "_57C6eQ1i3KG"
      },
      "source": [
        "## Folder deletion from Colab"
      ]
    },
    {
      "cell_type": "code",
      "execution_count": 6,
      "metadata": {
        "id": "MTbluHM6jtJ7"
      },
      "outputs": [],
      "source": [
        "import shutil\n",
        "import os\n",
        "\n",
        "def delete_folders(folders_paths):\n",
        "\n",
        "    for path in folders_paths:\n",
        "        if os.path.exists(path):\n",
        "            shutil.rmtree(path)\n",
        "            print(f\"Deleted: {path}\")\n",
        "        else:\n",
        "            print(f\"Not found: {path}\")\n"
      ]
    },
    {
      "cell_type": "markdown",
      "metadata": {
        "id": "Ka0rYVlrlyZx"
      },
      "source": [
        "## Folder renaming\n"
      ]
    },
    {
      "cell_type": "code",
      "execution_count": 7,
      "metadata": {
        "id": "A-hEnJesmEr3"
      },
      "outputs": [],
      "source": [
        "import os\n",
        "\n",
        "def rename_folder(folder_path, old_name, new_name):\n",
        "\n",
        "    old_path_name = f\"{folder_path}/{old_name}\"\n",
        "    new_path_name = f\"{folder_path}/{new_name}\"\n",
        "\n",
        "    if os.path.exists(old_path_name):\n",
        "        os.rename(old_path_name, new_path_name)\n",
        "        print(f\"{old_name} has been renamed to {new_name}\")\n",
        "    else:\n",
        "        print(f\"Folder not found: {old_path_name}\")\n"
      ]
    },
    {
      "cell_type": "markdown",
      "metadata": {
        "id": "aOWvPnHAJhwB"
      },
      "source": [
        "## Copy files to another folder"
      ]
    },
    {
      "cell_type": "code",
      "execution_count": 8,
      "metadata": {
        "id": "8_8GrI-NJoJU"
      },
      "outputs": [],
      "source": [
        "import os\n",
        "import shutil\n",
        "from tqdm import tqdm\n",
        "\n",
        "def copy_files_to_another_folder(source_folder, destination_folder, ids_list = 'all'):\n",
        "    os.makedirs(destination_folder, exist_ok=True)\n",
        "\n",
        "    if ids_list == 'all':\n",
        "        files_to_copy = [f for f in os.listdir(source_folder) if os.path.isfile(os.path.join(source_folder, f))]\n",
        "    else:\n",
        "        files_to_copy = [f\"{id}.nii.gz\" for id in ids_list]\n",
        "\n",
        "    for filename in tqdm(files_to_copy, desc=f\"Copying from {source_folder} to {destination_folder}\", unit=\"file\"):\n",
        "        source_path = f\"{source_folder}/{filename}\"\n",
        "        destination_path = f\"{destination_folder}/{filename}\"\n",
        "\n",
        "        if not os.path.exists(source_path):\n",
        "            print(f\"Warning: {source_path} not found, skipping.\")\n",
        "            continue\n",
        "\n",
        "        shutil.copy(source_path, destination_path)\n",
        "\n"
      ]
    },
    {
      "cell_type": "markdown",
      "metadata": {
        "id": "wMjHD5GTS3Yf"
      },
      "source": [
        "## Apply a function to a folder"
      ]
    },
    {
      "cell_type": "code",
      "execution_count": 9,
      "metadata": {
        "id": "fv9BGWG4PByT"
      },
      "outputs": [],
      "source": [
        "import os\n",
        "import nibabel as nib\n",
        "import numpy as np\n",
        "import shutil\n",
        "from tqdm import tqdm\n",
        "\n",
        "def apply_function_to_folder(source_folder, destination_folder, function_to_apply):\n",
        "\n",
        "    os.makedirs(destination_folder, exist_ok=True)\n",
        "\n",
        "    for filename in tqdm(os.listdir(source_folder), desc=f\"Applying function to files in {source_folder}\", unit=\"file\"):\n",
        "\n",
        "        source_path = f\"{source_folder}/{filename}\"\n",
        "        destination_path = f\"{destination_folder}/{filename}\"\n",
        "\n",
        "        try:\n",
        "            result_nii = function_to_apply(source_path)\n",
        "            nib.save(result_nii, destination_path)\n",
        "        except Exception as e:\n",
        "            print(f\"Error while processing file: {filename}: {e}\")\n"
      ]
    },
    {
      "cell_type": "markdown",
      "source": [
        "## Verify Matching Files\n"
      ],
      "metadata": {
        "id": "R-GWxwgW6PcG"
      }
    },
    {
      "cell_type": "code",
      "source": [
        "import os\n",
        "\n",
        "def verify_matching_files(img_folder, lbl_folder):\n",
        "\n",
        "    img_files = os.listdir(img_folder)\n",
        "    lbl_files = os.listdir(lbl_folder)\n",
        "\n",
        "    img_files=set(img_files)\n",
        "    lbl_files=set(lbl_files)\n",
        "\n",
        "    only_in_img = img_files - lbl_files\n",
        "    only_in_lbl = lbl_files - img_files\n",
        "\n",
        "    ok = True\n",
        "\n",
        "    if only_in_img:\n",
        "        ok = False\n",
        "        print(f\"Error: these names are only in '{img_folder}':\")\n",
        "        for n in sorted(only_in_img):\n",
        "            print(f\"{n }\")\n",
        "\n",
        "    if only_in_lbl:\n",
        "        ok = False\n",
        "        print(f\"Error: these names are only in '{lbl_folder}':\")\n",
        "        for n in sorted(only_in_lbl):\n",
        "            print(f\"{n }\")\n",
        "\n",
        "    if ok:\n",
        "        print(f\"File names in '{img_folder}' and '{lbl_folder}' are the same\")\n",
        "    return ok\n",
        ""
      ],
      "metadata": {
        "id": "oiRY4zsU6PKP"
      },
      "execution_count": null,
      "outputs": []
    },
    {
      "cell_type": "markdown",
      "source": [
        "# Data Exploration (to do)"
      ],
      "metadata": {
        "id": "NY-1oyxuWCBP"
      }
    },
    {
      "cell_type": "code",
      "source": [
        "# Extract dataset tar\n",
        "dataset_path = '/content/drive/MyDrive/Task01_BrainTumour.tar'\n",
        "extract_tar(dataset_path)\n",
        "\n",
        "# Main folders now\n",
        "images_folder = '/content/Task01_BrainTumour/imagesTr'\n",
        "labels_folder = '/content/Task01_BrainTumour/labelsTr'"
      ],
      "metadata": {
        "colab": {
          "base_uri": "https://localhost:8080/"
        },
        "id": "dotzV4UHP_LZ",
        "outputId": "92089db3-b976-4935-f74c-967a56380024"
      },
      "execution_count": 32,
      "outputs": [
        {
          "output_type": "stream",
          "name": "stderr",
          "text": [
            "Extracting: 100%|██████████| 1277/1277 [03:23<00:00,  6.26file/s] "
          ]
        },
        {
          "output_type": "stream",
          "name": "stdout",
          "text": [
            "Extracted to: /content\n"
          ]
        },
        {
          "output_type": "stream",
          "name": "stderr",
          "text": [
            "\n"
          ]
        }
      ]
    },
    {
      "cell_type": "code",
      "source": [
        "# Analyse a sample\n",
        "\n",
        "import nibabel as nib\n",
        "\n",
        "patient_id = 'BRATS_001'\n",
        "\n",
        "image_path = f\"{images_folder}/{patient_id}.nii.gz\"\n",
        "label_path = f\"{labels_folder}/{patient_id}.nii.gz\"\n",
        "\n",
        "image_nii = nib.load(image_path)\n",
        "label_nii = nib.load(label_path)\n",
        "\n",
        "image_data = image_nii.get_fdata()\n",
        "label_data = label_nii.get_fdata()\n",
        "\n",
        "print(f\"Image shape: {image_data.shape}\")\n",
        "print(f\"Label shape: {label_data.shape}\")\n",
        "\n"
      ],
      "metadata": {
        "colab": {
          "base_uri": "https://localhost:8080/"
        },
        "id": "DRFKG8ytlmUP",
        "outputId": "1d9ec3b9-eb3e-470e-d3bd-11d0259e6a69"
      },
      "execution_count": 34,
      "outputs": [
        {
          "output_type": "stream",
          "name": "stdout",
          "text": [
            "Image shape: (240, 240, 155, 4)\n",
            "Label shape: (240, 240, 155)\n"
          ]
        }
      ]
    },
    {
      "cell_type": "code",
      "source": [
        "# Plot a slice of the volume in the 4 modalities\n",
        "\n",
        "import matplotlib.pyplot as plt\n",
        "import numpy as np\n",
        "\n",
        "n_slice = 70\n",
        "\n",
        "slices = image_data[:, :, n_slice, :]\n",
        "\n",
        "plt.figure(figsize=(16, 4))\n",
        "\n",
        "modality_names = ['FLAIR', 'T1w', 'T1-Gd', 'T2w']\n",
        "\n",
        "for i in range(4):\n",
        "    plt.subplot(1, 4, i + 1)\n",
        "    plt.imshow(slices[:, :, i], cmap='gray')\n",
        "    plt.title(f'Modality {i} ({modality_names[i]})')\n",
        "    plt.axis('off')\n",
        "\n",
        "plt.tight_layout()\n",
        "plt.show()\n"
      ],
      "metadata": {
        "colab": {
          "base_uri": "https://localhost:8080/",
          "height": 249
        },
        "id": "CC_W4ZVPmhys",
        "outputId": "778c8d22-8c02-401b-d02e-6ebf529976fa"
      },
      "execution_count": 45,
      "outputs": [
        {
          "output_type": "display_data",
          "data": {
            "text/plain": [
              "<Figure size 1600x400 with 4 Axes>"
            ],
            "image/png": "[encoded data removed]"
          },
          "metadata": {}
        }
      ]
    },
    {
      "cell_type": "code",
      "source": [
        "# Plot the respective label\n",
        "\n",
        "import matplotlib.pyplot as plt\n",
        "import matplotlib.patches as mpatches\n",
        "import matplotlib.cm as cm\n",
        "import numpy as np\n",
        "from matplotlib.colors import ListedColormap\n",
        "\n",
        "label_slice = label_data[:, :, n_slice]\n",
        "\n",
        "class_labels = {\n",
        "    0: 'Background',\n",
        "    1: 'Edema',\n",
        "    2: 'Non-enhancing Tumor',\n",
        "    3: 'Enhancing Tumor'\n",
        "}\n",
        "\n",
        "# Get the 'jet' colormap and create a ListedColormap with 4 colors\n",
        "jet = plt.colormaps.get_cmap('jet')\n",
        "cmap = ListedColormap([jet(i/3.0) for i in range(4)])\n",
        "\n",
        "\n",
        "plt.figure(figsize=(6, 6))\n",
        "plt.imshow(label_slice, cmap=cmap, interpolation='nearest')\n",
        "plt.title(f\"Label Mask — Slice {n_slice}\")\n",
        "plt.axis('off')\n",
        "\n",
        "\n",
        "legend_patches = [\n",
        "    mpatches.Patch(color=cmap(i), label=f\"{i}: {name}\")\n",
        "    for i, name in class_labels.items()\n",
        "]\n",
        "\n",
        "plt.legend(handles=legend_patches, bbox_to_anchor=(1.05, 1), loc='upper left')\n",
        "plt.tight_layout()\n",
        "plt.show()"
      ],
      "metadata": {
        "colab": {
          "base_uri": "https://localhost:8080/",
          "height": 380
        },
        "id": "CCwAYzl-nFsV",
        "outputId": "5a847a4b-3da6-43f4-fdb9-24ead5513c5a"
      },
      "execution_count": 46,
      "outputs": [
        {
          "output_type": "display_data",
          "data": {
            "text/plain": [
              "<Figure size 600x600 with 1 Axes>"
            ],
            "image/png": "[encoded data removed]"
          },
          "metadata": {}
        }
      ]
    },
    {
      "cell_type": "code",
      "source": [
        "class_counts = {}\n",
        "\n",
        "for filename in tqdm(os.listdir(labels_folder), desc=\"Processing label files\", unit=\"file\"):\n",
        "    if filename.endswith('.nii.gz'):\n",
        "        label_path = os.path.join(labels_folder, filename)\n",
        "        try:\n",
        "            label_nii = nib.load(label_path)\n",
        "            label_data = label_nii.get_fdata().astype(int)\n",
        "\n",
        "            unique_classes, counts = np.unique(label_data, return_counts=True)\n",
        "\n",
        "            for cls, count in zip(unique_classes, counts):\n",
        "                if cls not in class_counts:\n",
        "                    class_counts[cls] = 0\n",
        "                class_counts[cls] += count\n",
        "        except Exception as e:\n",
        "            print(f\"Error processing file {filename}: {e}\")\n",
        "\n",
        "# Prepare data for plotting\n",
        "classes = list(class_counts.keys())\n",
        "counts = list(class_counts.values())\n",
        "\n",
        "# Sort classes for consistent plotting\n",
        "sorted_classes, sorted_counts = zip(*sorted(zip(classes, counts)))\n",
        "\n",
        "# Map class IDs to labels\n",
        "class_labels_map = {\n",
        "    0: 'Background',\n",
        "    1: 'Edema',\n",
        "    2: 'Non-enhancing Tumor',\n",
        "    3: 'Enhancing Tumor'\n",
        "}\n",
        "class_names = [class_labels_map.get(cls, f'Class {cls}') for cls in sorted_classes]\n",
        "\n",
        "# Create the plot\n",
        "plt.figure(figsize=(10, 6))\n",
        "plt.bar(class_names, sorted_counts)\n",
        "plt.xlabel('Class')\n",
        "plt.ylabel('Number of Voxels')\n",
        "plt.title('Distribution of Classes in Label Files')\n",
        "plt.xticks(rotation=45, ha='right')\n",
        "plt.tight_layout()\n",
        "plt.show()"
      ],
      "metadata": {
        "colab": {
          "base_uri": "https://localhost:8080/",
          "height": 605
        },
        "id": "YywprWgSpFGc",
        "outputId": "98722c7e-805e-4fbe-a133-f92b4f3ffbd5"
      },
      "execution_count": 47,
      "outputs": [
        {
          "output_type": "stream",
          "name": "stderr",
          "text": [
            "Processing label files:  29%|██▉       | 141/485 [00:34<01:30,  3.79file/s]"
          ]
        },
        {
          "output_type": "stream",
          "name": "stdout",
          "text": [
            "Error processing file ._BRATS_166.nii.gz: File /content/Task01_BrainTumour/labelsTr/._BRATS_166.nii.gz is not a gzip file\n"
          ]
        },
        {
          "output_type": "stream",
          "name": "stderr",
          "text": [
            "Processing label files: 100%|██████████| 485/485 [01:51<00:00,  4.34file/s]\n"
          ]
        },
        {
          "output_type": "display_data",
          "data": {
            "text/plain": [
              "<Figure size 1000x600 with 1 Axes>"
            ],
            "image/png": "[encoded data removed]"
          },
          "metadata": {}
        }
      ]
    },
    {
      "cell_type": "code",
      "source": [
        "# prompt: looking at past cell, plot only the 3 classes not 0\n",
        "\n",
        "# Prepare data for plotting, excluding class 0\n",
        "classes_to_plot = [cls for cls in sorted_classes if cls != 0]\n",
        "counts_to_plot = [count for cls, count in zip(sorted_classes, sorted_counts) if cls != 0]\n",
        "names_to_plot = [class_labels_map.get(cls, f'Class {cls}') for cls in classes_to_plot]\n",
        "\n",
        "# Create the plot\n",
        "plt.figure(figsize=(10, 6))\n",
        "plt.bar(names_to_plot, counts_to_plot)\n",
        "plt.xlabel('Class')\n",
        "plt.ylabel('Number of Voxels')\n",
        "plt.title('Distribution of Tumor Classes in Label Files')\n",
        "plt.xticks(rotation=45, ha='right')\n",
        "plt.tight_layout()\n",
        "plt.show()"
      ],
      "metadata": {
        "colab": {
          "base_uri": "https://localhost:8080/",
          "height": 550
        },
        "id": "ZNMp0FS9p7ub",
        "outputId": "d781ce19-7092-42b9-957a-8b68ff16ab15"
      },
      "execution_count": 48,
      "outputs": [
        {
          "output_type": "display_data",
          "data": {
            "text/plain": [
              "<Figure size 1000x600 with 1 Axes>"
            ],
            "image/png": "[encoded data removed]"
          },
          "metadata": {}
        }
      ]
    },
    {
      "cell_type": "markdown",
      "source": [],
      "metadata": {
        "id": "F63nKM9uoPwr"
      }
    },
    {
      "cell_type": "markdown",
      "metadata": {
        "id": "k1V-S0uVkVp_"
      },
      "source": [
        "# Preprocessing functions\n",
        "\n"
      ]
    },
    {
      "cell_type": "markdown",
      "metadata": {
        "id": "gM5aw3Ur617v"
      },
      "source": [
        "## Retrieve data IDs to use"
      ]
    },
    {
      "cell_type": "code",
      "execution_count": 10,
      "metadata": {
        "id": "q9xx4AzQ7ySA"
      },
      "outputs": [],
      "source": [
        "import os\n",
        "import json\n",
        "\n",
        "def retrieve_ids_list(dataset_json_path):\n",
        "\n",
        "    with open(dataset_json_path, 'r') as f:\n",
        "        data = json.load(f)\n",
        "\n",
        "    data_ids = []\n",
        "\n",
        "    for entry in data['training']:\n",
        "        image_path = entry['image']\n",
        "        filename = os.path.basename(image_path)\n",
        "        image_id = filename.replace('.nii.gz', '')\n",
        "        data_ids.append(image_id)\n",
        "\n",
        "    print(\"Number of IDs extracted:\", len(data_ids))\n",
        "    print(\"First 5 IDs of the list:\", data_ids[:5])\n",
        "    return data_ids\n",
        "\n",
        "\n",
        "\n"
      ]
    },
    {
      "cell_type": "markdown",
      "source": [
        "## Cropping samples\n"
      ],
      "metadata": {
        "id": "qOznwkSxm1Pk"
      }
    },
    {
      "cell_type": "code",
      "execution_count": 11,
      "metadata": {
        "id": "0RpwdEfr9Xs-"
      },
      "outputs": [],
      "source": [
        "import os\n",
        "import nibabel as nib\n",
        "import numpy as np\n",
        "from tqdm import tqdm\n",
        "\n",
        "import nibabel as nib\n",
        "\n",
        "import nibabel as nib\n",
        "\n",
        "def crop_file(file_path, height_range=(40, 200), width_range=(40, 200), depth_range=(13, 141)):\n",
        "\n",
        "    nii_file = nib.load(file_path)\n",
        "    data = nii_file.get_fdata()\n",
        "\n",
        "    h_start, h_end = height_range\n",
        "    w_start, w_end = width_range\n",
        "    d_start, d_end = depth_range\n",
        "\n",
        "    if data.ndim == 4:\n",
        "        cropped_data = data[h_start:h_end, w_start:w_end, d_start:d_end, :]\n",
        "    elif data.ndim == 3:\n",
        "        cropped_data = data[h_start:h_end, w_start:w_end, d_start:d_end]\n",
        "\n",
        "    cropped_nii = nib.Nifti1Image(cropped_data, affine=nii_file.affine, header=nii_file.header)\n",
        "    return cropped_nii"
      ]
    },
    {
      "cell_type": "markdown",
      "metadata": {
        "id": "bhnVD-a6cytG"
      },
      "source": [
        "## Split samples with almost only background"
      ]
    },
    {
      "cell_type": "code",
      "execution_count": 12,
      "metadata": {
        "id": "W7YnNMqfvFNz"
      },
      "outputs": [],
      "source": [
        "import os\n",
        "import nibabel as nib\n",
        "import numpy as np\n",
        "from tqdm import tqdm\n",
        "\n",
        "def split_samples_by_presence_of_tumor_labels(labels_folder, threshold=0.01):\n",
        "\n",
        "    above_threshold_ids = []\n",
        "    below_threshold_ids = []\n",
        "\n",
        "    for id in tqdm(os.listdir(labels_folder), desc=\"Splitting samples by tumor labels presence: \", unit=\"file\"):\n",
        "\n",
        "        label_path = f\"{labels_folder}/{id}\"\n",
        "        label_nii = nib.load(label_path)\n",
        "        label_data = label_nii.get_fdata().astype(np.uint8)\n",
        "\n",
        "        total_labels = np.prod(label_data.shape)\n",
        "        non_background_labels = np.sum(label_data > 0)\n",
        "        ratio = non_background_labels / total_labels\n",
        "\n",
        "        id = id.split('.')[0]\n",
        "        if ratio >= threshold:\n",
        "            above_threshold_ids.append(id)\n",
        "        else:\n",
        "            below_threshold_ids.append(id)\n",
        "\n",
        "    print(f\"{len(above_threshold_ids)} samples above the threshold\")\n",
        "    print(f\"{len(below_threshold_ids)} samples below the threshold\")\n",
        "\n",
        "    return above_threshold_ids, below_threshold_ids\n",
        "\n",
        "\n"
      ]
    },
    {
      "cell_type": "markdown",
      "metadata": {
        "id": "05o8Ot97TB_c"
      },
      "source": [
        "## Keep only 2 modalities"
      ]
    },
    {
      "cell_type": "code",
      "execution_count": 13,
      "metadata": {
        "id": "4AgteLMktAcC"
      },
      "outputs": [],
      "source": [
        "import os\n",
        "import nibabel as nib\n",
        "import numpy as np\n",
        "import shutil\n",
        "from tqdm import tqdm\n",
        "\n",
        "def extract_modalities(image_path, channels=[0, 2]):\n",
        "\n",
        "    if not os.path.exists(image_path):\n",
        "        raise FileNotFoundError(f\"{image_path} does not exist\")\n",
        "\n",
        "    image_nii = nib.load(image_path)\n",
        "    image_data = image_nii.get_fdata()\n",
        "    selected_channels_data = image_data[:, :, :, channels]\n",
        "\n",
        "    return nib.Nifti1Image(selected_channels_data, affine=image_nii.affine, header=image_nii.header)\n",
        "\n"
      ]
    },
    {
      "cell_type": "markdown",
      "source": [
        "## Normalization"
      ],
      "metadata": {
        "id": "pbY-OQ18mP21"
      }
    },
    {
      "cell_type": "code",
      "execution_count": 14,
      "metadata": {
        "id": "PfPS_fgH7_js"
      },
      "outputs": [],
      "source": [
        "import nibabel as nib\n",
        "import numpy as np\n",
        "\n",
        "def normalize_image(image_path):\n",
        "\n",
        "    image_nii = nib.load(image_path)\n",
        "    image = image_nii.get_fdata()\n",
        "\n",
        "    normalized_image = np.zeros_like(image)\n",
        "\n",
        "    for m in range(image.shape[3]):\n",
        "       modality = image[..., m]\n",
        "       min_val = modality.min()\n",
        "       max_val = modality.max()\n",
        "\n",
        "       if max_val > min_val:\n",
        "          normalized_image[..., m] = (modality - min_val) / (max_val - min_val)\n",
        "       else:\n",
        "          normalized_image[..., m] = 0.0\n",
        "\n",
        "    return nib.Nifti1Image(normalized_image, affine=image_nii.affine, header=image_nii.header)\n",
        "\n"
      ]
    },
    {
      "cell_type": "markdown",
      "source": [
        "# Preprocessing execution"
      ],
      "metadata": {
        "id": "QjoAiMnzyyYY"
      }
    },
    {
      "cell_type": "code",
      "source": [
        "# Extract dataset tar\n",
        "dataset_path = '/content/drive/MyDrive/Task01_BrainTumour.tar'\n",
        "extract_tar(dataset_path)\n",
        "\n",
        "# Main folders now\n",
        "images_folder = '/content/Task01_BrainTumour/imagesTr'\n",
        "labels_folder = '/content/Task01_BrainTumour/labelsTr'"
      ],
      "metadata": {
        "id": "RGCW_rT4huup",
        "colab": {
          "base_uri": "https://localhost:8080/"
        },
        "outputId": "0f57439e-0e3a-4485-ec9d-b8f8b738292c"
      },
      "execution_count": null,
      "outputs": [
        {
          "output_type": "stream",
          "name": "stderr",
          "text": [
            "Extracting: 100%|██████████| 1277/1277 [01:10<00:00, 18.19file/s]"
          ]
        },
        {
          "output_type": "stream",
          "name": "stdout",
          "text": [
            "Extracted to: /content\n"
          ]
        },
        {
          "output_type": "stream",
          "name": "stderr",
          "text": [
            "\n"
          ]
        }
      ]
    },
    {
      "cell_type": "code",
      "source": [
        "# Select IDs from the JSON\n",
        "dataset_json_path = '/content/Task01_BrainTumour/dataset.json'\n",
        "data_ids = retrieve_ids_list(dataset_json_path)\n",
        "\n",
        "# Copy selected images to another folder\n",
        "images_destination_folder = '/content/selected_imagesTr'\n",
        "copy_files_to_another_folder(images_folder, images_destination_folder, data_ids)\n",
        "\n",
        "# Copy selected labels to another folder\n",
        "labels_destination_folder = '/content/selected_labelsTr'\n",
        "copy_files_to_another_folder(labels_folder, labels_destination_folder, data_ids)\n",
        "\n",
        "# Delete dataset folder to free space\n",
        "colab_dataset_path = '/content/Task01_BrainTumour'\n",
        "delete_folders([colab_dataset_path])\n",
        "\n",
        "# Main folders now\n",
        "images_folder = images_destination_folder\n",
        "labels_folder = labels_destination_folder\n"
      ],
      "metadata": {
        "id": "MEfOza6Wmjxq",
        "colab": {
          "base_uri": "https://localhost:8080/"
        },
        "outputId": "1d16a466-39fa-42ec-cd6a-9ef80bf153fb"
      },
      "execution_count": null,
      "outputs": [
        {
          "output_type": "stream",
          "name": "stdout",
          "text": [
            "Number of IDs extracted: 484\n",
            "First 5 IDs of the list: ['BRATS_457', 'BRATS_306', 'BRATS_206', 'BRATS_449', 'BRATS_318']\n"
          ]
        },
        {
          "output_type": "stream",
          "name": "stderr",
          "text": [
            "Copying from /content/Task01_BrainTumour/imagesTr to /content/selected_imagesTr: 100%|██████████| 484/484 [00:32<00:00, 14.97file/s]\n",
            "Copying from /content/Task01_BrainTumour/labelsTr to /content/selected_labelsTr: 100%|██████████| 484/484 [00:00<00:00, 3514.37file/s]\n"
          ]
        },
        {
          "output_type": "stream",
          "name": "stdout",
          "text": [
            "Deleted: /content/Task01_BrainTumour\n"
          ]
        }
      ]
    },
    {
      "cell_type": "code",
      "source": [
        "# Crop images\n",
        "images_destination_folder = '/content/cropped_imagesTr'\n",
        "apply_function_to_folder(images_folder, images_destination_folder, crop_file)\n",
        "\n",
        "# Crop labels\n",
        "labels_destination_folder = '/content/cropped_labelsTr'\n",
        "apply_function_to_folder(labels_folder, labels_destination_folder, crop_file)\n",
        "\n",
        "# Delete folders to free space\n",
        "delete_folders([images_folder, labels_folder])\n",
        "\n",
        "# Main folders now\n",
        "images_folder = images_destination_folder\n",
        "labels_folder = labels_destination_folder\n"
      ],
      "metadata": {
        "id": "NZlJOx65nsZ5",
        "colab": {
          "base_uri": "https://localhost:8080/"
        },
        "outputId": "6e204898-eb40-4886-ee27-5c49a0af653a"
      },
      "execution_count": null,
      "outputs": [
        {
          "output_type": "stream",
          "name": "stderr",
          "text": [
            "Applying function to files in /content/selected_imagesTr: 100%|██████████| 484/484 [11:49<00:00,  1.47s/file]\n",
            "Applying function to files in /content/selected_labelsTr: 100%|██████████| 484/484 [00:49<00:00,  9.78file/s]\n"
          ]
        },
        {
          "output_type": "stream",
          "name": "stdout",
          "text": [
            "Deleted: /content/selected_imagesTr\n",
            "Deleted: /content/selected_labelsTr\n"
          ]
        }
      ]
    },
    {
      "cell_type": "code",
      "execution_count": null,
      "metadata": {
        "id": "JiNaF_mi5YJD",
        "colab": {
          "base_uri": "https://localhost:8080/"
        },
        "outputId": "83fab0ab-888b-4440-f87d-bcc65ca2476b"
      },
      "outputs": [
        {
          "output_type": "stream",
          "name": "stderr",
          "text": [
            "Splitting samples by tumor labels presence: 100%|██████████| 484/484 [00:07<00:00, 64.38file/s]\n"
          ]
        },
        {
          "output_type": "stream",
          "name": "stdout",
          "text": [
            "420 samples above the threshold\n",
            "64 samples below the threshold\n"
          ]
        },
        {
          "output_type": "stream",
          "name": "stderr",
          "text": [
            "Copying from /content/cropped_imagesTr to /content/relevant_samples_imagesTr: 100%|██████████| 420/420 [00:39<00:00, 10.69file/s]\n",
            "Copying from /content/cropped_labelsTr to /content/relevant_samples_labelsTr: 100%|██████████| 420/420 [00:00<00:00, 6707.46file/s]\n",
            "Copying from /content/cropped_imagesTr to /content/non_relevant_samples/imagesTr: 100%|██████████| 64/64 [00:06<00:00,  9.45file/s]\n",
            "Copying from /content/cropped_labelsTr to /content/non_relevant_samples/labelsTr: 100%|██████████| 64/64 [00:00<00:00, 9102.28file/s]\n"
          ]
        },
        {
          "output_type": "stream",
          "name": "stdout",
          "text": [
            "Zipped folder to: /content/non_relevant_samples.zip\n",
            "Uploaded to Drive at: /content/drive/MyDrive/\n",
            "Deleted: /content/cropped_imagesTr\n",
            "Deleted: /content/cropped_labelsTr\n",
            "Deleted: /content/non_relevant_samples\n",
            "Total files (including subfolders): 420\n"
          ]
        }
      ],
      "source": [
        "# Split samples with almost no tumor labels from others (could be used later)\n",
        "above_threshold_ids, below_threshold_ids = split_samples_by_presence_of_tumor_labels(labels_folder)\n",
        "\n",
        "# Put relevant images in another folder\n",
        "rel_images_destination_folder = '/content/relevant_samples_imagesTr'\n",
        "copy_files_to_another_folder(images_folder, rel_images_destination_folder, above_threshold_ids)\n",
        "\n",
        "# Put relevant labels in another folder\n",
        "rel_labels_destination_folder = '/content/relevant_samples_labelsTr'\n",
        "copy_files_to_another_folder(labels_folder, rel_labels_destination_folder, above_threshold_ids)\n",
        "\n",
        "# Put non relevant images in another folder\n",
        "non_rel_images_destination_folder = '/content/non_relevant_samples/imagesTr'\n",
        "copy_files_to_another_folder(images_folder, non_rel_images_destination_folder, below_threshold_ids)\n",
        "\n",
        "# Put non relevant labels in another folder\n",
        "non_rel_labels_destination_folder = '/content/non_relevant_samples/labelsTr'\n",
        "copy_files_to_another_folder(labels_folder, non_rel_labels_destination_folder, below_threshold_ids)\n",
        "\n",
        "# Upload non relevant samples zip to drive\n",
        "non_rel_samples_path = '/content/non_relevant_samples'\n",
        "save_zip_to_drive(non_rel_samples_path, 'non_relevant_samples')\n",
        "\n",
        "\n",
        "# Delete past folders to free space\n",
        "delete_folders([images_folder, labels_folder, non_rel_samples_path])\n",
        "\n",
        "# Main folders now\n",
        "images_folder = rel_images_destination_folder\n",
        "labels_folder = rel_labels_destination_folder"
      ]
    },
    {
      "cell_type": "code",
      "source": [
        "# Keep just FLAIR and t1gt modalities\n",
        "images_destination_folder = '/content/2channel_imagesTr'\n",
        "apply_function_to_folder(images_folder, images_destination_folder, extract_modalities)\n",
        "\n",
        "# Delete image folder to free space\n",
        "delete_folders([images_folder])\n",
        "\n",
        "# Main folders now\n",
        "images_folder = images_destination_folder\n",
        "labels_folder = labels_folder"
      ],
      "metadata": {
        "id": "kMlIS9vFjUS9",
        "colab": {
          "base_uri": "https://localhost:8080/"
        },
        "outputId": "0fb27689-be0b-4acf-a4e4-5dfe7da0bb7a"
      },
      "execution_count": null,
      "outputs": [
        {
          "output_type": "stream",
          "name": "stderr",
          "text": [
            "Applying function to files in /content/relevant_samples_imagesTr: 100%|██████████| 420/420 [04:53<00:00,  1.43file/s]\n"
          ]
        },
        {
          "output_type": "stream",
          "name": "stdout",
          "text": [
            "Deleted: /content/relevant_samples_imagesTr\n"
          ]
        }
      ]
    },
    {
      "cell_type": "code",
      "source": [
        "# Normalize per sample\n",
        "images_destination_folder = '/content/normalized_imagesTr'\n",
        "apply_function_to_folder(images_folder, images_destination_folder, normalize_image)\n",
        "\n",
        "# Delete image folder to free space\n",
        "delete_folders([images_folder])\n",
        "\n",
        "# Main folders now\n",
        "images_folder = images_destination_folder\n",
        "labels_folder = labels_folder"
      ],
      "metadata": {
        "id": "L4A8x3Y1mlPd",
        "colab": {
          "base_uri": "https://localhost:8080/"
        },
        "outputId": "334f2d68-4400-48c4-8ee4-1e14e54f813b"
      },
      "execution_count": null,
      "outputs": [
        {
          "output_type": "stream",
          "name": "stderr",
          "text": [
            "Applying function to files in /content/2channel_imagesTr: 100%|██████████| 420/420 [03:23<00:00,  2.07file/s]\n"
          ]
        },
        {
          "output_type": "stream",
          "name": "stdout",
          "text": [
            "Deleted: /content/2channel_imagesTr\n"
          ]
        }
      ]
    },
    {
      "cell_type": "code",
      "source": [
        "# Move images and labels to a single final folder\n",
        "final_images_destination_folder = '/content/preprocessed_dataset/imagesTr'\n",
        "final_labels_destination_folder = '/content/preprocessed_dataset/labelsTr'\n",
        "copy_files_to_another_folder(images_folder, final_images_destination_folder)\n",
        "copy_files_to_another_folder(labels_folder, final_labels_destination_folder)\n",
        "\n",
        "# Upload zip of final dataset to Drive\n",
        "final_dataset_path = '/content/preprocessed_dataset'\n",
        "save_zip_to_drive(final_dataset_path, 'preprocessed_dataset')\n",
        "\n",
        "# Delete folders to free space\n",
        "delete_folders([images_folder, labels_folder, final_dataset_path])\n"
      ],
      "metadata": {
        "id": "41D34e0bEWej",
        "colab": {
          "base_uri": "https://localhost:8080/"
        },
        "outputId": "0d7e7bbb-94dd-466b-ab84-71199aaca0ff"
      },
      "execution_count": null,
      "outputs": [
        {
          "output_type": "stream",
          "name": "stderr",
          "text": [
            "Copying from /content/normalized_imagesTr to /content/preprocessed_dataset/imagesTr: 100%|██████████| 420/420 [00:55<00:00,  7.60file/s]\n",
            "Copying from /content/relevant_samples_labelsTr to /content/preprocessed_dataset/labelsTr: 100%|██████████| 420/420 [00:00<00:00, 3576.85file/s]\n"
          ]
        },
        {
          "output_type": "stream",
          "name": "stdout",
          "text": [
            "Zipped folder to: /content/preprocessed_dataset.zip\n",
            "Uploaded to Drive at: /content/drive/MyDrive/\n",
            "Deleted: /content/normalized_imagesTr\n",
            "Deleted: /content/relevant_samples_labelsTr\n",
            "Deleted: /content/preprocessed_dataset\n"
          ]
        }
      ]
    },
    {
      "cell_type": "markdown",
      "source": [
        "# Extract preprocessed dataset\n"
      ],
      "metadata": {
        "id": "Hs7el_y4Hpfs"
      }
    },
    {
      "cell_type": "code",
      "source": [
        "# Unzip preprocessed dataset from Drive to Colab\n",
        "preprocessed_dataset_path = '/content/drive/MyDrive/preprocessed_dataset.zip'\n",
        "extract_zip(preprocessed_dataset_path)\n",
        "\n",
        "# Main folder\n",
        "images_folder = '/content/imagesTr'\n",
        "labels_folder = '/content/labelsTr'"
      ],
      "metadata": {
        "colab": {
          "base_uri": "https://localhost:8080/"
        },
        "id": "CBg58SGhHCth",
        "outputId": "0800b11d-e29a-43b7-f53e-33acfbdcc591"
      },
      "execution_count": 14,
      "outputs": [
        {
          "output_type": "stream",
          "name": "stderr",
          "text": [
            "Extracting: 100%|██████████| 842/842 [00:52<00:00, 15.98file/s] "
          ]
        },
        {
          "output_type": "stream",
          "name": "stdout",
          "text": [
            "Extracted to: /content\n"
          ]
        },
        {
          "output_type": "stream",
          "name": "stderr",
          "text": [
            "\n"
          ]
        }
      ]
    },
    {
      "cell_type": "markdown",
      "metadata": {
        "id": "T70zCXsjuuRi"
      },
      "source": [
        "# Model setup functions\n"
      ]
    },
    {
      "cell_type": "markdown",
      "source": [
        "## Split IDs into Train, Validaton and Test"
      ],
      "metadata": {
        "id": "uHS8wAxA0BeL"
      }
    },
    {
      "cell_type": "markdown",
      "source": [
        "### Random"
      ],
      "metadata": {
        "id": "InhR9m-jpP28"
      }
    },
    {
      "cell_type": "code",
      "source": [
        "import os\n",
        "from sklearn.model_selection import train_test_split\n",
        "\n",
        "def split_ids_into_train_val_test(images_folder, train_ratio=0.8, validation_ratio=0.1, test_ratio=0.1, seed=1748):\n",
        "\n",
        "    ids = [f.replace('.nii.gz', '') for f in os.listdir(images_folder)]\n",
        "    ids.sort()\n",
        "\n",
        "    train_ids, val_test_ids = train_test_split(ids, test_size=(1 - train_ratio), random_state=seed)\n",
        "\n",
        "    validation_size = validation_ratio / (validation_ratio + test_ratio)\n",
        "    validation_ids, test_ids = train_test_split(val_test_ids, test_size=(1 - validation_size), random_state=seed)\n",
        "\n",
        "    print(f\"Total IDs count: {len(ids)}\")\n",
        "    print(f\"Train IDs count: {len(train_ids)}\")\n",
        "    print(f\"Validation IDs count: {len(validation_ids)}\")\n",
        "    print(f\"Test IDs count: {len(test_ids)}\")\n",
        "\n",
        "    return train_ids, validation_ids, test_ids\n"
      ],
      "metadata": {
        "id": "Mts6Y-Ie0BKS"
      },
      "execution_count": 15,
      "outputs": []
    },
    {
      "cell_type": "markdown",
      "source": [
        "### Stratification"
      ],
      "metadata": {
        "id": "zL7vUHkZpIW3"
      }
    },
    {
      "cell_type": "code",
      "source": [
        "import os\n",
        "import numpy as np\n",
        "import nibabel as nib\n",
        "import pandas as pd\n",
        "from sklearn.model_selection import train_test_split\n",
        "\n",
        "def stratified_split_ids(images_folder, labels_folder,\n",
        "                         train_ratio=0.8, validation_ratio=0.1, test_ratio=0.1,\n",
        "                         seed=1748):\n",
        "    stats = []\n",
        "    for fname in sorted(os.listdir(labels_folder)):\n",
        "        if not fname.endswith('.nii.gz'):\n",
        "            continue\n",
        "\n",
        "        pid = fname.replace('.nii.gz', '')\n",
        "        label = nib.load(os.path.join(labels_folder, fname)).get_fdata()\n",
        "        class_counts = np.bincount(label.astype(np.int32).flatten(), minlength=4)\n",
        "        volume = np.sum(label > 0)\n",
        "\n",
        "        stats.append({\n",
        "            \"filename\": pid,\n",
        "            \"volume\": volume,\n",
        "            \"class0\": class_counts[0],\n",
        "            \"class1\": class_counts[1],\n",
        "            \"class2\": class_counts[2],\n",
        "            \"class3\": class_counts[3]\n",
        "        })\n",
        "\n",
        "    df = pd.DataFrame(stats)\n",
        "    df['volume_bin'] = pd.qcut(df['volume'], q=4, labels=False, duplicates='drop')\n",
        "\n",
        "    # Create stratification label based on volume bin + class presence\n",
        "    df['strat_label'] = df.apply(\n",
        "        lambda row: f\"{row['volume_bin']}_{int(row['class1'] > 0)}{int(row['class2'] > 0)}{int(row['class3'] > 0)}\",\n",
        "        axis=1\n",
        "    )\n",
        "\n",
        "    # Handle rare strat groups (less than 2 samples)\n",
        "    strat_counts = df['strat_label'].value_counts()\n",
        "    rare_groups = strat_counts[strat_counts < 2].index\n",
        "\n",
        "    print(\"\\nSamples in rare stratification groups (< 2 samples):\")\n",
        "    for group in rare_groups:\n",
        "        samples = df[df['strat_label'] == group]['filename'].tolist()\n",
        "        print(f\"  {group}: {samples}\")\n",
        "\n",
        "    df['strat_label'] = df['strat_label'].apply(lambda x: 'rare' if x in rare_groups else x)\n",
        "    strat_counts = df['strat_label'].value_counts()\n",
        "\n",
        "    # Reassign single-member groups (including 'rare') to largest group\n",
        "    single_groups = strat_counts[strat_counts < 2].index.tolist()\n",
        "    if single_groups:\n",
        "        largest_group = strat_counts[~strat_counts.index.isin(single_groups)].idxmax()\n",
        "        for group in single_groups:\n",
        "            sample_id = df[df['strat_label'] == group]['filename'].iloc[0]\n",
        "            df.loc[df['filename'] == sample_id, 'strat_label'] = largest_group\n",
        "            print(f\"Reassigned {sample_id} from '{group}' to '{largest_group}'\")\n",
        "\n",
        "    # Final stratified split\n",
        "    ids = df['filename'].values\n",
        "    labels = df['strat_label'].values\n",
        "\n",
        "    trainval_ids, test_ids, trainval_labels, _ = train_test_split(\n",
        "        ids, labels, test_size=test_ratio, stratify=labels, random_state=seed)\n",
        "\n",
        "    val_ratio_adj = validation_ratio / (train_ratio + validation_ratio)\n",
        "    train_ids, validation_ids = train_test_split(\n",
        "        trainval_ids, test_size=val_ratio_adj, stratify=trainval_labels, random_state=seed)\n",
        "\n",
        "    print(f\"\\nTotal IDs:      {len(ids)}\")\n",
        "    print(f\"Train IDs:      {len(train_ids)}\")\n",
        "    print(f\"Validation IDs: {len(validation_ids)}\")\n",
        "    print(f\"Test IDs:       {len(test_ids)}\")\n",
        "\n",
        "    return list(train_ids), list(validation_ids), list(test_ids)\n"
      ],
      "metadata": {
        "id": "m_kPNu9LuEt_"
      },
      "execution_count": 16,
      "outputs": []
    },
    {
      "cell_type": "markdown",
      "source": [
        "## Extract input dimensions"
      ],
      "metadata": {
        "id": "N9z8fwHP99de"
      }
    },
    {
      "cell_type": "code",
      "source": [
        "import os\n",
        "import nibabel as nib\n",
        "\n",
        "def get_input_size(images_folder):\n",
        "\n",
        "    first_image = sorted(os.listdir(images_folder))[0]\n",
        "    image_path = os.path.join(images_folder, first_image)\n",
        "\n",
        "    image_data = nib.load(image_path).get_fdata()\n",
        "\n",
        "    height, width, depth, modalities = image_data.shape\n",
        "\n",
        "    print(f\"Height: {height}, Width: {width}, Depth: {depth}, Modalities: {modalities}\")\n",
        "\n",
        "    return height, width, depth, modalities\n"
      ],
      "metadata": {
        "id": "398nqWT9-ADU"
      },
      "execution_count": 17,
      "outputs": []
    },
    {
      "cell_type": "markdown",
      "source": [
        "# Loss functions"
      ],
      "metadata": {
        "id": "w0fo2kAiD17V"
      }
    },
    {
      "cell_type": "markdown",
      "source": [
        "## Sparse Categorical Class Entropy Loss"
      ],
      "metadata": {
        "id": "xt2VHWWCES-s"
      }
    },
    {
      "cell_type": "code",
      "source": [
        "import tensorflow as tf\n",
        "from tensorflow.keras.losses import Dice, SparseCategoricalCrossentropy\n",
        "\n",
        "scce_loss = SparseCategoricalCrossentropy(from_logits=False)"
      ],
      "metadata": {
        "id": "JRaK-HkwESci"
      },
      "execution_count": 20,
      "outputs": []
    },
    {
      "cell_type": "markdown",
      "source": [
        "## Dice Loss"
      ],
      "metadata": {
        "id": "0AE4CzS6Iy4f"
      }
    },
    {
      "cell_type": "code",
      "source": [
        "import tensorflow as tf\n",
        "from tensorflow.keras.losses import Dice\n",
        "\n",
        "number_of_classes = 4\n",
        "\n",
        "def dice_loss(y_true, y_pred):\n",
        "\n",
        "    y_true = tf.cast(y_true, tf.int32)\n",
        "    y_true_one_hot = tf.one_hot(y_true, depth=number_of_classes)\n",
        "\n",
        "    return Dice(axis=(1, 2))(y_true_one_hot, y_pred)"
      ],
      "metadata": {
        "id": "hH-tIU5uI5zG"
      },
      "execution_count": 21,
      "outputs": []
    },
    {
      "cell_type": "markdown",
      "source": [
        "## Combo Losses"
      ],
      "metadata": {
        "id": "YMH9wqOmJVDx"
      }
    },
    {
      "cell_type": "markdown",
      "source": [
        "### Sparse Categorical Cross Entropy Loss and Dice Loss"
      ],
      "metadata": {
        "id": "hQ6lbiL-K3Df"
      }
    },
    {
      "cell_type": "code",
      "source": [
        "def combo_scce_dice_loss(y_true, y_pred, alpha=0.5):\n",
        "    scce_loss_value = scce_loss(y_true, y_pred)\n",
        "    dice_loss_value = dice_loss(y_true, y_pred)\n",
        "    return alpha * scce_loss_value + (1 - alpha) * dice_loss_value\n"
      ],
      "metadata": {
        "id": "IqQjd-BNJUgR"
      },
      "execution_count": 22,
      "outputs": []
    },
    {
      "cell_type": "markdown",
      "source": [
        "# Metrics"
      ],
      "metadata": {
        "id": "ATwTqDrPLXHW"
      }
    },
    {
      "cell_type": "markdown",
      "source": [
        "## Intersection over Union"
      ],
      "metadata": {
        "id": "5natTvCoLbtT"
      }
    },
    {
      "cell_type": "code",
      "source": [
        "from tensorflow.keras.metrics import MeanIoU\n",
        "\n",
        "number_of_classes = 4\n",
        "\n",
        "iou_metric = MeanIoU(\n",
        "    num_classes=number_of_classes,\n",
        "    sparse_y_true=True,\n",
        "    sparse_y_pred=False,\n",
        "    name=\"IoU\"\n",
        ")"
      ],
      "metadata": {
        "id": "4_ZDAmovLetp"
      },
      "execution_count": 23,
      "outputs": []
    },
    {
      "cell_type": "markdown",
      "source": [
        "# Callbacks\n"
      ],
      "metadata": {
        "id": "NlzdiSpITzsG"
      }
    },
    {
      "cell_type": "markdown",
      "source": [
        "## Drive checkpoint saver"
      ],
      "metadata": {
        "id": "s-mwbwJBT3Eo"
      }
    },
    {
      "cell_type": "code",
      "source": [
        "import tensorflow as tf\n",
        "from tensorflow.keras.callbacks import ModelCheckpoint\n",
        "\n",
        "checkpoint_callback = ModelCheckpoint(\n",
        "    filepath='/content/drive/MyDrive/checkpoints/dice/epoch_{epoch:02d}.keras',\n",
        "    save_freq='epoch',\n",
        "    save_weights_only=False,\n",
        "    save_best_only=False,\n",
        "    verbose=1\n",
        ")"
      ],
      "metadata": {
        "id": "U5L9-9AsT1rf"
      },
      "execution_count": 24,
      "outputs": []
    },
    {
      "cell_type": "markdown",
      "source": [
        "## Reduce LR on Plateau"
      ],
      "metadata": {
        "id": "9AQynB3OXF9O"
      }
    },
    {
      "cell_type": "code",
      "source": [
        "from tensorflow.keras.callbacks import ReduceLROnPlateau\n",
        "\n",
        "reduce_lr = ReduceLROnPlateau(\n",
        "    monitor='val_loss',\n",
        "    mode='min',\n",
        "    factor=0.5,\n",
        "    patience=2,\n",
        "    min_lr=1e-6,\n",
        "    verbose=1\n",
        ")\n"
      ],
      "metadata": {
        "id": "Yd1Bl1PtXIiP"
      },
      "execution_count": 25,
      "outputs": []
    },
    {
      "cell_type": "markdown",
      "source": [
        "## CSV Logger"
      ],
      "metadata": {
        "id": "K-y6_kLO9R5Q"
      }
    },
    {
      "cell_type": "code",
      "source": [
        "from tensorflow.keras.callbacks import CSVLogger\n",
        "\n",
        "csv_logger = CSVLogger('/content/drive/MyDrive/Colab Notebooks/Deep Learning Project/checkpoints/Cross Entropy & Dice loss v4/losses_metrics.csv', append=True)\n",
        ""
      ],
      "metadata": {
        "id": "c2PkbyjR9Thm"
      },
      "execution_count": null,
      "outputs": []
    },
    {
      "cell_type": "markdown",
      "source": [
        "# 2D Related Code"
      ],
      "metadata": {
        "id": "IuimufsJPW_R"
      }
    },
    {
      "cell_type": "markdown",
      "source": [
        "# 2D U-Net model"
      ],
      "metadata": {
        "id": "qE5U_2GE8r8f"
      }
    },
    {
      "cell_type": "code",
      "source": [
        "from tensorflow.keras import layers, models\n",
        "\n",
        "def conv_block(x, filters):\n",
        "    x = layers.Conv2D(filters, (3, 3), activation='relu', padding='same')(x)\n",
        "    x = layers.Conv2D(filters, (3, 3), activation='relu', padding='same')(x)\n",
        "    return x\n",
        "\n",
        "input_layer = layers.Input(shape=(160, 160, 2))\n",
        "\n",
        "# Encoder (Downsampling path)\n",
        "c1 = conv_block(input_layer, 16)\n",
        "p1 = layers.MaxPooling2D((2, 2))(c1)\n",
        "\n",
        "c2 = conv_block(p1, 32)\n",
        "p2 = layers.MaxPooling2D((2, 2))(c2)\n",
        "\n",
        "c3 = conv_block(p2, 64)\n",
        "p3 = layers.MaxPooling2D((2, 2))(c3)\n",
        "\n",
        "c4 = conv_block(p3, 128)\n",
        "p4 = layers.MaxPooling2D((2, 2))(c4)\n",
        "\n",
        "c5 = conv_block(p4, 256)\n",
        "\n",
        "# Decoder (Upsampling path)\n",
        "u6 = layers.UpSampling2D((2, 2))(c5)\n",
        "u6 = layers.Concatenate()([u6, c4])\n",
        "c6 = conv_block(u6, 128)\n",
        "\n",
        "u7 = layers.UpSampling2D((2, 2))(c6)\n",
        "u7 = layers.Concatenate()([u7, c3])\n",
        "c7 = conv_block(u7, 64)\n",
        "\n",
        "u8 = layers.UpSampling2D((2, 2))(c7)\n",
        "u8 = layers.Concatenate()([u8, c2])\n",
        "c8 = conv_block(u8, 32)\n",
        "\n",
        "u9 = layers.UpSampling2D((2, 2))(c8)\n",
        "u9 = layers.Concatenate()([u9, c1])\n",
        "c9 = conv_block(u9, 16)\n",
        "\n",
        "output_layer = layers.Conv2D(4, (1, 1), activation='softmax')(c9)"
      ],
      "metadata": {
        "id": "jJ2EyqAm8uyu"
      },
      "execution_count": 18,
      "outputs": []
    },
    {
      "cell_type": "markdown",
      "source": [
        "# Data generator for slices"
      ],
      "metadata": {
        "id": "hWwCKiNi_PiT"
      }
    },
    {
      "cell_type": "code",
      "source": [
        "import os, numpy as np, nibabel as nib\n",
        "from tensorflow.keras.utils import Sequence\n",
        "from scipy import ndimage\n",
        "\n",
        "class BrainTumor2DSliceGenerator(Sequence):\n",
        "    def __init__(self,\n",
        "                 images_folder,\n",
        "                 labels_folder,\n",
        "                 ids,\n",
        "                 batch_size=36,\n",
        "                 slice_step=8,\n",
        "                 shuffle=True,\n",
        "                 augment=False):\n",
        "        self.images_folder = images_folder\n",
        "        self.labels_folder = labels_folder\n",
        "        self.batch_size    = batch_size\n",
        "        self.slice_step    = slice_step\n",
        "        self.shuffle       = shuffle\n",
        "        self.augment       = augment\n",
        "        self.ids           = sorted(ids)\n",
        "\n",
        "        self.index_list = self._create_index_list()\n",
        "        if self.shuffle:\n",
        "            np.random.shuffle(self.index_list)\n",
        "\n",
        "    def _create_index_list(self):\n",
        "        index_list = []\n",
        "        for pid in self.ids:\n",
        "            vol_path = os.path.join(self.images_folder, f\"{pid}.nii.gz\")\n",
        "            depth = nib.load(vol_path).shape[2]\n",
        "            index_list.extend([(pid, z) for z in range(0, depth, self.slice_step)])\n",
        "        return index_list\n",
        "\n",
        "    def __len__(self):\n",
        "        return int(np.ceil(len(self.index_list) / self.batch_size))\n",
        "\n",
        "    def __getitem__(self, idx):\n",
        "        batch_specs = self.index_list[idx*self.batch_size:(idx+1)*self.batch_size]\n",
        "        X_list, y_list = [], []\n",
        "\n",
        "        for pid, z in batch_specs:\n",
        "            img = nib.load(os.path.join(self.images_folder, f\"{pid}.nii.gz\")).get_fdata(dtype=np.float32)\n",
        "            msk = nib.load(os.path.join(self.labels_folder,  f\"{pid}.nii.gz\")).get_fdata()\n",
        "\n",
        "            img_slice = img[:, :, z, :]\n",
        "            msk_slice = msk[:, :, z]\n",
        "\n",
        "            if self.augment:\n",
        "                # horizontal flip\n",
        "                if np.random.rand() < 0.5:\n",
        "                    img_slice = np.flip(img_slice, 1)\n",
        "                    msk_slice = np.flip(msk_slice, 1)\n",
        "\n",
        "                # vertical flip\n",
        "                if np.random.rand() < 0.5:\n",
        "                    img_slice = np.flip(img_slice, 0)\n",
        "                    msk_slice = np.flip(msk_slice, 0)\n",
        "\n",
        "                # small rotation\n",
        "                if np.random.rand() < 0.3:\n",
        "                    angle = np.random.uniform(-15, 15)\n",
        "                    for c in range(img_slice.shape[-1]):\n",
        "                        img_slice[..., c] = ndimage.rotate(\n",
        "                            img_slice[..., c], angle,\n",
        "                            reshape=False, order=1, mode='nearest')\n",
        "                    msk_slice = ndimage.rotate(\n",
        "                        msk_slice, angle,\n",
        "                        reshape=False, order=0, mode='nearest')\n",
        "\n",
        "                # light gaussian noise\n",
        "                if np.random.rand() < 0.3:\n",
        "                    img_slice += np.random.normal(0, 0.01, img_slice.shape).astype(np.float32)\n",
        "\n",
        "            X_list.append(img_slice.astype(np.float32))\n",
        "            y_list.append(msk_slice.astype(np.int32))\n",
        "\n",
        "        X_batch = np.stack(X_list, axis=0)\n",
        "        y_batch = np.stack(y_list, axis=0)\n",
        "\n",
        "        return X_batch, y_batch\n",
        "\n",
        "    def on_epoch_end(self):\n",
        "        if self.shuffle:\n",
        "            np.random.shuffle(self.index_list)\n",
        "\n"
      ],
      "metadata": {
        "id": "XbarDTlYBRmC"
      },
      "execution_count": 19,
      "outputs": []
    },
    {
      "cell_type": "markdown",
      "source": [
        "# Model setup"
      ],
      "metadata": {
        "id": "zQt5UZ308Iy_"
      }
    },
    {
      "cell_type": "markdown",
      "source": [
        "## Training from scratch"
      ],
      "metadata": {
        "id": "yQ0lrAq7T4dT"
      }
    },
    {
      "cell_type": "markdown",
      "source": [
        "### First ids Split"
      ],
      "metadata": {
        "id": "qSFOHSuyxFa-"
      }
    },
    {
      "cell_type": "code",
      "source": [
        "# Split IDs with stratification into train, test and validation (default ratio is 80, 10, 10)\n",
        "train_ids, validation_ids, test_ids = stratified_split_ids(images_folder, labels_folder)"
      ],
      "metadata": {
        "id": "zq436XCKtDVX",
        "colab": {
          "base_uri": "https://localhost:8080/"
        },
        "outputId": "9bdfa352-13cb-4d3d-f02c-764abbf9d107"
      },
      "execution_count": null,
      "outputs": [
        {
          "output_type": "stream",
          "name": "stdout",
          "text": [
            "Samples in rare stratification groups (less than 2 samples):\n",
            "Group '0_010': ['BRATS_026']\n",
            "Stratification group counts after initial merging:\n",
            "strat_label\n",
            "2_111    105\n",
            "3_111    105\n",
            "1_111    105\n",
            "0_111    104\n",
            "rare       1\n",
            "Name: count, dtype: int64\n",
            "Found single-member stratification groups after merging: ['rare']. Reassigning these samples.\n",
            "Largest group is: 2_111. Reassigning single samples to this group.\n",
            "Reassigned sample BRATS_026 from group 'rare' to group '2_111'.\n",
            "Stratification group counts after reassignment:\n",
            "strat_label\n",
            "2_111    106\n",
            "3_111    105\n",
            "1_111    105\n",
            "0_111    104\n",
            "Name: count, dtype: int64\n",
            "Total IDs count: 420\n",
            "Train IDs count: 336\n",
            "Validation IDs count: 42\n",
            "Test IDs count: 42\n"
          ]
        }
      ]
    },
    {
      "cell_type": "code",
      "source": [
        "import numpy as np\n",
        "\n",
        "# Save ids to a file\n",
        "np.savez('/content/drive/MyDrive/stratified_split_ids.npz',\n",
        "         train_ids=train_ids,\n",
        "         validation_ids=validation_ids,\n",
        "         test_ids=test_ids)"
      ],
      "metadata": {
        "id": "vXZq-P2JtRa-"
      },
      "execution_count": null,
      "outputs": []
    },
    {
      "cell_type": "markdown",
      "source": [
        "### Training pipeline"
      ],
      "metadata": {
        "id": "ltSMoG2mxLYj"
      }
    },
    {
      "cell_type": "code",
      "source": [
        "import numpy as np\n",
        "\n",
        "# Load the saved ids file\n",
        "data = np.load('/content/drive/MyDrive/stratified_split_ids.npz', allow_pickle=True)\n",
        "\n",
        "# Extract the lists\n",
        "train_ids = data['train_ids'].tolist()\n",
        "validation_ids = data['validation_ids'].tolist()\n",
        "test_ids = data['test_ids'].tolist()"
      ],
      "metadata": {
        "id": "rbhDnDjht_5f",
        "colab": {
          "base_uri": "https://localhost:8080/"
        },
        "outputId": "ff5504c3-5022-4c07-d0d4-0af00cc4b5ae"
      },
      "execution_count": null,
      "outputs": [
        {
          "output_type": "stream",
          "name": "stdout",
          "text": [
            "Train IDs length: 336\n",
            "Validation IDs length: 42\n",
            "Test IDs length: 42\n"
          ]
        }
      ]
    },
    {
      "cell_type": "code",
      "source": [
        "# Get input size (care, in our case the net is 4 layers deep, so every dimension except the modalities must be divisible by 16. The general rule is to be divisible by 2^n for a n layers U-Net).\n",
        "# In our case Depth won't be used being our U-Net 2D\n",
        "height, width, depth, modalities = get_input_size(images_folder)\n"
      ],
      "metadata": {
        "colab": {
          "base_uri": "https://localhost:8080/"
        },
        "id": "5w288sbv8oFV",
        "outputId": "42aedd4d-0816-4a12-996c-2536b8b1e6ad"
      },
      "execution_count": null,
      "outputs": [
        {
          "output_type": "stream",
          "name": "stdout",
          "text": [
            "Height: 160, Width: 160, Depth: 128, Modalities: 2\n"
          ]
        }
      ]
    },
    {
      "cell_type": "code",
      "source": [
        "# Initialize train and validation data\n",
        "\n",
        "train_batch_size = 144\n",
        "train_slice_step = 2\n",
        "\n",
        "validation_batch_size = 144\n",
        "validation_slice_step = 2\n",
        "\n",
        "train_data_gen = BrainTumor2DSliceGenerator(\n",
        "    images_folder,\n",
        "    labels_folder,\n",
        "    train_ids,\n",
        "    train_batch_size,\n",
        "    train_slice_step,\n",
        "    shuffle=True,\n",
        "    augment=True\n",
        ")\n",
        "\n",
        "validation_data_gen = BrainTumor2DSliceGenerator(\n",
        "    images_folder,\n",
        "    labels_folder,\n",
        "    validation_ids,\n",
        "    validation_batch_size,\n",
        "    validation_slice_step,\n",
        "    shuffle=True,\n",
        "    augment=False\n",
        ")\n"
      ],
      "metadata": {
        "id": "cvwGNETnOrXt"
      },
      "execution_count": null,
      "outputs": []
    },
    {
      "cell_type": "code",
      "source": [
        "# Initialize model\n",
        "model = models.Model(inputs=input_layer, outputs=output_layer)\n",
        "\n",
        "# Compile model\n",
        "model.compile(\n",
        "    optimizer='adam',\n",
        "    loss=combo_scce_dice_loss,\n",
        "    metrics=[iou_metric]\n",
        ")\n",
        "\n",
        "# Fit model\n",
        "history = model.fit(\n",
        "          train_data_gen,\n",
        "          validation_data=validation_data_gen,\n",
        "          epochs=1,\n",
        "          callbacks=[reduce_lr])"
      ],
      "metadata": {
        "colab": {
          "base_uri": "https://localhost:8080/"
        },
        "id": "HPc0CJFOPMYs",
        "outputId": "e491ac8b-21db-4925-82a1-a7068daac4f3"
      },
      "execution_count": null,
      "outputs": [
        {
          "output_type": "stream",
          "name": "stderr",
          "text": [
            "/usr/local/lib/python3.11/dist-packages/keras/src/trainers/data_adapters/py_dataset_adapter.py:121: UserWarning: Your `PyDataset` class should call `super().__init__(**kwargs)` in its constructor. `**kwargs` can include `workers`, `use_multiprocessing`, `max_queue_size`. Do not pass these arguments to `fit()`, as they will be ignored.\n",
            "  self._warn_if_super_not_called()\n"
          ]
        },
        {
          "output_type": "stream",
          "name": "stdout",
          "text": [
            "\u001b[1m150/150\u001b[0m \u001b[32m━━━━━━━━━━━━━━━━━━━━\u001b[0m\u001b[37m\u001b[0m \u001b[1m0s\u001b[0m 33s/step - IoU: 0.2378 - loss: 0.5386 "
          ]
        },
        {
          "output_type": "stream",
          "name": "stderr",
          "text": [
            "/usr/local/lib/python3.11/dist-packages/keras/src/trainers/data_adapters/py_dataset_adapter.py:121: UserWarning: Your `PyDataset` class should call `super().__init__(**kwargs)` in its constructor. `**kwargs` can include `workers`, `use_multiprocessing`, `max_queue_size`. Do not pass these arguments to `fit()`, as they will be ignored.\n",
            "  self._warn_if_super_not_called()\n"
          ]
        },
        {
          "output_type": "stream",
          "name": "stdout",
          "text": [
            "\b\b\b\b\b\b\b\b\b\b\b\b\b\b\b\b\b\b\b\b\b\b\b\b\b\b\b\b\b\b\b\b\b\b\b\b\b\b\b\b\b\b\b\b\b\b\b\b\b\b\b\b\b\b\b\b\b\b\b\b\b\b\b\b\b\b\b\b\b\r\u001b[1m150/150\u001b[0m \u001b[32m━━━━━━━━━━━━━━━━━━━━\u001b[0m\u001b[37m\u001b[0m \u001b[1m5403s\u001b[0m 36s/step - IoU: 0.2380 - loss: 0.5380 - val_IoU: 0.3074 - val_loss: 0.3968 - learning_rate: 0.0010\n"
          ]
        }
      ]
    },
    {
      "cell_type": "code",
      "source": [
        "# Save data\n",
        "\n",
        "import os\n",
        "import pickle\n",
        "\n",
        "drive_save_folder = '/content/drive/MyDrive/DL_final_2'\n",
        "os.makedirs(drive_save_folder, exist_ok=True)\n",
        "\n",
        "model_path = os.path.join(drive_save_folder, 'm1.keras')\n",
        "model.save(model_path)\n",
        "print(f\"Model saved to: {model_path}\")\n",
        "\n",
        "\n",
        "\n",
        "history_df = pd.DataFrame(history.history)\n",
        "\n",
        "csv_path = os.path.join(drive_save_folder, 'h1.csv')\n",
        "history_df.to_csv(csv_path, index=False)\n",
        "print(f\"Training history saved to: {csv_path}\")\n"
      ],
      "metadata": {
        "colab": {
          "base_uri": "https://localhost:8080/"
        },
        "id": "FOAwsDhtD0we",
        "outputId": "d081a20a-204e-4ca7-a2fe-d94ac24d68e1"
      },
      "execution_count": null,
      "outputs": [
        {
          "output_type": "stream",
          "name": "stdout",
          "text": [
            "Model saved to: /content/drive/MyDrive/DL_final_2/m1.keras\n",
            "Training history saved to: /content/drive/MyDrive/DL_final_2/h1.csv\n"
          ]
        }
      ]
    },
    {
      "cell_type": "markdown",
      "source": [
        "## Training from saved model"
      ],
      "metadata": {
        "id": "XDxpiviUTwrZ"
      }
    },
    {
      "cell_type": "code",
      "source": [
        "import numpy as np\n",
        "\n",
        "# Load the saved ids file\n",
        "data = np.load('/content/drive/MyDrive/stratified_split_ids.npz', allow_pickle=True)\n",
        "\n",
        "# Extract the lists\n",
        "train_ids = data['train_ids'].tolist()\n",
        "validation_ids = data['validation_ids'].tolist()\n",
        "test_ids = data['test_ids'].tolist()\n"
      ],
      "metadata": {
        "id": "SdFjjXZorese"
      },
      "execution_count": null,
      "outputs": []
    },
    {
      "cell_type": "code",
      "source": [
        "# Initialize train and validation data\n",
        "\n",
        "train_batch_size = 144\n",
        "train_slice_step = 8\n",
        "\n",
        "validation_batch_size = 144\n",
        "validation_slice_step = 8\n",
        "\n",
        "train_data_gen = BrainTumor2DSliceGenerator(\n",
        "    images_folder,\n",
        "    labels_folder,\n",
        "    train_ids,\n",
        "    train_batch_size,\n",
        "    train_slice_step,\n",
        "    shuffle=True,\n",
        "    augment=True\n",
        ")\n",
        "\n",
        "validation_data_gen = BrainTumor2DSliceGenerator(\n",
        "    images_folder,\n",
        "    labels_folder,\n",
        "    validation_ids,\n",
        "    validation_batch_size,\n",
        "    validation_slice_step,\n",
        "    shuffle=True,\n",
        "    augment=False\n",
        ")"
      ],
      "metadata": {
        "id": "UycByUK9YViE"
      },
      "execution_count": null,
      "outputs": []
    },
    {
      "cell_type": "code",
      "source": [
        "from tensorflow.keras.models import load_model\n",
        "\n",
        "# Load model\n",
        "model_path = '/content/drive/MyDrive/DL_final/m2.keras'\n",
        "\n",
        "model = load_model(model_path, custom_objects={\n",
        "    'combo_scce_dice_loss': combo_scce_dice_loss,\n",
        "    'iou_metric': iou_metric,})\n",
        "\n",
        "# Fit model\n",
        "history = model.fit(\n",
        "          train_data_gen,\n",
        "          validation_data=validation_data_gen,\n",
        "          epochs=3,\n",
        "          initial_epoch=2,\n",
        "          callbacks=[reduce_lr])\n"
      ],
      "metadata": {
        "colab": {
          "base_uri": "https://localhost:8080/"
        },
        "id": "4lgGYhHgT8Pe",
        "outputId": "6e4fe915-f03e-44b7-c820-0eee471c8ca7"
      },
      "execution_count": null,
      "outputs": [
        {
          "output_type": "stream",
          "name": "stdout",
          "text": [
            "Epoch 3/3\n",
            "\u001b[1m38/38\u001b[0m \u001b[32m━━━━━━━━━━━━━━━━━━━━\u001b[0m\u001b[37m\u001b[0m \u001b[1m754s\u001b[0m 20s/step - IoU: 0.5285 - loss: 0.3435 - val_IoU: 0.5974 - val_loss: 0.3257 - learning_rate: 0.0010\n"
          ]
        }
      ]
    },
    {
      "cell_type": "code",
      "source": [
        "# Save data\n",
        "\n",
        "import os\n",
        "import pickle\n",
        "\n",
        "\n",
        "drive_save_folder = '/content/drive/MyDrive/DL_final'\n",
        "os.makedirs(drive_save_folder, exist_ok=True)\n",
        "\n",
        "\n",
        "model_path = os.path.join(drive_save_folder, 'm3.keras')\n",
        "model.save(model_path)\n",
        "print(f\"Model saved to: {model_path}\")\n",
        "\n",
        "\n",
        "\n",
        "history_df = pd.DataFrame(history.history)\n",
        "\n",
        "csv_path = os.path.join(drive_save_folder, 'h3.csv')\n",
        "history_df.to_csv(csv_path, index=False)\n",
        "print(f\"Training history saved to: {csv_path}\")\n"
      ],
      "metadata": {
        "id": "IKXZdboHVCB5",
        "colab": {
          "base_uri": "https://localhost:8080/"
        },
        "outputId": "3d742b1d-d8a8-4c86-ef74-0f9d6c69f70d"
      },
      "execution_count": null,
      "outputs": [
        {
          "output_type": "stream",
          "name": "stdout",
          "text": [
            "Model saved to: /content/drive/MyDrive/DL_final/m3.keras\n",
            "Training history saved to: /content/drive/MyDrive/DL_final/h3.csv\n"
          ]
        }
      ]
    },
    {
      "cell_type": "markdown",
      "source": [
        "## Training Loop\n"
      ],
      "metadata": {
        "id": "0kLiILFwwkDM"
      }
    },
    {
      "cell_type": "code",
      "source": [
        "import numpy as np\n",
        "\n",
        "# Load the saved ids file\n",
        "data = np.load('/content/drive/MyDrive/stratified_split_ids.npz', allow_pickle=True)\n",
        "\n",
        "# Extract the lists\n",
        "train_ids = data['train_ids'].tolist()\n",
        "validation_ids = data['validation_ids'].tolist()\n",
        "test_ids = data['test_ids'].tolist()"
      ],
      "metadata": {
        "id": "D5TxMmN0wmx2"
      },
      "execution_count": null,
      "outputs": []
    },
    {
      "cell_type": "code",
      "source": [
        "# Initialize train and validation data\n",
        "\n",
        "train_batch_size = 144\n",
        "train_slice_step = 8\n",
        "\n",
        "validation_batch_size = 144\n",
        "validation_slice_step = 8\n",
        "\n",
        "train_data_gen = BrainTumor2DSliceGenerator(\n",
        "    images_folder,\n",
        "    labels_folder,\n",
        "    train_ids,\n",
        "    train_batch_size,\n",
        "    train_slice_step,\n",
        "    shuffle=True,\n",
        "    augment=True\n",
        ")\n",
        "\n",
        "validation_data_gen = BrainTumor2DSliceGenerator(\n",
        "    images_folder,\n",
        "    labels_folder,\n",
        "    validation_ids,\n",
        "    validation_batch_size,\n",
        "    validation_slice_step,\n",
        "    shuffle=True,\n",
        "    augment=False\n",
        ")"
      ],
      "metadata": {
        "id": "UWVF_9w7wmtT"
      },
      "execution_count": null,
      "outputs": []
    },
    {
      "cell_type": "code",
      "source": [
        "import os\n",
        "import pandas as pd\n",
        "from tensorflow.keras.models import load_model\n",
        "\n",
        "drive_save_folder = '/content/drive/MyDrive/DL_final'\n",
        "model_base_name = 'm'\n",
        "history_base_name = 'h'\n",
        "total_epochs = 30\n",
        "step_size = 1\n",
        "initial_epoch = 16\n",
        "\n",
        "os.makedirs(drive_save_folder, exist_ok=True)\n",
        "\n",
        "model = load_model(\n",
        "    os.path.join(drive_save_folder, 'm16.keras'),\n",
        "    custom_objects={'combo_scce_dice_loss': combo_scce_dice_loss,\n",
        "                    'iou_metric': iou_metric}\n",
        ")\n",
        "\n",
        "for epoch_start in range(initial_epoch, total_epochs, step_size):\n",
        "    epoch_end = min(epoch_start + step_size, total_epochs)\n",
        "\n",
        "    print(f\"\\n--- Training from epoch {epoch_start} to {epoch_end} ---\\n\")\n",
        "\n",
        "    history = model.fit(\n",
        "        train_data_gen,\n",
        "        validation_data=validation_data_gen,\n",
        "        epochs=epoch_end,\n",
        "        initial_epoch=epoch_start,\n",
        "        callbacks=[reduce_lr]\n",
        "    )\n",
        "\n",
        "    model_name = f'{model_base_name}{epoch_end}.keras'\n",
        "    model_path = os.path.join(drive_save_folder, model_name)\n",
        "    model.save(model_path)\n",
        "    print(f\"Model saved to: {model_path}\")\n",
        "\n",
        "    history_name = f'{history_base_name}{epoch_end}.csv'\n",
        "    history_path = os.path.join(drive_save_folder, history_name)\n",
        "\n",
        "    pd.DataFrame(history.history).to_csv(history_path, index=False)\n",
        "    print(f\"Training history saved to: {history_path}\")\n"
      ],
      "metadata": {
        "colab": {
          "base_uri": "https://localhost:8080/"
        },
        "id": "XrRbmCDJTBDI",
        "outputId": "b30f4d51-2e98-4c01-aedb-1184f65bdee2"
      },
      "execution_count": null,
      "outputs": [
        {
          "output_type": "stream",
          "name": "stdout",
          "text": [
            "\n",
            "--- Training from epoch 16 to 17 ---\n",
            "\n",
            "Epoch 17/17\n",
            "\u001b[1m38/38\u001b[0m \u001b[32m━━━━━━━━━━━━━━━━━━━━\u001b[0m\u001b[37m\u001b[0m \u001b[1m1460s\u001b[0m 38s/step - IoU: 0.6500 - loss: 0.3111 - val_IoU: 0.6156 - val_loss: 0.3200 - learning_rate: 0.0010\n",
            "Model saved to: /content/drive/MyDrive/DL_final/m17.keras\n",
            "Training history saved to: /content/drive/MyDrive/DL_final/h17.csv\n",
            "\n",
            "--- Training from epoch 17 to 18 ---\n",
            "\n",
            "Epoch 18/18\n",
            "\u001b[1m38/38\u001b[0m \u001b[32m━━━━━━━━━━━━━━━━━━━━\u001b[0m\u001b[37m\u001b[0m \u001b[1m1475s\u001b[0m 38s/step - IoU: 0.6468 - loss: 0.3106 - val_IoU: 0.6290 - val_loss: 0.3166 - learning_rate: 0.0010\n",
            "Model saved to: /content/drive/MyDrive/DL_final/m18.keras\n",
            "Training history saved to: /content/drive/MyDrive/DL_final/h18.csv\n",
            "\n",
            "--- Training from epoch 18 to 19 ---\n",
            "\n",
            "Epoch 19/19\n",
            "\u001b[1m38/38\u001b[0m \u001b[32m━━━━━━━━━━━━━━━━━━━━\u001b[0m\u001b[37m\u001b[0m \u001b[1m1454s\u001b[0m 38s/step - IoU: 0.6564 - loss: 0.3100 - val_IoU: 0.6338 - val_loss: 0.3142 - learning_rate: 0.0010\n",
            "Model saved to: /content/drive/MyDrive/DL_final/m19.keras\n",
            "Training history saved to: /content/drive/MyDrive/DL_final/h19.csv\n",
            "\n",
            "--- Training from epoch 19 to 20 ---\n",
            "\n",
            "Epoch 20/20\n",
            "\u001b[1m38/38\u001b[0m \u001b[32m━━━━━━━━━━━━━━━━━━━━\u001b[0m\u001b[37m\u001b[0m \u001b[1m1495s\u001b[0m 39s/step - IoU: 0.6665 - loss: 0.3049 - val_IoU: 0.6308 - val_loss: 0.3173 - learning_rate: 0.0010\n",
            "Model saved to: /content/drive/MyDrive/DL_final/m20.keras\n",
            "Training history saved to: /content/drive/MyDrive/DL_final/h20.csv\n",
            "\n",
            "--- Training from epoch 20 to 21 ---\n",
            "\n",
            "Epoch 21/21\n",
            "\u001b[1m38/38\u001b[0m \u001b[32m━━━━━━━━━━━━━━━━━━━━\u001b[0m\u001b[37m\u001b[0m \u001b[1m1454s\u001b[0m 38s/step - IoU: 0.6675 - loss: 0.3042 - val_IoU: 0.6395 - val_loss: 0.3140 - learning_rate: 0.0010\n",
            "Model saved to: /content/drive/MyDrive/DL_final/m21.keras\n",
            "Training history saved to: /content/drive/MyDrive/DL_final/h21.csv\n",
            "\n",
            "--- Training from epoch 21 to 22 ---\n",
            "\n",
            "Epoch 22/22\n",
            "\u001b[1m38/38\u001b[0m \u001b[32m━━━━━━━━━━━━━━━━━━━━\u001b[0m\u001b[37m\u001b[0m \u001b[1m1451s\u001b[0m 38s/step - IoU: 0.6705 - loss: 0.3046 - val_IoU: 0.6234 - val_loss: 0.3179 - learning_rate: 0.0010\n",
            "Model saved to: /content/drive/MyDrive/DL_final/m22.keras\n",
            "Training history saved to: /content/drive/MyDrive/DL_final/h22.csv\n",
            "\n",
            "--- Training from epoch 22 to 23 ---\n",
            "\n",
            "Epoch 23/23\n",
            "\u001b[1m38/38\u001b[0m \u001b[32m━━━━━━━━━━━━━━━━━━━━\u001b[0m\u001b[37m\u001b[0m \u001b[1m1429s\u001b[0m 37s/step - IoU: 0.6624 - loss: 0.3084 - val_IoU: 0.6469 - val_loss: 0.3112 - learning_rate: 0.0010\n",
            "Model saved to: /content/drive/MyDrive/DL_final/m23.keras\n",
            "Training history saved to: /content/drive/MyDrive/DL_final/h23.csv\n",
            "\n",
            "--- Training from epoch 23 to 24 ---\n",
            "\n",
            "Epoch 24/24\n",
            "\u001b[1m38/38\u001b[0m \u001b[32m━━━━━━━━━━━━━━━━━━━━\u001b[0m\u001b[37m\u001b[0m \u001b[1m1446s\u001b[0m 38s/step - IoU: 0.6752 - loss: 0.3026 - val_IoU: 0.6532 - val_loss: 0.3101 - learning_rate: 0.0010\n",
            "Model saved to: /content/drive/MyDrive/DL_final/m24.keras\n",
            "Training history saved to: /content/drive/MyDrive/DL_final/h24.csv\n",
            "\n",
            "--- Training from epoch 24 to 25 ---\n",
            "\n",
            "Epoch 25/25\n",
            "\u001b[1m38/38\u001b[0m \u001b[32m━━━━━━━━━━━━━━━━━━━━\u001b[0m\u001b[37m\u001b[0m \u001b[1m1488s\u001b[0m 39s/step - IoU: 0.6759 - loss: 0.3051 - val_IoU: 0.6528 - val_loss: 0.3097 - learning_rate: 0.0010\n",
            "Model saved to: /content/drive/MyDrive/DL_final/m25.keras\n",
            "Training history saved to: /content/drive/MyDrive/DL_final/h25.csv\n",
            "\n",
            "--- Training from epoch 25 to 26 ---\n",
            "\n",
            "Epoch 26/26\n",
            "\u001b[1m38/38\u001b[0m \u001b[32m━━━━━━━━━━━━━━━━━━━━\u001b[0m\u001b[37m\u001b[0m \u001b[1m1485s\u001b[0m 39s/step - IoU: 0.6789 - loss: 0.3055 - val_IoU: 0.6488 - val_loss: 0.3119 - learning_rate: 0.0010\n",
            "Model saved to: /content/drive/MyDrive/DL_final/m26.keras\n",
            "Training history saved to: /content/drive/MyDrive/DL_final/h26.csv\n",
            "\n",
            "--- Training from epoch 26 to 27 ---\n",
            "\n",
            "Epoch 27/27\n",
            "\u001b[1m38/38\u001b[0m \u001b[32m━━━━━━━━━━━━━━━━━━━━\u001b[0m\u001b[37m\u001b[0m \u001b[1m1503s\u001b[0m 39s/step - IoU: 0.6794 - loss: 0.3040 - val_IoU: 0.6427 - val_loss: 0.3101 - learning_rate: 0.0010\n",
            "Model saved to: /content/drive/MyDrive/DL_final/m27.keras\n",
            "Training history saved to: /content/drive/MyDrive/DL_final/h27.csv\n",
            "\n",
            "--- Training from epoch 27 to 28 ---\n",
            "\n",
            "Epoch 28/28\n",
            "\u001b[1m38/38\u001b[0m \u001b[32m━━━━━━━━━━━━━━━━━━━━\u001b[0m\u001b[37m\u001b[0m \u001b[1m1416s\u001b[0m 37s/step - IoU: 0.6837 - loss: 0.3029 - val_IoU: 0.6503 - val_loss: 0.3086 - learning_rate: 0.0010\n",
            "Model saved to: /content/drive/MyDrive/DL_final/m28.keras\n",
            "Training history saved to: /content/drive/MyDrive/DL_final/h28.csv\n",
            "\n",
            "--- Training from epoch 28 to 29 ---\n",
            "\n",
            "Epoch 29/29\n",
            "\u001b[1m38/38\u001b[0m \u001b[32m━━━━━━━━━━━━━━━━━━━━\u001b[0m\u001b[37m\u001b[0m \u001b[1m1428s\u001b[0m 37s/step - IoU: 0.6881 - loss: 0.3002 - val_IoU: 0.6483 - val_loss: 0.3112 - learning_rate: 0.0010\n",
            "Model saved to: /content/drive/MyDrive/DL_final/m29.keras\n",
            "Training history saved to: /content/drive/MyDrive/DL_final/h29.csv\n",
            "\n",
            "--- Training from epoch 29 to 30 ---\n",
            "\n",
            "Epoch 30/30\n",
            "\u001b[1m38/38\u001b[0m \u001b[32m━━━━━━━━━━━━━━━━━━━━\u001b[0m\u001b[37m\u001b[0m \u001b[1m1404s\u001b[0m 37s/step - IoU: 0.6822 - loss: 0.3013 - val_IoU: 0.6698 - val_loss: 0.3056 - learning_rate: 0.0010\n",
            "Model saved to: /content/drive/MyDrive/DL_final/m30.keras\n",
            "Training history saved to: /content/drive/MyDrive/DL_final/h30.csv\n"
          ]
        }
      ]
    },
    {
      "cell_type": "markdown",
      "source": [
        "## Test model"
      ],
      "metadata": {
        "id": "0RxpUUfVWjRf"
      }
    },
    {
      "cell_type": "code",
      "source": [
        "import numpy as np\n",
        "\n",
        "# Load the saved ids file\n",
        "data = np.load('/content/drive/MyDrive/stratified_split_ids.npz', allow_pickle=True)\n",
        "\n",
        "# Extract the lists\n",
        "train_ids = data['train_ids'].tolist()\n",
        "validation_ids = data['validation_ids'].tolist()\n",
        "test_ids = data['test_ids'].tolist()"
      ],
      "metadata": {
        "id": "q8dc0te0KL_Z"
      },
      "execution_count": 27,
      "outputs": []
    },
    {
      "cell_type": "code",
      "source": [
        "# Initialize test data generator\n",
        "\n",
        "test_batch_size = 144\n",
        "test_slice_step = 1\n",
        "\n",
        "test_data_gen = BrainTumor2DSliceGenerator(\n",
        "    images_folder,\n",
        "    labels_folder,\n",
        "    test_ids,\n",
        "    batch_size=test_batch_size,\n",
        "    slice_step=test_slice_step,\n",
        "    shuffle=False\n",
        ")"
      ],
      "metadata": {
        "id": "12cpRn0mWk1r"
      },
      "execution_count": 28,
      "outputs": []
    },
    {
      "cell_type": "code",
      "source": [
        "# Load the model\n",
        "\n",
        "from tensorflow.keras.models import load_model\n",
        "\n",
        "model_path = '/content/drive/MyDrive/DL_final/m1.keras'\n",
        "\n",
        "model = load_model(model_path, custom_objects={\n",
        "    'combo_scce_dice_loss': combo_scce_dice_loss,\n",
        "    'iou_metric': iou_metric,})\n",
        "\n",
        "# Test the model\n",
        "test_results = model.evaluate(test_data_gen, verbose=1)"
      ],
      "metadata": {
        "id": "AnoBNoAibFLs"
      },
      "execution_count": null,
      "outputs": []
    },
    {
      "cell_type": "code",
      "source": [
        "# Save data\n",
        "\n",
        "import pandas as pd\n",
        "\n",
        "results_dict = {name: [val] for name, val in zip(model.metrics_names, test_results)}\n",
        "\n",
        "df = pd.DataFrame(results_dict)\n",
        "\n",
        "csv_path = os.path.join('/content/drive/MyDrive/DL_final/', 't1.csv')\n",
        "df.to_csv(csv_path, index=False)\n",
        "\n",
        "print(f\"Test results saved to: {csv_path}\")\n"
      ],
      "metadata": {
        "id": "SLHbdT4AW-hx"
      },
      "execution_count": null,
      "outputs": []
    },
    {
      "cell_type": "markdown",
      "source": [
        "## Test Loop\n"
      ],
      "metadata": {
        "id": "Zc3qtkYnv3iN"
      }
    },
    {
      "cell_type": "code",
      "source": [
        "import numpy as np\n",
        "\n",
        "# Load the saved ids file\n",
        "data = np.load('/content/drive/MyDrive/stratified_split_ids.npz', allow_pickle=True)\n",
        "\n",
        "# Extract the lists\n",
        "train_ids = data['train_ids'].tolist()\n",
        "validation_ids = data['validation_ids'].tolist()\n",
        "test_ids = data['test_ids'].tolist()"
      ],
      "metadata": {
        "id": "qL2d7lZqwH7e"
      },
      "execution_count": 50,
      "outputs": []
    },
    {
      "cell_type": "code",
      "source": [
        "# Initialize test data generator\n",
        "\n",
        "test_batch_size = 144\n",
        "test_slice_step = 1\n",
        "\n",
        "test_data_gen = BrainTumor2DSliceGenerator(\n",
        "    images_folder,\n",
        "    labels_folder,\n",
        "    test_ids,\n",
        "    batch_size=test_batch_size,\n",
        "    slice_step=test_slice_step,\n",
        "    shuffle=False\n",
        ")"
      ],
      "metadata": {
        "id": "FM3gJFV3wDmS"
      },
      "execution_count": 51,
      "outputs": []
    },
    {
      "cell_type": "code",
      "source": [
        "import os\n",
        "import pandas as pd\n",
        "from tensorflow.keras.models import load_model\n",
        "\n",
        "custom_objects = {\n",
        "    'combo_scce_dice_loss': combo_scce_dice_loss,\n",
        "    'iou_metric': iou_metric,\n",
        "}\n",
        "\n",
        "drive_folder = '/content/drive/MyDrive/DL_final'\n",
        "\n",
        "for i in range(19, 31):\n",
        "    model_filename = f\"m{i}.keras\"\n",
        "    csv_filename = f\"t{i}.csv\"\n",
        "\n",
        "    model_path = os.path.join(drive_folder, model_filename)\n",
        "    csv_path = os.path.join(drive_folder, csv_filename)\n",
        "\n",
        "    if not os.path.exists(model_path):\n",
        "        print(f\"Model not found: {model_path}\")\n",
        "        continue\n",
        "\n",
        "    print(f\"\\nLoading model {model_filename}...\")\n",
        "    model = load_model(model_path, custom_objects=custom_objects)\n",
        "\n",
        "    print(\"Evaluating...\")\n",
        "    test_results = model.evaluate(test_data_gen, verbose=1)\n",
        "\n",
        "    # Save results\n",
        "    results_dict = {name: [val] for name, val in zip(model.metrics_names, test_results)}\n",
        "    df = pd.DataFrame(results_dict)\n",
        "    df.to_csv(csv_path, index=False)\n",
        "\n",
        "    print(f\"Results saved to: {csv_path}\")\n"
      ],
      "metadata": {
        "colab": {
          "base_uri": "https://localhost:8080/"
        },
        "id": "ff8Vvvj-uADw",
        "outputId": "d0c14522-a3ed-42d1-8138-f238e837ee7b"
      },
      "execution_count": 29,
      "outputs": [
        {
          "output_type": "stream",
          "name": "stdout",
          "text": [
            "\n",
            "Loading model m19.keras...\n",
            "Evaluating...\n"
          ]
        },
        {
          "output_type": "stream",
          "name": "stderr",
          "text": [
            "/usr/local/lib/python3.11/dist-packages/keras/src/trainers/data_adapters/py_dataset_adapter.py:121: UserWarning: Your `PyDataset` class should call `super().__init__(**kwargs)` in its constructor. `**kwargs` can include `workers`, `use_multiprocessing`, `max_queue_size`. Do not pass these arguments to `fit()`, as they will be ignored.\n",
            "  self._warn_if_super_not_called()\n"
          ]
        },
        {
          "output_type": "stream",
          "name": "stdout",
          "text": [
            "\u001b[1m38/38\u001b[0m \u001b[32m━━━━━━━━━━━━━━━━━━━━\u001b[0m\u001b[37m\u001b[0m \u001b[1m1094s\u001b[0m 28s/step - IoU: 0.6560 - loss: 0.3072\n",
            "Results saved to: /content/drive/MyDrive/DL_final/t19.csv\n",
            "\n",
            "Loading model m20.keras...\n",
            "Evaluating...\n",
            "\u001b[1m38/38\u001b[0m \u001b[32m━━━━━━━━━━━━━━━━━━━━\u001b[0m\u001b[37m\u001b[0m \u001b[1m1082s\u001b[0m 28s/step - IoU: 0.6440 - loss: 0.3114\n",
            "Results saved to: /content/drive/MyDrive/DL_final/t20.csv\n",
            "\n",
            "Loading model m21.keras...\n",
            "Evaluating...\n",
            "\u001b[1m38/38\u001b[0m \u001b[32m━━━━━━━━━━━━━━━━━━━━\u001b[0m\u001b[37m\u001b[0m \u001b[1m1083s\u001b[0m 28s/step - IoU: 0.6568 - loss: 0.3075\n",
            "Results saved to: /content/drive/MyDrive/DL_final/t21.csv\n",
            "\n",
            "Loading model m22.keras...\n",
            "Evaluating...\n",
            "\u001b[1m38/38\u001b[0m \u001b[32m━━━━━━━━━━━━━━━━━━━━\u001b[0m\u001b[37m\u001b[0m \u001b[1m1088s\u001b[0m 28s/step - IoU: 0.6380 - loss: 0.3120\n",
            "Results saved to: /content/drive/MyDrive/DL_final/t22.csv\n",
            "\n",
            "Loading model m23.keras...\n",
            "Evaluating...\n",
            "\u001b[1m38/38\u001b[0m \u001b[32m━━━━━━━━━━━━━━━━━━━━\u001b[0m\u001b[37m\u001b[0m \u001b[1m1083s\u001b[0m 28s/step - IoU: 0.6588 - loss: 0.3060\n",
            "Results saved to: /content/drive/MyDrive/DL_final/t23.csv\n",
            "\n",
            "Loading model m24.keras...\n",
            "Evaluating...\n",
            "\u001b[1m38/38\u001b[0m \u001b[32m━━━━━━━━━━━━━━━━━━━━\u001b[0m\u001b[37m\u001b[0m \u001b[1m1108s\u001b[0m 29s/step - IoU: 0.6660 - loss: 0.3052\n",
            "Results saved to: /content/drive/MyDrive/DL_final/t24.csv\n",
            "\n",
            "Loading model m25.keras...\n",
            "Evaluating...\n",
            "\u001b[1m38/38\u001b[0m \u001b[32m━━━━━━━━━━━━━━━━━━━━\u001b[0m\u001b[37m\u001b[0m \u001b[1m1093s\u001b[0m 28s/step - IoU: 0.6679 - loss: 0.3037\n",
            "Results saved to: /content/drive/MyDrive/DL_final/t25.csv\n",
            "\n",
            "Loading model m26.keras...\n",
            "Evaluating...\n",
            "\u001b[1m38/38\u001b[0m \u001b[32m━━━━━━━━━━━━━━━━━━━━\u001b[0m\u001b[37m\u001b[0m \u001b[1m1109s\u001b[0m 29s/step - IoU: 0.6702 - loss: 0.3055\n",
            "Results saved to: /content/drive/MyDrive/DL_final/t26.csv\n",
            "\n",
            "Loading model m27.keras...\n",
            "Evaluating...\n",
            "\u001b[1m38/38\u001b[0m \u001b[32m━━━━━━━━━━━━━━━━━━━━\u001b[0m\u001b[37m\u001b[0m \u001b[1m1116s\u001b[0m 29s/step - IoU: 0.6568 - loss: 0.3063\n",
            "Results saved to: /content/drive/MyDrive/DL_final/t27.csv\n",
            "\n",
            "Loading model m28.keras...\n",
            "Evaluating...\n",
            "\u001b[1m38/38\u001b[0m \u001b[32m━━━━━━━━━━━━━━━━━━━━\u001b[0m\u001b[37m\u001b[0m \u001b[1m1106s\u001b[0m 29s/step - IoU: 0.6683 - loss: 0.3039\n",
            "Results saved to: /content/drive/MyDrive/DL_final/t28.csv\n",
            "\n",
            "Loading model m29.keras...\n",
            "Evaluating...\n",
            "\u001b[1m38/38\u001b[0m \u001b[32m━━━━━━━━━━━━━━━━━━━━\u001b[0m\u001b[37m\u001b[0m \u001b[1m1088s\u001b[0m 28s/step - IoU: 0.6643 - loss: 0.3058\n",
            "Results saved to: /content/drive/MyDrive/DL_final/t29.csv\n",
            "\n",
            "Loading model m30.keras...\n",
            "Evaluating...\n",
            "\u001b[1m38/38\u001b[0m \u001b[32m━━━━━━━━━━━━━━━━━━━━\u001b[0m\u001b[37m\u001b[0m \u001b[1m1103s\u001b[0m 29s/step - IoU: 0.6803 - loss: 0.3008\n",
            "Results saved to: /content/drive/MyDrive/DL_final/t30.csv\n"
          ]
        }
      ]
    },
    {
      "cell_type": "markdown",
      "source": [
        "# Prediction exemple"
      ],
      "metadata": {
        "id": "Bm8fJ2f5VSP9"
      }
    },
    {
      "cell_type": "code",
      "source": [
        "# Load model\n",
        "from tensorflow.keras.models import load_model\n",
        "\n",
        "model_path = '/content/drive/MyDrive/DL_final/m30.keras'\n",
        "model = load_model(\n",
        "    model_path,\n",
        "    compile=False\n",
        ")"
      ],
      "metadata": {
        "id": "LRZue2hrViNK"
      },
      "execution_count": 41,
      "outputs": []
    },
    {
      "cell_type": "code",
      "source": [
        "print(test_ids)"
      ],
      "metadata": {
        "colab": {
          "base_uri": "https://localhost:8080/"
        },
        "id": "-xZn0QYCSYrx",
        "outputId": "e5b4ad49-7381-449d-c233-8ebb3d639606"
      },
      "execution_count": 48,
      "outputs": [
        {
          "output_type": "stream",
          "name": "stdout",
          "text": [
            "['BRATS_291', 'BRATS_280', 'BRATS_457', 'BRATS_147', 'BRATS_437', 'BRATS_389', 'BRATS_416', 'BRATS_172', 'BRATS_104', 'BRATS_445', 'BRATS_345', 'BRATS_207', 'BRATS_014', 'BRATS_295', 'BRATS_367', 'BRATS_123', 'BRATS_304', 'BRATS_181', 'BRATS_097', 'BRATS_369', 'BRATS_163', 'BRATS_433', 'BRATS_187', 'BRATS_414', 'BRATS_252', 'BRATS_161', 'BRATS_464', 'BRATS_038', 'BRATS_253', 'BRATS_320', 'BRATS_211', 'BRATS_002', 'BRATS_113', 'BRATS_344', 'BRATS_408', 'BRATS_249', 'BRATS_255', 'BRATS_319', 'BRATS_052', 'BRATS_205', 'BRATS_415', 'BRATS_265']\n"
          ]
        }
      ]
    },
    {
      "cell_type": "code",
      "source": [
        "import matplotlib.pyplot as plt\n",
        "import numpy as np\n",
        "import nibabel as nib\n",
        "\n",
        "# Load one image and label\n",
        "img_path = '/content/imagesTr/BRATS_205.nii.gz'\n",
        "label_path = '/content/labelsTr/BRATS_205.nii.gz'\n",
        "\n",
        "img = nib.load(img_path).get_fdata()\n",
        "label = nib.load(label_path).get_fdata()\n",
        "\n",
        "slice_index = 60\n",
        "\n",
        "# Preprocess input\n",
        "input_slice = img[:, :, slice_index, :2]\n",
        "input_slice = np.expand_dims(input_slice, axis=0)\n",
        "\n",
        "# Predict\n",
        "pred = model.predict(input_slice)\n",
        "pred_label = np.argmax(pred[0], axis=-1)\n",
        "\n",
        "# Plot result\n",
        "plt.figure(figsize=(12, 4))\n",
        "\n",
        "plt.subplot(1, 3, 1)\n",
        "plt.imshow(input_slice[0, :, :, 0], cmap='gray')\n",
        "plt.title('Input Channel 0')\n",
        "\n",
        "plt.subplot(1, 3, 2)\n",
        "plt.imshow(label[:, :, slice_index], cmap='jet')\n",
        "plt.title('Ground Truth')\n",
        "\n",
        "plt.subplot(1, 3, 3)\n",
        "plt.imshow(pred_label, cmap='jet')\n",
        "plt.title('Prediction')\n",
        "\n",
        "plt.tight_layout()\n",
        "plt.show()\n"
      ],
      "metadata": {
        "colab": {
          "base_uri": "https://localhost:8080/",
          "height": 404
        },
        "id": "-h3rQOoCVX7_",
        "outputId": "6716ef57-1ae6-4166-c2a4-2bd0b0e9f28d"
      },
      "execution_count": 49,
      "outputs": [
        {
          "output_type": "stream",
          "name": "stdout",
          "text": [
            "\u001b[1m1/1\u001b[0m \u001b[32m━━━━━━━━━━━━━━━━━━━━\u001b[0m\u001b[37m\u001b[0m \u001b[1m0s\u001b[0m 102ms/step\n"
          ]
        },
        {
          "output_type": "display_data",
          "data": {
            "text/plain": [
              "<Figure size 1200x400 with 3 Axes>"
            ],
            "image/png": "[encoded data removed]"
          },
          "metadata": {}
        }
      ]
    },
    {
      "cell_type": "markdown",
      "source": [
        "# Evaluation\n"
      ],
      "metadata": {
        "id": "bpCALPsLVIkJ"
      }
    },
    {
      "cell_type": "markdown",
      "source": [
        "## IoU and Loss plots\n"
      ],
      "metadata": {
        "id": "WtPJdQfCO-gH"
      }
    },
    {
      "cell_type": "code",
      "source": [
        "import os\n",
        "import pandas as pd\n",
        "import matplotlib.pyplot as plt\n",
        "\n",
        "\n",
        "\n",
        "drive_folder = '/content/drive/MyDrive/DL_final'\n",
        "\n",
        "history_rows = []\n",
        "\n",
        "for i in range(1, 31):\n",
        "    file_path = os.path.join(drive_folder, f'h{i}.csv')\n",
        "\n",
        "    if not os.path.exists(file_path):\n",
        "        print(f\"Missing: h{i}.csv\")\n",
        "        continue\n",
        "\n",
        "    row = pd.read_csv(file_path)\n",
        "    row['epoch'] = i  # Add epoch info\n",
        "    history_rows.append(row)\n",
        "\n",
        "df = pd.concat(history_rows, ignore_index=True)\n",
        "\n",
        "plt.figure(figsize=(10, 6))\n",
        "plt.plot(df['epoch'], df['loss'], label='Training Loss', linewidth=2)\n",
        "plt.plot(df['epoch'], df['val_loss'], label='Validation Loss', linewidth=2)\n",
        "plt.xlabel('Epoch')\n",
        "plt.ylabel('Loss')\n",
        "plt.title('Training and Validation Loss over Epochs')\n",
        "plt.legend()\n",
        "plt.grid(True)\n",
        "plt.tight_layout()\n",
        "plt.show()\n",
        "\n",
        "plt.figure(figsize=(10, 6))\n",
        "plt.plot(df['epoch'], df['IoU'], label='Training IoU', linewidth=2)\n",
        "plt.plot(df['epoch'], df['val_IoU'], label='Validation IoU', linewidth=2)\n",
        "plt.xlabel('Epoch')\n",
        "plt.ylabel('IoU')\n",
        "plt.title('Training and Validation IoU over Epochs')\n",
        "plt.legend()\n",
        "plt.grid(True)\n",
        "plt.tight_layout()\n",
        "plt.show()\n",
        "\n"
      ],
      "metadata": {
        "id": "gSn_o_x5DWn4",
        "colab": {
          "base_uri": "https://localhost:8080/",
          "height": 1000
        },
        "outputId": "b8527903-ea07-43dd-a497-ea96af525ff4"
      },
      "execution_count": 45,
      "outputs": [
        {
          "output_type": "display_data",
          "data": {
            "text/plain": [
              "<Figure size 1000x600 with 1 Axes>"
            ],
            "image/png": "[encoded data removed]"
          },
          "metadata": {}
        },
        {
          "output_type": "display_data",
          "data": {
            "text/plain": [
              "<Figure size 1000x600 with 1 Axes>"
            ],
            "image/png": "[encoded data removed]"
          },
          "metadata": {}
        }
      ]
    },
    {
      "cell_type": "code",
      "source": [
        "import os\n",
        "import pandas as pd\n",
        "import matplotlib.pyplot as plt\n",
        "\n",
        "\n",
        "\n",
        "drive_folder = '/content/drive/MyDrive/DL_final'\n",
        "\n",
        "history_rows = []\n",
        "for i in range(1, 31):\n",
        "    file_path = os.path.join(drive_folder, f'h{i}.csv')\n",
        "    if os.path.exists(file_path):\n",
        "        row = pd.read_csv(file_path)\n",
        "        row['epoch'] = i\n",
        "        history_rows.append(row)\n",
        "\n",
        "df = pd.concat(history_rows, ignore_index=True)\n",
        "\n",
        "test_file = os.path.join(drive_folder, 't30.csv')\n",
        "test_df = pd.read_csv(test_file)\n",
        "test_loss = test_df['loss'].values[0]\n",
        "test_iou = test_df['compile_metrics'].values[0]\n",
        "\n",
        "plt.figure(figsize=(10, 6))\n",
        "plt.plot(df['epoch'], df['loss'], label='Training Loss', linewidth=2)\n",
        "plt.plot(df['epoch'], df['val_loss'], label='Validation Loss', linewidth=2)\n",
        "plt.axhline(y=test_loss, color='red', linestyle='--', label=f'Average Test Loss')\n",
        "plt.xlabel('Epoch')\n",
        "plt.ylabel('Loss')\n",
        "plt.title('Training and Validation Loss over Epochs')\n",
        "plt.legend()\n",
        "plt.grid(True)\n",
        "plt.tight_layout()\n",
        "plt.show()\n",
        "\n",
        "plt.figure(figsize=(10, 6))\n",
        "plt.plot(df['epoch'], df['IoU'], label='Training IoU', linewidth=2)\n",
        "plt.plot(df['epoch'], df['val_IoU'], label='Validation IoU', linewidth=2)\n",
        "plt.axhline(y=test_iou, color='green', linestyle='--', label=f'Average Test IoU')\n",
        "plt.xlabel('Epoch')\n",
        "plt.ylabel('IoU')\n",
        "plt.title('Training and Validation IoU over Epochs')\n",
        "plt.legend()\n",
        "plt.grid(True)\n",
        "plt.tight_layout()\n",
        "plt.show()"
      ],
      "metadata": {
        "colab": {
          "base_uri": "https://localhost:8080/",
          "height": 1000
        },
        "id": "y4FUVJRnDuzy",
        "outputId": "ecceb9c5-1586-4f91-9f8e-e563d0830a6a"
      },
      "execution_count": 47,
      "outputs": [
        {
          "output_type": "stream",
          "name": "stdout",
          "text": [
            "Loss plot saved to: /content/drive/MyDrive/DL_final/test_loss_plot.png\n"
          ]
        },
        {
          "output_type": "display_data",
          "data": {
            "text/plain": [
              "<Figure size 1000x600 with 1 Axes>"
            ],
            "image/png": "[encoded data removed]"
          },
          "metadata": {}
        },
        {
          "output_type": "stream",
          "name": "stdout",
          "text": [
            "IoU plot saved to: /content/drive/MyDrive/DL_final/test_iou_plot.png\n"
          ]
        },
        {
          "output_type": "display_data",
          "data": {
            "text/plain": [
              "<Figure size 1000x600 with 1 Axes>"
            ],
            "image/png": "[encoded data removed]"
          },
          "metadata": {}
        }
      ]
    },
    {
      "cell_type": "markdown",
      "source": [
        "## Precision and Recall on Test data"
      ],
      "metadata": {
        "id": "pkD4072GO5Cb"
      }
    },
    {
      "cell_type": "code",
      "source": [
        "import numpy as np\n",
        "\n",
        "# Load the saved ids file\n",
        "data = np.load('/content/drive/MyDrive/stratified_split_ids.npz', allow_pickle=True)\n",
        "\n",
        "# Extract the lists\n",
        "train_ids = data['train_ids'].tolist()\n",
        "validation_ids = data['validation_ids'].tolist()\n",
        "test_ids = data['test_ids'].tolist()"
      ],
      "metadata": {
        "id": "Je_PQjs3PM7_"
      },
      "execution_count": null,
      "outputs": []
    },
    {
      "cell_type": "code",
      "source": [
        "# Initialize test data generator\n",
        "\n",
        "test_batch_size = 100\n",
        "test_slice_step = 1\n",
        "\n",
        "test_data_gen = BrainTumor2DSliceGenerator(\n",
        "    images_folder,\n",
        "    labels_folder,\n",
        "    test_ids,\n",
        "    batch_size=test_batch_size,\n",
        "    slice_step=test_slice_step,\n",
        "    shuffle=False\n",
        "    )"
      ],
      "metadata": {
        "id": "-7MxyNzhPG0w"
      },
      "execution_count": null,
      "outputs": []
    },
    {
      "cell_type": "code",
      "source": [
        "# Load the model\n",
        "\n",
        "from tensorflow.keras.models import load_model\n",
        "\n",
        "model_path = '/content/drive/MyDrive/DL_final/m30.keras'\n",
        "\n",
        "model = load_model(model_path, custom_objects={\n",
        "    'combo_scce_dice_loss': combo_scce_dice_loss,\n",
        "    'iou_metric': iou_metric,})"
      ],
      "metadata": {
        "id": "7o8N7fZCPGyT"
      },
      "execution_count": null,
      "outputs": []
    },
    {
      "cell_type": "code",
      "source": [
        "import numpy as np\n",
        "from sklearn.metrics import precision_score, recall_score, f1_score\n",
        "\n",
        "y_pred_probs = model.predict(test_data_gen, verbose=1)\n",
        "\n",
        "y_pred_classes = np.argmax(y_pred_probs, axis=-1)\n",
        "\n",
        "y_true_list = []\n",
        "for i in range(len(test_data_gen)):\n",
        "    _, y_true_batch = test_data_gen[i]\n",
        "    y_true_list.append(y_true_batch)\n",
        "y_true = np.concatenate(y_true_list, axis=0)\n",
        "\n",
        "y_pred_flat = y_pred_classes.flatten()\n",
        "y_true_flat = y_true.flatten()\n",
        "\n",
        "precision_per_class = precision_score(y_true_flat, y_pred_flat, average=None, zero_division=0)\n",
        "recall_per_class = recall_score(y_true_flat, y_pred_flat, average=None, zero_division=0)\n",
        "f1_per_class = f1_score(y_true_flat, y_pred_flat, average=None, zero_division=0)\n",
        "\n",
        "for class_id in range(len(precision_per_class)):\n",
        "    print(f\"Class {class_id} — Precision: {precision_per_class[class_id]:.4f}, \"\n",
        "          f\"Recall: {recall_per_class[class_id]:.4f}, \"\n",
        "          f\"F1-score: {f1_per_class[class_id]:.4f}\")"
      ],
      "metadata": {
        "id": "918Rb1WIPGvZ"
      },
      "execution_count": null,
      "outputs": []
    },
    {
      "cell_type": "markdown",
      "source": [
        "# 3D Related Code"
      ],
      "metadata": {
        "id": "2HJNiN6WPu3J"
      }
    },
    {
      "cell_type": "markdown",
      "source": [
        "# Split into Train, Validation and Test"
      ],
      "metadata": {
        "id": "To4jd0M06UuU"
      }
    },
    {
      "cell_type": "code",
      "source": [
        "import os\n",
        "import shutil\n",
        "import random\n",
        "import numpy as np\n",
        "\n",
        "# new folders creation\n",
        "image_train_dir = '/content/imageTrain'\n",
        "label_train_dir = '/content/labelTrain'\n",
        "image_validation_dir = '/content/imageValidation'\n",
        "label_validation_dir = '/content/labelValidation'\n",
        "image_test_dir = '/content/imageTest'\n",
        "label_test_dir = '/content/labelTest'\n",
        "for d in [image_train_dir, label_train_dir, image_validation_dir, label_validation_dir, image_test_dir, label_test_dir]:\n",
        "    os.makedirs(d, exist_ok=True)\n",
        "\n",
        "train_ids, validation_ids, test_ids = stratified_split_ids(images_dir, labels_dir)\n",
        "\n",
        "# create list of (image_path, label_path)\n",
        "train_files = [(os.path.join(images_dir, f\"{id}.nii.gz\"), os.path.join(labels_dir, f\"{id}.nii.gz\")) for id in train_ids]\n",
        "validation_files = [(os.path.join(images_dir, f\"{id}.nii.gz\"), os.path.join(labels_dir, f\"{id}.nii.gz\")) for id in validation_ids]\n",
        "test_files = [(os.path.join(images_dir, f\"{id}.nii.gz\"), os.path.join(labels_dir, f\"{id}.nii.gz\")) for id in test_ids]\n",
        "\n",
        "# copy\n",
        "copy_files(train_files, image_train_dir, label_train_dir)\n",
        "copy_files(validation_files, image_validation_dir, label_validation_dir)\n",
        "copy_files(test_files, image_test_dir, label_test_dir)\n",
        "\n",
        "# delete\n",
        "delete_folder(images_dir)\n",
        "delete_folder(labels_dir)\n",
        "\n",
        "# check matching files\n",
        "verify_matching_files(image_train_dir, label_train_dir)\n",
        "verify_matching_files(image_validation_dir, label_validation_dir)\n",
        "verify_matching_files(image_test_dir, label_test_dir)"
      ],
      "metadata": {
        "id": "uaSZRsr56UZe"
      },
      "execution_count": null,
      "outputs": []
    },
    {
      "cell_type": "code",
      "source": [
        "# Check\n",
        "\n",
        "import nibabel as nib\n",
        "import matplotlib.pyplot as plt\n",
        "import numpy as np\n",
        "\n",
        "nii_file = nib.load(\"/content/imageTrain/BRATS_142.nii.gz\")\n",
        "img_norm = nii_file.get_fdata()\n",
        "nii_file = nib.load(\"/content/labelTrain/BRATS_142.nii.gz\")\n",
        "lbl = nii_file.get_fdata()\n",
        "\n",
        "print(img_norm.shape)\n",
        "print(lbl.shape)\n",
        "print(img_norm[80][80][60][2])\n",
        "print(lbl[100][120][64])\n",
        "\n",
        "def show_4_mri_with_labels(volume, label):\n",
        "  # Create figure for modalities\n",
        "  plt.figure(figsize=(12, 4))\n",
        "\n",
        "  # Loop through the 4 modalities\n",
        "  for i in range(4):\n",
        "      # Create subplot\n",
        "      plt.subplot(1, 4, i+1)\n",
        "      # Display middle slice of current modality\n",
        "      plt.imshow(volume[..., volume.shape[2]//2, i], cmap='gray')\n",
        "      \"\"\"\n",
        "      ...: all rows, all columns\n",
        "      volume.shape[2] is the number of slices (DEPTH)\n",
        "      volume.shape[2] // 2 takes the middle slice index\n",
        "      i is the modality index (from 0 to 3)\n",
        "      It's like saying: “Give me the 2D image for the center of the brain, for modality i.”\n",
        "      The result is a 2D image of shape (H, W).\n",
        "      \"\"\"\n",
        "      # Set modality title\n",
        "      plt.title(f'Modality {i+1}')\n",
        "\n",
        "  # Show modality plots\n",
        "  plt.show()\n",
        "\n",
        "  # Display middle slice of label\n",
        "  plt.imshow(label[..., label.shape[2]//2], cmap='nipy_spectral')\n",
        "  # Set label title\n",
        "  plt.title('Label')\n",
        "\n",
        "  # Show label plot\n",
        "  plt.show()\n",
        "\n",
        "show_4_mri_with_labels(img_norm, lbl)"
      ],
      "metadata": {
        "id": "n4lIvygR6ieG"
      },
      "execution_count": null,
      "outputs": []
    },
    {
      "cell_type": "markdown",
      "source": [
        "# Data generator for 3D volumes"
      ],
      "metadata": {
        "id": "NN-Yt33s6oI_"
      }
    },
    {
      "cell_type": "markdown",
      "source": [
        "## Data Augmentation"
      ],
      "metadata": {
        "id": "xMGO-mJN6xpv"
      }
    },
    {
      "cell_type": "code",
      "source": [
        "import nibabel as nib\n",
        "import numpy as np\n",
        "import os\n",
        "from scipy import ndimage\n",
        "\n",
        "def random_augment_3d(image, label):\n",
        "    \"\"\"\n",
        "    image: numpy array (H, W, D, C)\n",
        "    label: numpy array (H, W, D, C)\n",
        "    \"\"\"\n",
        "    # symmetric to x-axis\n",
        "    if np.random.rand() > 0.5:\n",
        "        image = np.flip(image, axis=0)\n",
        "        label = np.flip(label, axis=0)\n",
        "\n",
        "    # symmetric to y-axis\n",
        "    if np.random.rand() > 0.5:\n",
        "        image = np.flip(image, axis=1)\n",
        "        label = np.flip(label, axis=1)\n",
        "\n",
        "    # symmetric to z-axis\n",
        "    if np.random.rand() > 0.5:\n",
        "        image = np.flip(image, axis=2)\n",
        "        label = np.flip(label, axis=2)\n",
        "\n",
        "    # light gaussian noise ONLY on background\n",
        "    if np.random.rand() > 0.5:\n",
        "        # background mask from the one-hot encoded label\n",
        "        background_mask = label[..., 0] == 1  # shape (H, W, D)\n",
        "\n",
        "        # expand to match image channels\n",
        "        background_mask = np.expand_dims(background_mask, axis=-1)  # shape (H, W, D, 1)\n",
        "        background_mask = np.repeat(background_mask, image.shape[-1], axis=-1)  # shape (H, W, D, C)\n",
        "\n",
        "        # apply gaussian noise only to background\n",
        "        noise = np.random.normal(0, 0.01, size=image.shape)\n",
        "        image = image + noise * background_mask\n",
        "\n",
        "    return image, label"
      ],
      "metadata": {
        "id": "dd6W56hN6q1G"
      },
      "execution_count": null,
      "outputs": []
    },
    {
      "cell_type": "markdown",
      "source": [
        "## One Hot Encoding Labels"
      ],
      "metadata": {
        "id": "7XIsHx5Z6-B5"
      }
    },
    {
      "cell_type": "code",
      "source": [
        "# labels must be one hot encoded\n",
        "\n",
        "import tensorflow as tf\n",
        "\n",
        "def one_hot_encode_label_tf(label, num_classes=4):\n",
        "    label = tf.convert_to_tensor(label, dtype=tf.int32)\n",
        "    one_hot = tf.one_hot(label, depth=num_classes)\n",
        "    return one_hot.numpy()"
      ],
      "metadata": {
        "id": "utSq34YN69vQ"
      },
      "execution_count": null,
      "outputs": []
    },
    {
      "cell_type": "markdown",
      "source": [
        "## Batch Generator"
      ],
      "metadata": {
        "id": "bWd1nMFQ7ESL"
      }
    },
    {
      "cell_type": "code",
      "source": [
        "# function to load a group of .nii.gz files from a folder and return them as a NumPy vector\n",
        "\n",
        "import os\n",
        "import numpy as np\n",
        "import nibabel as nib\n",
        "\n",
        "def load_list(file_dir, file_list):\n",
        "    # file_list is a list of filenames like [\"BRATS_001.nii.gz\", ...]\n",
        "\n",
        "    vector = []\n",
        "\n",
        "    for filename in file_list:\n",
        "        path = os.path.join(file_dir, filename)\n",
        "        current = nib.load(path).get_fdata()\n",
        "\n",
        "        if current.ndim == 3: # if label\n",
        "          current = one_hot_encode_label_tf(current)\n",
        "\n",
        "        vector.append(current)\n",
        "\n",
        "    return np.array(vector)"
      ],
      "metadata": {
        "id": "nkkFM2Nf7D6i"
      },
      "execution_count": null,
      "outputs": []
    },
    {
      "cell_type": "code",
      "source": [
        "\n",
        "# function to generate the Batch: a vector where each element is a tuple: (image, label)\n",
        "\n",
        "def batchLoader(img_dir, img_list, label_dir, label_list, batch_size, augment=True):\n",
        "\n",
        "    L = len(img_list)\n",
        "\n",
        "    # Keras requires batches to be provided one at the time\n",
        "    while True:\n",
        "\n",
        "        indices = np.random.permutation(L)\n",
        "        img_list = np.array(img_list)[indices]\n",
        "        label_list = np.array(label_list)[indices]\n",
        "\n",
        "        batch_start = 0\n",
        "        batch_end = batch_size\n",
        "\n",
        "        while batch_start < L:\n",
        "            limit = min(batch_end, L)\n",
        "\n",
        "            X = load_list(img_dir, img_list[batch_start:limit])\n",
        "            Y = load_list(label_dir, label_list[batch_start:limit])\n",
        "\n",
        "            # data augmentation\n",
        "            if augment:\n",
        "                for i in range(len(X)):\n",
        "                    X[i], Y[i] = random_augment_3d(X[i], Y[i])\n",
        "\n",
        "            yield (X,Y)\n",
        "            # similar to 'return' but it doesn't end the function, it just suspends it.\n",
        "            # It builds a tuple with two numpy arrays with batch_size samples\n",
        "\n",
        "            batch_start += batch_size\n",
        "            batch_end += batch_size"
      ],
      "metadata": {
        "id": "vMbY6Fgo7Ihs"
      },
      "execution_count": null,
      "outputs": []
    },
    {
      "cell_type": "markdown",
      "source": [
        "# 3D U-Net"
      ],
      "metadata": {
        "id": "7Ko8E3_a7Jhq"
      }
    },
    {
      "cell_type": "markdown",
      "source": [
        "## Instance Normalization Function"
      ],
      "metadata": {
        "id": "qaaDDHKJ7O1U"
      }
    },
    {
      "cell_type": "code",
      "source": [
        "\n",
        "\n",
        "import tensorflow as tf\n",
        "from tensorflow.keras.layers import Layer\n",
        "\n",
        "class InstanceNormalization(Layer):\n",
        "    def __init__(self, epsilon=1e-5, **kwargs):\n",
        "        super().__init__(**kwargs)\n",
        "        self.epsilon = epsilon\n",
        "\n",
        "    def build(self, input_shape):\n",
        "        self.gamma = self.add_weight(shape=(input_shape[-1],),\n",
        "                                     initializer=\"ones\",\n",
        "                                     trainable=True)\n",
        "        self.beta = self.add_weight(shape=(input_shape[-1],),\n",
        "                                    initializer=\"zeros\",\n",
        "                                    trainable=True)\n",
        "\n",
        "    def call(self, inputs):\n",
        "        mean, variance = tf.nn.moments(inputs, axes=[1, 2, 3], keepdims=True)\n",
        "        normalized = (inputs - mean) / tf.sqrt(variance + self.epsilon)\n",
        "        return self.gamma * normalized + self.beta\n",
        "\n",
        "    def get_config(self):\n",
        "        config = super().get_config()\n",
        "        config.update({\"epsilon\": self.epsilon})\n",
        "        return config"
      ],
      "metadata": {
        "id": "EU-6kZON7RFB"
      },
      "execution_count": null,
      "outputs": []
    },
    {
      "cell_type": "markdown",
      "source": [
        "## U-Net"
      ],
      "metadata": {
        "id": "IzuEDMsa7UzY"
      }
    },
    {
      "cell_type": "code",
      "source": [
        "from tensorflow.keras.layers import Input, Conv3D, Conv3DTranspose, MaxPooling3D, Dropout, concatenate, Activation\n",
        "from tensorflow.keras.models import Model\n",
        "\n",
        "kernel_initializer = 'he_uniform'\n",
        "\n",
        "def TriDimensional_Unet_Model(IMG_HEIGHT, IMG_WIDTH, IMG_DEPTH, IMG_CHANNELS, num_classes):\n",
        "    inputs = Input((IMG_HEIGHT, IMG_WIDTH, IMG_DEPTH, IMG_CHANNELS))\n",
        "\n",
        "    # Contracting path\n",
        "    c1 = Conv3D(16, (3, 3, 3), activation=None, kernel_initializer=kernel_initializer, padding='same')(inputs)\n",
        "    c1 = InstanceNormalization()(c1)\n",
        "    c1 = Activation('relu')(c1)\n",
        "    c1 = Dropout(0.1)(c1)\n",
        "    c1 = Conv3D(16, (3, 3, 3), activation=None, kernel_initializer=kernel_initializer, padding='same')(c1)\n",
        "    c1 = InstanceNormalization()(c1)\n",
        "    c1 = Activation('relu')(c1)\n",
        "    p1 = MaxPooling3D((2, 2, 2))(c1)\n",
        "\n",
        "    c2 = Conv3D(32, (3, 3, 3), activation=None, kernel_initializer=kernel_initializer, padding='same')(p1)\n",
        "    c2 = InstanceNormalization()(c2)\n",
        "    c2 = Activation('relu')(c2)\n",
        "    c2 = Dropout(0.1)(c2)\n",
        "    c2 = Conv3D(32, (3, 3, 3), activation=None, kernel_initializer=kernel_initializer, padding='same')(c2)\n",
        "    c2 = InstanceNormalization()(c2)\n",
        "    c2 = Activation('relu')(c2)\n",
        "    p2 = MaxPooling3D((2, 2, 2))(c2)\n",
        "\n",
        "    c3 = Conv3D(64, (3, 3, 3), activation=None, kernel_initializer=kernel_initializer, padding='same')(p2)\n",
        "    c3 = InstanceNormalization()(c3)\n",
        "    c3 = Activation('relu')(c3)\n",
        "    c3 = Dropout(0.2)(c3)\n",
        "    c3 = Conv3D(64, (3, 3, 3), activation=None, kernel_initializer=kernel_initializer, padding='same')(c3)\n",
        "    c3 = InstanceNormalization()(c3)\n",
        "    c3 = Activation('relu')(c3)\n",
        "    p3 = MaxPooling3D((2, 2, 2))(c3)\n",
        "\n",
        "    c4 = Conv3D(128, (3, 3, 3), activation=None, kernel_initializer=kernel_initializer, padding='same')(p3)\n",
        "    c4 = InstanceNormalization()(c4)\n",
        "    c4 = Activation('relu')(c4)\n",
        "    c4 = Dropout(0.2)(c4)\n",
        "    c4 = Conv3D(128, (3, 3, 3), activation=None, kernel_initializer=kernel_initializer, padding='same')(c4)\n",
        "    c4 = InstanceNormalization()(c4)\n",
        "    c4 = Activation('relu')(c4)\n",
        "    p4 = MaxPooling3D((2, 2, 2))(c4)\n",
        "\n",
        "    c5 = Conv3D(256, (3, 3, 3), activation=None, kernel_initializer=kernel_initializer, padding='same')(p4)\n",
        "    c5 = InstanceNormalization()(c5)\n",
        "    c5 = Activation('relu')(c5)\n",
        "    c5 = Dropout(0.3)(c5)\n",
        "    c5 = Conv3D(256, (3, 3, 3), activation=None, kernel_initializer=kernel_initializer, padding='same')(c5)\n",
        "    c5 = InstanceNormalization()(c5)\n",
        "    c5 = Activation('relu')(c5)\n",
        "\n",
        "    # Expansive path\n",
        "    u6 = Conv3DTranspose(128, (2, 2, 2), strides=(2, 2, 2), padding='same', activation=None)(c5)\n",
        "    u6 = InstanceNormalization()(u6)\n",
        "    u6 = Activation('relu')(u6)\n",
        "    u6 = concatenate([u6, c4])\n",
        "    c6 = Conv3D(128, (3, 3, 3), activation=None, kernel_initializer=kernel_initializer, padding='same')(u6)\n",
        "    c6 = InstanceNormalization()(c6)\n",
        "    c6 = Activation('relu')(c6)\n",
        "    c6 = Dropout(0.2)(c6)\n",
        "    c6 = Conv3D(128, (3, 3, 3), activation=None, kernel_initializer=kernel_initializer, padding='same')(c6)\n",
        "    c6 = InstanceNormalization()(c6)\n",
        "    c6 = Activation('relu')(c6)\n",
        "\n",
        "    u7 = Conv3DTranspose(64, (2, 2, 2), strides=(2, 2, 2), padding='same', activation=None)(c6)\n",
        "    u7 = InstanceNormalization()(u7)\n",
        "    u7 = Activation('relu')(u7)\n",
        "    u7 = concatenate([u7, c3])\n",
        "    c7 = Conv3D(64, (3, 3, 3), activation=None, kernel_initializer=kernel_initializer, padding='same')(u7)\n",
        "    c7 = InstanceNormalization()(c7)\n",
        "    c7 = Activation('relu')(c7)\n",
        "    c7 = Dropout(0.2)(c7)\n",
        "    c7 = Conv3D(64, (3, 3, 3), activation=None, kernel_initializer=kernel_initializer, padding='same')(c7)\n",
        "    c7 = InstanceNormalization()(c7)\n",
        "    c7 = Activation('relu')(c7)\n",
        "\n",
        "    u8 = Conv3DTranspose(32, (2, 2, 2), strides=(2, 2, 2), padding='same', activation=None)(c7)\n",
        "    u8 = InstanceNormalization()(u8)\n",
        "    u8 = Activation('relu')(u8)\n",
        "    u8 = concatenate([u8, c2])\n",
        "    c8 = Conv3D(32, (3, 3, 3), activation=None, kernel_initializer=kernel_initializer, padding='same')(u8)\n",
        "    c8 = InstanceNormalization()(c8)\n",
        "    c8 = Activation('relu')(c8)\n",
        "    c8 = Dropout(0.1)(c8)\n",
        "    c8 = Conv3D(32, (3, 3, 3), activation=None, kernel_initializer=kernel_initializer, padding='same')(c8)\n",
        "    c8 = InstanceNormalization()(c8)\n",
        "    c8 = Activation('relu')(c8)\n",
        "\n",
        "    u9 = Conv3DTranspose(16, (2, 2, 2), strides=(2, 2, 2), padding='same', activation=None)(c8)\n",
        "    u9 = InstanceNormalization()(u9)\n",
        "    u9 = Activation('relu')(u9)\n",
        "    u9 = concatenate([u9, c1])\n",
        "    c9 = Conv3D(16, (3, 3, 3), activation=None, kernel_initializer=kernel_initializer, padding='same')(u9)\n",
        "    c9 = InstanceNormalization()(c9)\n",
        "    c9 = Activation('relu')(c9)\n",
        "    c9 = Dropout(0.1)(c9)\n",
        "    c9 = Conv3D(16, (3, 3, 3), activation=None, kernel_initializer=kernel_initializer, padding='same')(c9)\n",
        "    # InstanceNormalization not needed with softmax here to not interfere with final softmax\n",
        "\n",
        "    outputs = Conv3D(num_classes, (1, 1, 1), activation='softmax')(c9) # 4 channels where, per each voxel, the sum of the four voxels is 1\n",
        "\n",
        "    model = Model(inputs=[inputs], outputs=[outputs])\n",
        "    model.summary()\n",
        "\n",
        "    return model\n",
        ""
      ],
      "metadata": {
        "id": "YFU0ZP6-7VQf"
      },
      "execution_count": null,
      "outputs": []
    },
    {
      "cell_type": "markdown",
      "source": [
        "# Training"
      ],
      "metadata": {
        "id": "gta1lvhc8Txx"
      }
    },
    {
      "cell_type": "code",
      "source": [
        "#define paths and data generator\n",
        "\n",
        "import os\n",
        "import numpy as np\n",
        "import tensorflow as tf\n",
        "import keras\n",
        "import random\n",
        "\n",
        "train_img_dir = \"/content/imageTrain/\"\n",
        "train_lbl_dir = \"/content/labelTrain/\"\n",
        "train_img_list = sorted(os.listdir(train_img_dir))\n",
        "train_lbl_list = sorted(os.listdir(train_lbl_dir))\n",
        "\n",
        "val_img_dir = \"/content/imageValidation/\"\n",
        "val_lbl_dir = \"/content/labelValidation/\"\n",
        "val_img_list = sorted(os.listdir(val_img_dir))\n",
        "val_lbl_list = sorted(os.listdir(val_lbl_dir))\n",
        "\n",
        "np.random.seed(1312)\n",
        "\n",
        "batch_size = 2\n",
        "train_generator = batchLoader(train_img_dir, train_img_list,\n",
        "                                train_lbl_dir, train_lbl_list, batch_size)\n",
        "validation_generator = batchLoader(val_img_dir, val_img_list,\n",
        "                                val_lbl_dir, val_lbl_list, batch_size)\n",
        ""
      ],
      "metadata": {
        "id": "t-KNUsIc8VR-"
      },
      "execution_count": null,
      "outputs": []
    },
    {
      "cell_type": "code",
      "source": [
        "# Check on generator\n",
        "\n",
        "print(train_img_list[100])\n",
        "print(train_lbl_list[100])\n",
        "\n",
        "np.random.seed(100)\n",
        "\n",
        "my_datagen = batchLoader(train_img_dir, train_img_list, train_lbl_dir, train_lbl_list, batch_size)\n",
        "batch_images, batch_labels = next(my_datagen)\n",
        "print(\"Image shape: \", batch_images.shape)\n",
        "print(\"Label shape: \", batch_labels.shape)\n",
        "\n",
        "\n",
        "def show_4_mri_with_labels_hot_encoded(volume, label):\n",
        "    # show the 4 brain resonance modalities\n",
        "    plt.figure(figsize=(12, 4))\n",
        "    for i in range(4):\n",
        "        plt.subplot(1, 4, i + 1)\n",
        "        plt.imshow(volume[..., volume.shape[2] // 2, i], cmap='gray')\n",
        "        plt.title(f'Modality {i + 1}')\n",
        "        plt.axis('off')\n",
        "    plt.show()\n",
        "\n",
        "    # extract the central slice according to depth of the label\n",
        "    middle_slice = label[..., label.shape[2] // 2, :]  # shape (H, W, num_classes)\n",
        "    #arg_max on channels for each pixel\n",
        "    label_slice = np.argmax(middle_slice, axis=-1)     # shape (H, W)\n",
        "\n",
        "    # show the label\n",
        "    plt.figure(figsize=(4, 4))\n",
        "    plt.imshow(label_slice, cmap='nipy_spectral')\n",
        "    plt.title('Label (argmax over classes)')\n",
        "    plt.axis('off')\n",
        "    plt.show()\n",
        "show_4_mri_with_labels_hot_encoded(batch_images[0], batch_labels[0])\n",
        ""
      ],
      "metadata": {
        "id": "qYvZvJB58YWX"
      },
      "execution_count": null,
      "outputs": []
    },
    {
      "cell_type": "markdown",
      "source": [
        "## Compile"
      ],
      "metadata": {
        "id": "RgNEOx_69CeZ"
      }
    },
    {
      "cell_type": "code",
      "source": [
        "seed=1312\n",
        "tf.random.set_seed(seed)\n",
        "\n",
        "metrics = [keras.metrics.OneHotIoU(num_classes=4, target_class_ids=[0, 1, 2, 3])]\n",
        "LR = 0.0001\n",
        "optim = keras.optimizers.Adam(LR)\n",
        "\n",
        "steps_per_epoch = len(train_img_list)//batch_size\n",
        "val_steps_per_epoch = len(val_img_list)//batch_size\n",
        "\n",
        "model = TriDimensional_Unet_Model(IMG_HEIGHT=160, IMG_WIDTH=160, IMG_DEPTH=128, IMG_CHANNELS=4, num_classes=4)\n",
        "model.compile(optimizer=optim, loss=combined_cce_dice_loss, metrics=metrics)\n",
        "\n",
        "print(model.input_shape)\n",
        "print(model.output_shape)"
      ],
      "metadata": {
        "id": "vwxF_H5s9FsN"
      },
      "execution_count": null,
      "outputs": []
    },
    {
      "cell_type": "markdown",
      "source": [
        "## Fit\n"
      ],
      "metadata": {
        "id": "9acjZ8Bh9cJN"
      }
    },
    {
      "cell_type": "code",
      "source": [
        "history=model.fit(train_generator,\n",
        "                  steps_per_epoch=steps_per_epoch,\n",
        "                  epochs=100,\n",
        "                  verbose=1,\n",
        "                  validation_data=validation_generator,\n",
        "                  validation_steps=val_steps_per_epoch,\n",
        "                  callbacks=[checkpoint_callback, csv_logger]\n",
        "                  )\n",
        ""
      ],
      "metadata": {
        "id": "X-KfzP_R9ccL"
      },
      "execution_count": null,
      "outputs": []
    },
    {
      "cell_type": "markdown",
      "source": [
        "## Restart Training after Interrupt"
      ],
      "metadata": {
        "id": "fiw2MvS59j4m"
      }
    },
    {
      "cell_type": "code",
      "source": [
        "from tensorflow import keras\n",
        "\n",
        "# load the model from epoch 17\n",
        "model = keras.models.load_model(\n",
        "    '/content/drive/MyDrive/Colab Notebooks/Deep Learning Project/checkpoints/Cross Entropy & Dice loss v4/epoch_17.keras',\n",
        "    custom_objects={\n",
        "        'InstanceNormalization': InstanceNormalization,\n",
        "        'combined_cce_dice_loss': combined_cce_dice_loss\n",
        "    },\n",
        "    compile=True\n",
        ")"
      ],
      "metadata": {
        "id": "jda5dDH09mYJ"
      },
      "execution_count": null,
      "outputs": []
    },
    {
      "cell_type": "code",
      "source": [
        "history = model.fit(train_generator,\n",
        "                    steps_per_epoch=steps_per_epoch,\n",
        "                    epochs=100,\n",
        "                    initial_epoch=17,\n",
        "                    validation_data=validation_generator,\n",
        "                    validation_steps=val_steps_per_epoch,\n",
        "                    callbacks=[checkpoint_callback, csv_logger]\n",
        ")"
      ],
      "metadata": {
        "id": "_MwPica_9pMj"
      },
      "execution_count": null,
      "outputs": []
    },
    {
      "cell_type": "markdown",
      "source": [
        "# Evaluation"
      ],
      "metadata": {
        "id": "88yPKHf19pnv"
      }
    },
    {
      "cell_type": "markdown",
      "source": [
        "## Training and Validation performance"
      ],
      "metadata": {
        "id": "U-F844bu-LWk"
      }
    },
    {
      "cell_type": "code",
      "source": [
        "import pandas as pd\n",
        "import matplotlib.pyplot as plt\n",
        "\n",
        "file_path = '/content/drive/MyDrive/Colab Notebooks/Deep Learning Project/checkpoints/Cross Entropy & Dice loss v4/losses_metrics.csv'\n",
        "df = pd.read_csv(file_path, sep=',')\n",
        ""
      ],
      "metadata": {
        "id": "N3uYBsdJ-Ogv"
      },
      "execution_count": null,
      "outputs": []
    },
    {
      "cell_type": "code",
      "source": [
        "\n",
        "plt.figure(figsize=(10,6))\n",
        "plt.plot(df['epoch'], df['loss'], label='Training Loss')\n",
        "plt.plot(df['epoch'], df['val_loss'], label='Validation Loss')\n",
        "plt.xlabel('Epoch')\n",
        "plt.ylabel('Loss')\n",
        "plt.title('Training and Validation Loss over Epochs')\n",
        "plt.legend()\n",
        "plt.grid(True)\n",
        "plt.show()"
      ],
      "metadata": {
        "id": "-A4eGZ5E-QZH"
      },
      "execution_count": null,
      "outputs": []
    },
    {
      "cell_type": "code",
      "source": [
        "\n",
        "plt.figure(figsize=(10,6))\n",
        "plt.plot(df['epoch'], df['one_hot_io_u'], label='Training IOU')\n",
        "plt.plot(df['epoch'], df['val_one_hot_io_u'], label='Validation IOU')\n",
        "plt.xlabel('Epoch')\n",
        "plt.ylabel('One Hot IOU')\n",
        "plt.title('Training and Validation IOU over Epochs')\n",
        "plt.legend()\n",
        "plt.grid(True)\n",
        "plt.show()\n",
        ""
      ],
      "metadata": {
        "id": "2qGWuNzV-Sfi"
      },
      "execution_count": null,
      "outputs": []
    },
    {
      "cell_type": "markdown",
      "source": [
        "## Test performance"
      ],
      "metadata": {
        "id": "O9PEaJuM-Sy5"
      }
    },
    {
      "cell_type": "code",
      "source": [
        "# test data generator\n",
        "\n",
        "test_img_dir = \"/content/imageTest/\"\n",
        "test_lbl_dir = \"/content/labelTest/\"\n",
        "test_img_list = sorted(os.listdir(test_img_dir))\n",
        "test_lbl_list = sorted(os.listdir(test_lbl_dir))\n",
        "\n",
        "np.random.seed(1312)\n",
        "\n",
        "batch_size = 2\n",
        "\n",
        "test_generator = batchLoader(test_img_dir, test_img_list,\n",
        "                             test_lbl_dir, test_lbl_list,\n",
        "                             batch_size)"
      ],
      "metadata": {
        "id": "Fy6P_Ppq-UfW"
      },
      "execution_count": null,
      "outputs": []
    },
    {
      "cell_type": "code",
      "source": [
        "# evaluate the model\n",
        "\n",
        "from tensorflow import keras\n",
        "\n",
        "model = keras.models.load_model(\n",
        "    '/content/drive/MyDrive/Colab Notebooks/Deep Learning Project/checkpoints/Cross Entropy & Dice loss v4/epoch_36.keras',\n",
        "    custom_objects={\n",
        "        'InstanceNormalization': InstanceNormalization,\n",
        "        'combined_cce_dice_loss': combined_cce_dice_loss\n",
        "    },\n",
        "    compile=True\n",
        ")\n",
        "\n",
        "steps_per_epoch_test = int(np.ceil(len(test_img_list) / batch_size))\n",
        "print(f\"Steps in test set: {steps_per_epoch_test}\")\n",
        "\n",
        "test_results = model.evaluate(test_generator, steps=steps_per_epoch_test, verbose=1) # it provides the average values of loss and IOU on test data in about xx minutes\n",
        ""
      ],
      "metadata": {
        "id": "ATbdQ_3p-Ys5"
      },
      "execution_count": null,
      "outputs": []
    },
    {
      "cell_type": "code",
      "source": [
        "# saving results\n",
        "import json\n",
        "import os\n",
        "\n",
        "results_dict = {name: float(value) for name, value in zip(model.metrics_names, test_results)}\n",
        "\n",
        "results_path = '/content/drive/MyDrive/Colab Notebooks/Deep Learning Project/checkpoints/Cross Entropy & Dice loss v4/losses_metrics_test.json'\n",
        "os.makedirs(os.path.dirname(results_path), exist_ok=True)\n",
        "\n",
        "with open(results_path, 'w') as f:\n",
        "    json.dump(results_dict, f, indent=4)\n",
        ""
      ],
      "metadata": {
        "id": "cPB1vQNM-bNa"
      },
      "execution_count": null,
      "outputs": []
    },
    {
      "cell_type": "code",
      "source": [
        "\n",
        "\n",
        "import pandas as pd\n",
        "import matplotlib.pyplot as plt\n",
        "import json\n",
        "\n",
        "# load metrics from Json\n",
        "results_path = '/content/drive/MyDrive/Colab Notebooks/Deep Learning Project/checkpoints/Cross Entropy & Dice loss v4/losses_metrics_test.json'\n",
        "with open(results_path, 'r') as f:\n",
        "    test_results = json.load(f)\n",
        "\n",
        "# get values\n",
        "test_loss = test_results['loss']\n",
        "test_iou = test_results['compile_metrics']\n",
        "\n",
        "# plot loss (training, val, test)\n",
        "plt.figure(figsize=(10,6))\n",
        "plt.plot(df['epoch'], df['loss'], label='Training Loss')\n",
        "plt.plot(df['epoch'], df['val_loss'], label='Validation Loss')\n",
        "plt.axhline(y=test_loss, color='red', linestyle='--', label='Average Test Loss')\n",
        "plt.xlim(0, 16)\n",
        "plt.xlabel('Epoch')\n",
        "plt.ylabel('Loss')\n",
        "plt.title('Training, Validation and Test Loss')\n",
        "plt.legend()\n",
        "plt.grid(True)\n",
        "plt.yticks(np.arange(0.10, 0.52, 0.02))\n",
        "plt.show()\n",
        ""
      ],
      "metadata": {
        "id": "7fPy3dMl-bkV"
      },
      "execution_count": null,
      "outputs": []
    },
    {
      "cell_type": "code",
      "source": [
        "\n",
        "\n",
        "# plot IOU (training, val, test)\n",
        "plt.figure(figsize=(10,6))\n",
        "plt.plot(df['epoch'], df['one_hot_io_u'], label='Training IOU')\n",
        "plt.plot(df['epoch'], df['val_one_hot_io_u'], label='Validation IOU')\n",
        "plt.axhline(y=test_iou, color='green', linestyle='--', label='Average Test IOU')\n",
        "plt.xlim(0, 16)\n",
        "plt.xlabel('Epoch')\n",
        "plt.ylabel('One Hot IOU')\n",
        "plt.title('Training, Validation and Test IOU')\n",
        "plt.legend()\n",
        "plt.grid(True)\n",
        "plt.yticks(np.arange(0.25, 0.77, 0.02))\n",
        "plt.show()"
      ],
      "metadata": {
        "id": "BEwxq1LC-fZc"
      },
      "execution_count": null,
      "outputs": []
    },
    {
      "cell_type": "markdown",
      "source": [
        "## Precision and Recall on Test data"
      ],
      "metadata": {
        "id": "O22AsPCf-iTi"
      }
    },
    {
      "cell_type": "code",
      "source": [
        "import numpy as np\n",
        "from tensorflow import keras\n",
        "from sklearn.metrics import precision_score, recall_score, f1_score\n",
        "import os\n",
        "\n",
        "np.random.seed(1312)\n",
        "\n",
        "batch_size = 2\n",
        "\n",
        "test_generator = batchLoader(test_img_dir, test_img_list,\n",
        "                             test_lbl_dir, test_lbl_list,\n",
        "                             batch_size)\n",
        "\n",
        "# load model\n",
        "model = keras.models.load_model(\n",
        "    '/content/drive/MyDrive/Colab Notebooks/Deep Learning Project/checkpoints/Cross Entropy & Dice loss v4/epoch_36.keras',\n",
        "    custom_objects={\n",
        "        'InstanceNormalization': InstanceNormalization,\n",
        "        'combined_cce_dice_loss': combined_cce_dice_loss\n",
        "    },\n",
        "    compile=False\n",
        ")\n",
        "\n",
        "# needed batches to cover all test set\n",
        "num_batches = int(np.ceil(len(test_img_list) / batch_size))\n",
        "\n",
        "# collect ground truth and predictions\n",
        "y_true_all = []\n",
        "y_pred_all = []\n",
        "\n",
        "for i in range(num_batches):\n",
        "    batch_x, batch_y = next(test_generator)\n",
        "\n",
        "    batch_pred_probs = model.predict(batch_x)\n",
        "    batch_pred_classes = np.argmax(batch_pred_probs, axis=-1) # shape (batch_size, h, w, d), where each voxel has the value of the truth class [0,1,2,3]\n",
        "    batch_true_classes = np.argmax(batch_y, axis=-1) # shape (batch_size, h, w, d), where each voxel has the value of the truth class [0,1,2,3]\n",
        "\n",
        "    y_true_all.append(batch_true_classes)\n",
        "    y_pred_all.append(batch_pred_classes)\n",
        "\n",
        "# flatten\n",
        "y_true_flat = np.concatenate([y.flatten() for y in y_true_all])\n",
        "y_pred_flat = np.concatenate([y.flatten() for y in y_pred_all])\n",
        "\n",
        "# metrics\n",
        "precision_macro = precision_score(y_true_flat, y_pred_flat, average='macro', zero_division=0)\n",
        "recall_macro = recall_score(y_true_flat, y_pred_flat, average='macro', zero_division=0)\n",
        "f1_macro = f1_score(y_true_flat, y_pred_flat, average='macro', zero_division=0)\n",
        "\n",
        "precision_per_class = precision_score(y_true_flat, y_pred_flat, average=None, zero_division=0)\n",
        "recall_per_class = recall_score(y_true_flat, y_pred_flat, average=None, zero_division=0)\n",
        "f1_per_class = f1_score(y_true_flat, y_pred_flat, average=None, zero_division=0)\n",
        "\n",
        "# print\n",
        "print(f'Precision (macro): {precision_macro:.4f}')\n",
        "print(f'Recall (macro): {recall_macro:.4f}')\n",
        "print(f'F1-score (macro):  {f1_macro:.4f}')\n",
        "\n",
        "for i, (p, r, f1) in enumerate(zip(precision_per_class, recall_per_class, f1_per_class)):\n",
        "    print(f'Class {i}: Precision = {p:.4f}, Recall = {r:.4f}, F1 = {f1:.4f}')\n",
        "\n",
        "# save\n",
        "metrics_dict = {\n",
        "    \"macro\": {\n",
        "        \"precision\": float(precision_macro),\n",
        "        \"recall\": float(recall_macro),\n",
        "        \"f1\": float(f1_macro)\n",
        "    },\n",
        "    \"per_class\": {\n",
        "        f\"class_{i}\": {\n",
        "            \"precision\": float(p),\n",
        "            \"recall\": float(r),\n",
        "            \"f1\": float(f1)\n",
        "        } for i, (p, r, f1) in enumerate(zip(precision_per_class, recall_per_class, f1_per_class))\n",
        "    }\n",
        "}\n",
        "\n",
        "# save to JSON\n",
        "output_path = '/content/drive/MyDrive/Colab Notebooks/Deep Learning Project/checkpoints/Cross Entropy & Dice loss v4/precision_recall_f1.json'\n",
        "os.makedirs(os.path.dirname(output_path), exist_ok=True)\n",
        "\n",
        "with open(output_path, 'w') as f:\n",
        "    json.dump(metrics_dict, f, indent=4)\n",
        ""
      ],
      "metadata": {
        "id": "d9Tjw4YC-kd3"
      },
      "execution_count": null,
      "outputs": []
    },
    {
      "cell_type": "markdown",
      "source": [
        "# Prediction Example"
      ],
      "metadata": {
        "id": "q4iou2Y__DW8"
      }
    },
    {
      "cell_type": "code",
      "source": [
        "import numpy as np\n",
        "import nibabel as nib\n",
        "import matplotlib.pyplot as plt\n",
        "\n",
        "# load model\n",
        "model = keras.models.load_model(\n",
        "    '/content/drive/MyDrive/Colab Notebooks/Deep Learning Project/checkpoints/Cross Entropy & Dice loss v4/epoch_36.keras',\n",
        "    custom_objects={\n",
        "        'InstanceNormalization': InstanceNormalization,\n",
        "        'combined_cce_dice_loss': combined_cce_dice_loss\n",
        "    },\n",
        "    compile=False\n",
        ")\n",
        "\n",
        "# load image and label\n",
        "img_path = '/content/imageTest/BRATS_205.nii.gz'\n",
        "label_path = '/content/labelTest/BRATS_205.nii.gz'\n",
        "\n",
        "img = nib.load(img_path).get_fdata()         # shape: (H, W, D, C)\n",
        "label = nib.load(label_path).get_fdata()     # shape: (H, W, D)\n",
        "\n",
        "# check dimensions\n",
        "print(f\"Image shape: {img.shape}\")\n",
        "print(f\"Label shape: {label.shape}\")\n",
        "\n",
        "# parameters\n",
        "depth = img.shape[2]\n",
        "H, W, total_depth, C = img.shape\n",
        "pred_volume = np.zeros(label.shape, dtype=np.uint8)\n",
        "\n",
        "# slices\n",
        "for i in range(0, total_depth - depth + 1, depth):\n",
        "    input_block = img[:, :, i:i+depth, :]  # (H, W, D, C)\n",
        "    input_block = np.expand_dims(input_block, axis=0)  # (1, H, W, D, C)\n",
        "\n",
        "    pred = model.predict(input_block)\n",
        "    pred_labels = np.argmax(pred[0], axis=-1)  # (H, W, D)\n",
        "\n",
        "    pred_volume[:, :, i:i+depth] = pred_labels\n",
        "\n",
        "# plot slices\n",
        "for i in range(15, total_depth, 15):\n",
        "    plt.figure(figsize=(12, 4))\n",
        "    plt.subplot(1, 3, 1)\n",
        "    plt.imshow(img[:, :, i, 0], cmap='gray')\n",
        "    plt.title(f'Slice {i} - Channel 0')\n",
        "\n",
        "    plt.subplot(1, 3, 2)\n",
        "    plt.imshow(label[:, :, i], cmap='jet')\n",
        "    plt.title('Ground Truth')\n",
        "\n",
        "    plt.subplot(1, 3, 3)\n",
        "    plt.imshow(pred_volume[:, :, i], cmap='jet')\n",
        "    plt.title('Prediction')\n",
        "\n",
        "    plt.tight_layout()\n",
        "    plt.show()"
      ],
      "metadata": {
        "id": "JBeZUS15_PzX"
      },
      "execution_count": null,
      "outputs": []
    }
  ],
  "metadata": {
    "colab": {
      "provenance": [],
      "collapsed_sections": [
        "7zusoMiAfB0s",
        "UsR46oRTf8P-",
        "NY-1oyxuWCBP",
        "k1V-S0uVkVp_",
        "QjoAiMnzyyYY",
        "Hs7el_y4Hpfs",
        "T70zCXsjuuRi",
        "uHS8wAxA0BeL",
        "InhR9m-jpP28",
        "qE5U_2GE8r8f",
        "hWwCKiNi_PiT",
        "w0fo2kAiD17V",
        "ATwTqDrPLXHW",
        "NlzdiSpITzsG",
        "yQ0lrAq7T4dT",
        "rIAwOktEknX1",
        "Qw4myUjkkOZW",
        "XNi-XGiBohC5",
        "HkmXsVuSEdiN"
      ],
      "authorship_tag": "ABX9TyP/Hh4tZkM+R7S0QDRBKt5q",
      "include_colab_link": true
    },
    "kernelspec": {
      "display_name": "Python 3",
      "name": "python3"
    },
    "language_info": {
      "name": "python"
    }
  },
  "nbformat": 4,
  "nbformat_minor": 0
}