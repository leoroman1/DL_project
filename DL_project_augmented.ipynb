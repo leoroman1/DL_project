{
  "cells": [
    {
      "cell_type": "markdown",
      "metadata": {
        "id": "view-in-github",
        "colab_type": "text"
      },
      "source": [
        "<a href=\"https://colab.research.google.com/github/leoroman1/DL_project/blob/main/DL_project_augmented.ipynb\" target=\"_parent\"><img src=\"https://colab.research.google.com/assets/colab-badge.svg\" alt=\"Open In Colab\"/></a>"
      ]
    },
    {
      "cell_type": "markdown",
      "metadata": {
        "id": "8finoGS5k9cu"
      },
      "source": [
        "\"modality\": {\n",
        "\t \"0\": \"FLAIR\",\n",
        "\t \"1\": \"T1w\",\n",
        "\t \"2\": \"t1gd\",\n",
        "\t \"3\": \"T2w\"\n",
        " },  \n",
        " \"labels\": {\n",
        "\t \"0\": \"background\",\n",
        "\t \"1\": \"edema\",\n",
        "\t \"2\": \"non-enhancing tumor\",\n",
        "\t \"3\": \"enhancing tumour\"\n",
        " }\n"
      ]
    },
    {
      "cell_type": "markdown",
      "metadata": {
        "id": "7zusoMiAfB0s"
      },
      "source": [
        "# Google Drive connection"
      ]
    },
    {
      "cell_type": "code",
      "execution_count": 1,
      "metadata": {
        "colab": {
          "base_uri": "https://localhost:8080/"
        },
        "id": "qfO9nYf_dKRZ",
        "outputId": "d3373817-1f9f-475a-fc96-94004857c670"
      },
      "outputs": [
        {
          "output_type": "stream",
          "name": "stdout",
          "text": [
            "Mounted at /content/drive\n"
          ]
        }
      ],
      "source": [
        "# connect to your drive with the dataset folder\n",
        "\n",
        "from google.colab import drive\n",
        "drive.mount('/content/drive')"
      ]
    },
    {
      "cell_type": "markdown",
      "metadata": {
        "id": "UsR46oRTf8P-"
      },
      "source": [
        "# Utils"
      ]
    },
    {
      "cell_type": "markdown",
      "metadata": {
        "id": "vfpwTGIjg13X"
      },
      "source": [
        "## Zip file extraction"
      ]
    },
    {
      "cell_type": "code",
      "execution_count": 2,
      "metadata": {
        "id": "CU-ClNtmLe6C"
      },
      "outputs": [],
      "source": [
        "import os\n",
        "import zipfile\n",
        "from tqdm import tqdm\n",
        "\n",
        "def extract_zip(zip_path, destination_path = \"/content\"):\n",
        "\n",
        "    os.makedirs(destination_path, exist_ok=True)\n",
        "\n",
        "    with zipfile.ZipFile(zip_path, 'r') as zip_ref:\n",
        "        members = zip_ref.infolist()\n",
        "        for member in tqdm(members, desc=\"Extracting\", unit=\"file\"):\n",
        "            zip_ref.extract(member, path=destination_path)\n",
        "\n",
        "    print(f\"Extracted to: {destination_path}\")\n"
      ]
    },
    {
      "cell_type": "markdown",
      "metadata": {
        "id": "U_YJT_eOhm4T"
      },
      "source": [
        "## Tar file extraction"
      ]
    },
    {
      "cell_type": "code",
      "execution_count": 3,
      "metadata": {
        "id": "WnDSC3Q61-Lr"
      },
      "outputs": [],
      "source": [
        "import tarfile\n",
        "from tqdm import tqdm\n",
        "import os\n",
        "\n",
        "def extract_tar(tar_path, destination_path = \"/content\"):\n",
        "\n",
        "    os.makedirs(destination_path, exist_ok=True)\n",
        "\n",
        "    with tarfile.open(tar_path, 'r:*') as tar:\n",
        "        members = tar.getmembers()\n",
        "\n",
        "        for member in tqdm(members, desc=\"Extracting\", unit=\"file\"):\n",
        "            tar.extract(member, path=destination_path)\n",
        "\n",
        "    print(f\"Extracted to: {destination_path}\")"
      ]
    },
    {
      "cell_type": "markdown",
      "source": [
        "## Zip and upload to drive"
      ],
      "metadata": {
        "id": "T50HP_1R_mlG"
      }
    },
    {
      "cell_type": "code",
      "source": [
        "import shutil\n",
        "import os\n",
        "\n",
        "def save_zip_to_drive(folder_path, zip_name, destination_path = ''):\n",
        "\n",
        "    zip_path = f\"/content/{zip_name}.zip\"\n",
        "\n",
        "    shutil.make_archive(base_name=zip_path.replace('.zip', ''), format='zip', root_dir=folder_path)\n",
        "    print(f\"Zipped folder to: {zip_path}\")\n",
        "\n",
        "    destination_path = f\"/content/drive/MyDrive/{destination_path}\"\n",
        "    os.makedirs(os.path.dirname(destination_path), exist_ok=True)\n",
        "    shutil.move(zip_path, destination_path)\n",
        "    print(f\"Uploaded to Drive at: {destination_path}\")\n"
      ],
      "metadata": {
        "id": "OfdFykgB_m75"
      },
      "execution_count": 4,
      "outputs": []
    },
    {
      "cell_type": "markdown",
      "metadata": {
        "id": "_57C6eQ1i3KG"
      },
      "source": [
        "## Folder deletion from Colab"
      ]
    },
    {
      "cell_type": "code",
      "execution_count": 5,
      "metadata": {
        "id": "MTbluHM6jtJ7"
      },
      "outputs": [],
      "source": [
        "import shutil\n",
        "import os\n",
        "\n",
        "def delete_folders(folders_paths):\n",
        "\n",
        "    for path in folders_paths:\n",
        "        if os.path.exists(path):\n",
        "            shutil.rmtree(path)\n",
        "            print(f\"Deleted: {path}\")\n",
        "        else:\n",
        "            print(f\"Not found: {path}\")\n"
      ]
    },
    {
      "cell_type": "markdown",
      "metadata": {
        "id": "Ka0rYVlrlyZx"
      },
      "source": [
        "## Folder renaming\n"
      ]
    },
    {
      "cell_type": "code",
      "execution_count": 6,
      "metadata": {
        "id": "A-hEnJesmEr3"
      },
      "outputs": [],
      "source": [
        "import os\n",
        "\n",
        "def rename_folder(folder_path, old_name, new_name):\n",
        "\n",
        "    old_path_name = f\"{folder_path}/{old_name}\"\n",
        "    new_path_name = f\"{folder_path}/{new_name}\"\n",
        "\n",
        "    if os.path.exists(old_path_name):\n",
        "        os.rename(old_path_name, new_path_name)\n",
        "        print(f\"{old_name} has been renamed to {new_name}\")\n",
        "    else:\n",
        "        print(f\"Folder not found: {old_path_name}\")\n"
      ]
    },
    {
      "cell_type": "markdown",
      "metadata": {
        "id": "aOWvPnHAJhwB"
      },
      "source": [
        "## Copy files to another folder"
      ]
    },
    {
      "cell_type": "code",
      "execution_count": 7,
      "metadata": {
        "id": "8_8GrI-NJoJU"
      },
      "outputs": [],
      "source": [
        "import os\n",
        "import shutil\n",
        "from tqdm import tqdm\n",
        "\n",
        "def copy_files_to_another_folder(source_folder, destination_folder, ids_list = 'all'):\n",
        "    os.makedirs(destination_folder, exist_ok=True)\n",
        "\n",
        "    if ids_list == 'all':\n",
        "        files_to_copy = [f for f in os.listdir(source_folder) if os.path.isfile(os.path.join(source_folder, f))]\n",
        "    else:\n",
        "        files_to_copy = [f\"{id}.nii.gz\" for id in ids_list]\n",
        "\n",
        "    for filename in tqdm(files_to_copy, desc=f\"Copying from {source_folder} to {destination_folder}\", unit=\"file\"):\n",
        "        source_path = f\"{source_folder}/{filename}\"\n",
        "        destination_path = f\"{destination_folder}/{filename}\"\n",
        "\n",
        "        if not os.path.exists(source_path):\n",
        "            print(f\"Warning: {source_path} not found, skipping.\")\n",
        "            continue\n",
        "\n",
        "        shutil.copy(source_path, destination_path)\n",
        "\n"
      ]
    },
    {
      "cell_type": "markdown",
      "metadata": {
        "id": "wMjHD5GTS3Yf"
      },
      "source": [
        "## Apply a function to a folder"
      ]
    },
    {
      "cell_type": "code",
      "execution_count": 8,
      "metadata": {
        "id": "fv9BGWG4PByT"
      },
      "outputs": [],
      "source": [
        "import os\n",
        "import nibabel as nib\n",
        "import numpy as np\n",
        "import shutil\n",
        "from tqdm import tqdm\n",
        "\n",
        "def apply_function_to_folder(source_folder, destination_folder, function_to_apply):\n",
        "\n",
        "    os.makedirs(destination_folder, exist_ok=True)\n",
        "\n",
        "    for filename in tqdm(os.listdir(source_folder), desc=f\"Applying function to files in {source_folder}\", unit=\"file\"):\n",
        "\n",
        "        source_path = f\"{source_folder}/{filename}\"\n",
        "        destination_path = f\"{destination_folder}/{filename}\"\n",
        "\n",
        "        try:\n",
        "            result_nii = function_to_apply(source_path)\n",
        "            nib.save(result_nii, destination_path)\n",
        "        except Exception as e:\n",
        "            print(f\"Error while processing file: {filename}: {e}\")\n"
      ]
    },
    {
      "cell_type": "markdown",
      "source": [
        "# Data Exploration (to do)"
      ],
      "metadata": {
        "id": "NY-1oyxuWCBP"
      }
    },
    {
      "cell_type": "markdown",
      "metadata": {
        "id": "k1V-S0uVkVp_"
      },
      "source": [
        "# Preprocessing functions\n",
        "\n"
      ]
    },
    {
      "cell_type": "markdown",
      "metadata": {
        "id": "gM5aw3Ur617v"
      },
      "source": [
        "## Retrieve data IDs to use"
      ]
    },
    {
      "cell_type": "code",
      "execution_count": 9,
      "metadata": {
        "id": "q9xx4AzQ7ySA"
      },
      "outputs": [],
      "source": [
        "import os\n",
        "import json\n",
        "\n",
        "def retrieve_ids_list(dataset_json_path):\n",
        "\n",
        "    with open(dataset_json_path, 'r') as f:\n",
        "        data = json.load(f)\n",
        "\n",
        "    data_ids = []\n",
        "\n",
        "    for entry in data['training']:\n",
        "        image_path = entry['image']\n",
        "        filename = os.path.basename(image_path)\n",
        "        image_id = filename.replace('.nii.gz', '')\n",
        "        data_ids.append(image_id)\n",
        "\n",
        "    print(\"Number of IDs extracted:\", len(data_ids))\n",
        "    print(\"First 5 IDs of the list:\", data_ids[:5])\n",
        "    return data_ids\n",
        "\n",
        "\n",
        "\n"
      ]
    },
    {
      "cell_type": "markdown",
      "source": [
        "## Cropping samples\n"
      ],
      "metadata": {
        "id": "qOznwkSxm1Pk"
      }
    },
    {
      "cell_type": "code",
      "execution_count": 10,
      "metadata": {
        "id": "0RpwdEfr9Xs-"
      },
      "outputs": [],
      "source": [
        "import os\n",
        "import nibabel as nib\n",
        "import numpy as np\n",
        "from tqdm import tqdm\n",
        "\n",
        "import nibabel as nib\n",
        "\n",
        "import nibabel as nib\n",
        "\n",
        "def crop_file(file_path, height_range=(46, 190), width_range=(26, 202), depth_range=(6, 150)):\n",
        "\n",
        "    nii_file = nib.load(file_path)\n",
        "    data = nii_file.get_fdata()\n",
        "\n",
        "    h_start, h_end = height_range\n",
        "    w_start, w_end = width_range\n",
        "    d_start, d_end = depth_range\n",
        "\n",
        "    if data.ndim == 4:\n",
        "        cropped_data = data[h_start:h_end, w_start:w_end, d_start:d_end, :]\n",
        "    elif data.ndim == 3:\n",
        "        cropped_data = data[h_start:h_end, w_start:w_end, d_start:d_end]\n",
        "\n",
        "    cropped_nii = nib.Nifti1Image(cropped_data, affine=nii_file.affine, header=nii_file.header)\n",
        "    return cropped_nii\n",
        "\n",
        "\n",
        "\n"
      ]
    },
    {
      "cell_type": "markdown",
      "metadata": {
        "id": "bhnVD-a6cytG"
      },
      "source": [
        "## Split samples with almost only background"
      ]
    },
    {
      "cell_type": "code",
      "execution_count": 11,
      "metadata": {
        "id": "W7YnNMqfvFNz"
      },
      "outputs": [],
      "source": [
        "import os\n",
        "import nibabel as nib\n",
        "import numpy as np\n",
        "from tqdm import tqdm\n",
        "\n",
        "def split_samples_by_presence_of_tumor_labels(labels_folder, threshold=0.01):\n",
        "\n",
        "    above_threshold_ids = []\n",
        "    below_threshold_ids = []\n",
        "\n",
        "    for id in tqdm(os.listdir(labels_folder), desc=\"Splitting samples by tumor labels presence: \", unit=\"file\"):\n",
        "\n",
        "        label_path = f\"{labels_folder}/{id}\"\n",
        "        label_nii = nib.load(label_path)\n",
        "        label_data = label_nii.get_fdata().astype(np.uint8)\n",
        "\n",
        "        total_labels = np.prod(label_data.shape)\n",
        "        non_background_labels = np.sum(label_data > 0)\n",
        "        ratio = non_background_labels / total_labels\n",
        "\n",
        "        id = id.split('.')[0]\n",
        "        if ratio >= threshold:\n",
        "            above_threshold_ids.append(id)\n",
        "        else:\n",
        "            below_threshold_ids.append(id)\n",
        "\n",
        "    print(f\"{len(above_threshold_ids)} samples above the threshold\")\n",
        "    print(f\"{len(below_threshold_ids)} samples below the threshold\")\n",
        "\n",
        "    return above_threshold_ids, below_threshold_ids\n",
        "\n",
        "\n"
      ]
    },
    {
      "cell_type": "markdown",
      "metadata": {
        "id": "05o8Ot97TB_c"
      },
      "source": [
        "## Keep only 2 modalities"
      ]
    },
    {
      "cell_type": "code",
      "execution_count": 12,
      "metadata": {
        "id": "4AgteLMktAcC"
      },
      "outputs": [],
      "source": [
        "import os\n",
        "import nibabel as nib\n",
        "import numpy as np\n",
        "import shutil\n",
        "from tqdm import tqdm\n",
        "\n",
        "def extract_modalities(image_path, channels=[0, 2]):\n",
        "\n",
        "    if not os.path.exists(image_path):\n",
        "        raise FileNotFoundError(f\"{image_path} does not exist\")\n",
        "\n",
        "    image_nii = nib.load(image_path)\n",
        "    image_data = image_nii.get_fdata()\n",
        "    selected_channels_data = image_data[:, :, :, channels]\n",
        "\n",
        "    return nib.Nifti1Image(selected_channels_data, affine=image_nii.affine, header=image_nii.header)\n",
        "\n"
      ]
    },
    {
      "cell_type": "markdown",
      "source": [
        "## Normalization"
      ],
      "metadata": {
        "id": "pbY-OQ18mP21"
      }
    },
    {
      "cell_type": "code",
      "execution_count": 13,
      "metadata": {
        "id": "PfPS_fgH7_js"
      },
      "outputs": [],
      "source": [
        "import nibabel as nib\n",
        "import numpy as np\n",
        "\n",
        "def normalize_image(image_path):\n",
        "\n",
        "    image_nii = nib.load(image_path)\n",
        "    image = image_nii.get_fdata()\n",
        "\n",
        "    normalized_image = np.zeros_like(image)\n",
        "\n",
        "    for i in range(image.shape[-1]):\n",
        "        channel_data = image[..., i]\n",
        "        brain_region = channel_data[channel_data > 0]\n",
        "\n",
        "        if brain_region.size == 0:\n",
        "            normalized_image[..., i] = channel_data\n",
        "        else:\n",
        "            mean = brain_region.mean()\n",
        "            std = brain_region.std()\n",
        "            normalized_image[..., i] = (channel_data - mean) / (std + 1e-5)\n",
        "\n",
        "    return nib.Nifti1Image(normalized_image, affine=image_nii.affine, header=image_nii.header)\n",
        "\n"
      ]
    },
    {
      "cell_type": "markdown",
      "source": [
        "# Preprocessing execution"
      ],
      "metadata": {
        "id": "QjoAiMnzyyYY"
      }
    },
    {
      "cell_type": "code",
      "source": [
        "# Extract dataset tar\n",
        "dataset_path = '/content/drive/MyDrive/Task01_BrainTumour.tar'\n",
        "extract_tar(dataset_path)\n",
        "\n",
        "# Main folders now\n",
        "images_folder = '/content/Task01_BrainTumour/imagesTr'\n",
        "labels_folder = '/content/Task01_BrainTumour/labelsTr'"
      ],
      "metadata": {
        "colab": {
          "base_uri": "https://localhost:8080/"
        },
        "id": "RGCW_rT4huup",
        "outputId": "763f8302-c438-4c76-b7ff-ee3a1635a979"
      },
      "execution_count": null,
      "outputs": [
        {
          "output_type": "stream",
          "name": "stderr",
          "text": [
            "Extracting: 100%|██████████| 1277/1277 [01:15<00:00, 16.87file/s]  "
          ]
        },
        {
          "output_type": "stream",
          "name": "stdout",
          "text": [
            "Extracted to: /content\n"
          ]
        },
        {
          "output_type": "stream",
          "name": "stderr",
          "text": [
            "\n"
          ]
        }
      ]
    },
    {
      "cell_type": "code",
      "source": [
        "# Select IDs from the JSON\n",
        "dataset_json_path = '/content/Task01_BrainTumour/dataset.json'\n",
        "data_ids = retrieve_ids_list(dataset_json_path)\n",
        "\n",
        "# Copy selected images to another folder\n",
        "images_destination_folder = '/content/selected_imagesTr'\n",
        "copy_files_to_another_folder(images_folder, images_destination_folder, data_ids)\n",
        "\n",
        "# Copy selected labels to another folder\n",
        "labels_destination_folder = '/content/selected_labelsTr'\n",
        "copy_files_to_another_folder(labels_folder, labels_destination_folder, data_ids)\n",
        "\n",
        "# Delete dataset folder to free space\n",
        "colab_dataset_path = '/content/Task01_BrainTumour'\n",
        "delete_folders([colab_dataset_path])\n",
        "\n",
        "# Main folders now\n",
        "images_folder = images_destination_folder\n",
        "labels_folder = labels_destination_folder\n"
      ],
      "metadata": {
        "colab": {
          "base_uri": "https://localhost:8080/"
        },
        "id": "MEfOza6Wmjxq",
        "outputId": "bc4f297b-5983-4ea6-e660-c2a8e95fe874"
      },
      "execution_count": null,
      "outputs": [
        {
          "output_type": "stream",
          "name": "stdout",
          "text": [
            "Number of IDs extracted: 484\n",
            "First 5 IDs of the list: ['BRATS_457', 'BRATS_306', 'BRATS_206', 'BRATS_449', 'BRATS_318']\n"
          ]
        },
        {
          "output_type": "stream",
          "name": "stderr",
          "text": [
            "Copying from /content/Task01_BrainTumour/imagesTr to /content/selected_imagesTr: 100%|██████████| 484/484 [00:44<00:00, 10.85file/s]\n",
            "Copying from /content/Task01_BrainTumour/labelsTr to /content/selected_labelsTr: 100%|██████████| 484/484 [00:00<00:00, 2629.35file/s]\n"
          ]
        },
        {
          "output_type": "stream",
          "name": "stdout",
          "text": [
            "Deleted: /content/Task01_BrainTumour\n"
          ]
        }
      ]
    },
    {
      "cell_type": "code",
      "source": [
        "# Crop images\n",
        "images_destination_folder = '/content/cropped_imagesTr'\n",
        "apply_function_to_folder(images_folder, images_destination_folder, crop_file)\n",
        "\n",
        "# Crop labels\n",
        "labels_destination_folder = '/content/cropped_labelsTr'\n",
        "apply_function_to_folder(labels_folder, labels_destination_folder, crop_file)\n",
        "\n",
        "# Delete folders to free space\n",
        "delete_folders([images_folder, labels_folder])\n",
        "\n",
        "# Main folders now\n",
        "images_folder = images_destination_folder\n",
        "labels_folder = labels_destination_folder\n"
      ],
      "metadata": {
        "colab": {
          "base_uri": "https://localhost:8080/"
        },
        "id": "NZlJOx65nsZ5",
        "outputId": "79f038b2-ed3e-40e0-8023-4578378685bf"
      },
      "execution_count": null,
      "outputs": [
        {
          "output_type": "stream",
          "name": "stderr",
          "text": [
            "Applying function to files in /content/selected_imagesTr: 100%|██████████| 484/484 [10:58<00:00,  1.36s/file]\n",
            "Applying function to files in /content/selected_labelsTr: 100%|██████████| 484/484 [00:48<00:00, 10.08file/s]\n"
          ]
        },
        {
          "output_type": "stream",
          "name": "stdout",
          "text": [
            "Deleted: /content/selected_imagesTr\n",
            "Deleted: /content/selected_labelsTr\n"
          ]
        }
      ]
    },
    {
      "cell_type": "code",
      "execution_count": null,
      "metadata": {
        "id": "JiNaF_mi5YJD",
        "colab": {
          "base_uri": "https://localhost:8080/"
        },
        "outputId": "81b6067b-2630-4f14-d123-43780e917425"
      },
      "outputs": [
        {
          "output_type": "stream",
          "name": "stderr",
          "text": [
            "Splitting samples by tumor labels presence: 100%|██████████| 484/484 [00:09<00:00, 53.24file/s]\n"
          ]
        },
        {
          "output_type": "stream",
          "name": "stdout",
          "text": [
            "415 samples above the threshold\n",
            "69 samples below the threshold\n"
          ]
        },
        {
          "output_type": "stream",
          "name": "stderr",
          "text": [
            "Copying from /content/cropped_imagesTr to /content/relevant_samples_imagesTr: 100%|██████████| 415/415 [00:44<00:00,  9.39file/s]\n",
            "Copying from /content/cropped_labelsTr to /content/relevant_samples_labelsTr: 100%|██████████| 415/415 [00:00<00:00, 5717.14file/s]\n",
            "Copying from /content/cropped_imagesTr to /content/non_relevant_samples_imagesTr: 100%|██████████| 69/69 [00:08<00:00,  8.29file/s]\n",
            "Copying from /content/cropped_labelsTr to /content/non_relevant_samples_labelsTr: 100%|██████████| 69/69 [00:00<00:00, 5466.28file/s]\n"
          ]
        },
        {
          "output_type": "stream",
          "name": "stdout",
          "text": [
            "Zipped folder to: /content/non_relevant_samples_imagesTr.zip\n",
            "Uploaded to Drive at: /content/drive/MyDrive/non_relevant_samples/imagesTr\n",
            "Zipped folder to: /content/non_relevant_samples_labelsTr.zip\n",
            "Uploaded to Drive at: /content/drive/MyDrive/non_relevant_samples/labelsTr\n",
            "Deleted: /content/cropped_imagesTr\n",
            "Deleted: /content/cropped_labelsTr\n",
            "Deleted: /content/non_relevant_samples_imagesTr\n",
            "Deleted: /content/non_relevant_samples_labelsTr\n"
          ]
        }
      ],
      "source": [
        "# Split samples with almost no tumor labels from others (could be used later)\n",
        "above_threshold_ids, below_threshold_ids = split_samples_by_presence_of_tumor_labels(labels_folder)\n",
        "\n",
        "# Put relevant images in another folder\n",
        "rel_images_destination_folder = '/content/relevant_samples_imagesTr'\n",
        "copy_files_to_another_folder(images_folder, rel_images_destination_folder, above_threshold_ids)\n",
        "\n",
        "# Put relevant labels in another folder\n",
        "rel_labels_destination_folder = '/content/relevant_samples_labelsTr'\n",
        "copy_files_to_another_folder(labels_folder, rel_labels_destination_folder, above_threshold_ids)\n",
        "\n",
        "# Put non relevant images in another folder\n",
        "non_rel_images_destination_folder = '/content/non_relevant_samples/imagesTr'\n",
        "copy_files_to_another_folder(images_folder, non_rel_images_destination_folder, below_threshold_ids)\n",
        "\n",
        "# Put non relevant labels in another folder\n",
        "non_rel_labels_destination_folder = '/content/non_relevant_samples/labelsTr'\n",
        "copy_files_to_another_folder(labels_folder, non_rel_labels_destination_folder, below_threshold_ids)\n",
        "\n",
        "# Upload non relevant samples zip to drive\n",
        "non_rel_samples_path = '/content/non_relevant_samples'\n",
        "save_zip_to_drive(non_rel_samples_path, 'non_relevant_samples')\n",
        "\n",
        "\n",
        "# Delete past folders to free space\n",
        "delete_folders([images_folder, labels_folder, non_rel_samples_path])\n",
        "\n",
        "# Main folders now\n",
        "images_folder = rel_images_destination_folder\n",
        "labels_folder = rel_labels_destination_folder\n"
      ]
    },
    {
      "cell_type": "code",
      "source": [
        "# Keep just FLAIR and t1gt modalities\n",
        "images_destination_folder = '/content/2channel_imagesTr'\n",
        "apply_function_to_folder(images_folder, images_destination_folder, extract_modalities)\n",
        "\n",
        "# Delete image folder to free space\n",
        "delete_folders([images_folder])\n",
        "\n",
        "# Main folders now\n",
        "images_folder = images_destination_folder\n",
        "labels_folder = labels_folder"
      ],
      "metadata": {
        "colab": {
          "base_uri": "https://localhost:8080/"
        },
        "id": "kMlIS9vFjUS9",
        "outputId": "91579af0-52b7-464b-cbc1-cce40f9f8c69"
      },
      "execution_count": null,
      "outputs": [
        {
          "output_type": "stream",
          "name": "stderr",
          "text": [
            "Applying function to files in /content/relevant_samples_imagesTr: 100%|██████████| 415/415 [04:28<00:00,  1.55file/s]\n"
          ]
        },
        {
          "output_type": "stream",
          "name": "stdout",
          "text": [
            "Deleted: /content/relevant_samples_imagesTr\n"
          ]
        }
      ]
    },
    {
      "cell_type": "code",
      "source": [
        "# Normalize per sample\n",
        "images_destination_folder = '/content/normalized_imagesTr'\n",
        "apply_function_to_folder(images_folder, images_destination_folder, normalize_image)\n",
        "\n",
        "# Delete image folder to free space\n",
        "delete_folders([images_folder])\n",
        "\n",
        "# Main folders now\n",
        "images_folder = images_destination_folder\n",
        "labels_folder = labels_folder"
      ],
      "metadata": {
        "colab": {
          "base_uri": "https://localhost:8080/"
        },
        "id": "L4A8x3Y1mlPd",
        "outputId": "0045f39b-ae6d-4120-a07b-28cf5f32a0de"
      },
      "execution_count": null,
      "outputs": [
        {
          "output_type": "stream",
          "name": "stderr",
          "text": [
            "Applying function to files in /content/2channel_imagesTr: 100%|██████████| 415/415 [03:21<00:00,  2.06file/s]"
          ]
        },
        {
          "output_type": "stream",
          "name": "stdout",
          "text": [
            "Deleted: /content/2channel_imagesTr\n"
          ]
        },
        {
          "output_type": "stream",
          "name": "stderr",
          "text": [
            "\n"
          ]
        }
      ]
    },
    {
      "cell_type": "code",
      "source": [
        "# Move images and labels to a single final folder\n",
        "final_images_destination_folder = '/content/preprocessed_dataset/imagesTr'\n",
        "final_labels_destination_folder = '/content/preprocessed_dataset/labelsTr'\n",
        "copy_files_to_another_folder(images_folder, final_images_destination_folder)\n",
        "copy_files_to_another_folder(labels_folder, final_labels_destination_folder)\n",
        "\n",
        "# Upload zip of final dataset to Drive\n",
        "final_dataset_path = '/content/preprocessed_dataset'\n",
        "save_zip_to_drive(final_dataset_path, 'preprocessed_dataset')\n",
        "\n",
        "# Delete folders to free space\n",
        "delete_folders([images_folder, labels_folder, final_dataset_path])\n"
      ],
      "metadata": {
        "id": "41D34e0bEWej"
      },
      "execution_count": null,
      "outputs": []
    },
    {
      "cell_type": "markdown",
      "source": [
        "# Extract preprocessed dataset\n"
      ],
      "metadata": {
        "id": "Hs7el_y4Hpfs"
      }
    },
    {
      "cell_type": "code",
      "source": [
        "# Unzip preprocessed dataset from Drive to Colab\n",
        "preprocessed_dataset_path = '/content/drive/MyDrive/preprocessed_dataset.zip'\n",
        "extract_zip(preprocessed_dataset_path)\n",
        "\n",
        "# Main folder\n",
        "images_folder = '/content/imagesTr'\n",
        "labels_folder = '/content/labelsTr'"
      ],
      "metadata": {
        "colab": {
          "base_uri": "https://localhost:8080/"
        },
        "id": "CBg58SGhHCth",
        "outputId": "3a8610de-7216-497d-81e5-bebfc54459e6"
      },
      "execution_count": 14,
      "outputs": [
        {
          "output_type": "stream",
          "name": "stderr",
          "text": [
            "Extracting: 100%|██████████| 832/832 [00:39<00:00, 20.91file/s]"
          ]
        },
        {
          "output_type": "stream",
          "name": "stdout",
          "text": [
            "Extracted to: /content\n"
          ]
        },
        {
          "output_type": "stream",
          "name": "stderr",
          "text": [
            "\n"
          ]
        }
      ]
    },
    {
      "cell_type": "markdown",
      "metadata": {
        "id": "T70zCXsjuuRi"
      },
      "source": [
        "# Model setup functions\n"
      ]
    },
    {
      "cell_type": "markdown",
      "source": [
        "## Split IDs into Train, Validaton and Test"
      ],
      "metadata": {
        "id": "uHS8wAxA0BeL"
      }
    },
    {
      "cell_type": "code",
      "source": [
        "import os\n",
        "from sklearn.model_selection import train_test_split\n",
        "\n",
        "def split_ids_into_train_val_test(images_folder, train_ratio=0.8, validation_ratio=0.1, test_ratio=0.1, seed=1748):\n",
        "\n",
        "    ids = [f.replace('.nii.gz', '') for f in os.listdir(images_folder)]\n",
        "    ids.sort()\n",
        "\n",
        "    train_ids, val_test_ids = train_test_split(ids, test_size=(1 - train_ratio), random_state=seed)\n",
        "\n",
        "    validation_size = validation_ratio / (validation_ratio + test_ratio)\n",
        "    validation_ids, test_ids = train_test_split(val_test_ids, test_size=(1 - validation_size), random_state=seed)\n",
        "\n",
        "    print(f\"Total IDs count: {len(ids)}\")\n",
        "    print(f\"Train IDs count: {len(train_ids)}\")\n",
        "    print(f\"Validation IDs count: {len(validation_ids)}\")\n",
        "    print(f\"Test IDs count: {len(test_ids)}\")\n",
        "\n",
        "    return train_ids, validation_ids, test_ids\n"
      ],
      "metadata": {
        "id": "Mts6Y-Ie0BKS"
      },
      "execution_count": 15,
      "outputs": []
    },
    {
      "cell_type": "markdown",
      "source": [
        "## Extract input dimensions"
      ],
      "metadata": {
        "id": "N9z8fwHP99de"
      }
    },
    {
      "cell_type": "code",
      "source": [
        "import os\n",
        "import nibabel as nib\n",
        "\n",
        "def get_input_size(images_folder):\n",
        "\n",
        "    first_image = sorted(os.listdir(images_folder))[0]\n",
        "    image_path = os.path.join(images_folder, first_image)\n",
        "\n",
        "    image_data = nib.load(image_path).get_fdata()\n",
        "\n",
        "    height, width, depth, modalities = image_data.shape\n",
        "\n",
        "    print(f\"Height: {height}, Width: {width}, Depth: {depth}, Modalities: {modalities}\")\n",
        "\n",
        "    return height, width, depth, modalities\n"
      ],
      "metadata": {
        "id": "398nqWT9-ADU"
      },
      "execution_count": 16,
      "outputs": []
    },
    {
      "cell_type": "markdown",
      "source": [
        "# U-Net model"
      ],
      "metadata": {
        "id": "qE5U_2GE8r8f"
      }
    },
    {
      "cell_type": "code",
      "source": [
        "from tensorflow.keras import layers, models\n",
        "\n",
        "def conv_block(x, filters):\n",
        "    x = layers.Conv2D(filters, (3, 3), activation='relu', padding='same')(x)\n",
        "    x = layers.Conv2D(filters, (3, 3), activation='relu', padding='same')(x)\n",
        "    return x\n",
        "\n",
        "input_layer = layers.Input(shape=(144, 176, 2))\n",
        "\n",
        "# Encoder (Downsampling path)\n",
        "c1 = conv_block(input_layer, 16)\n",
        "p1 = layers.MaxPooling2D((2, 2))(c1)\n",
        "\n",
        "c2 = conv_block(p1, 32)\n",
        "p2 = layers.MaxPooling2D((2, 2))(c2)\n",
        "\n",
        "c3 = conv_block(p2, 64)\n",
        "p3 = layers.MaxPooling2D((2, 2))(c3)\n",
        "\n",
        "c4 = conv_block(p3, 128)\n",
        "p4 = layers.MaxPooling2D((2, 2))(c4)\n",
        "\n",
        "c5 = conv_block(p4, 256)\n",
        "\n",
        "# Decoder (Upsampling path)\n",
        "u6 = layers.UpSampling2D((2, 2))(c5)\n",
        "u6 = layers.Concatenate()([u6, c4])\n",
        "c6 = conv_block(u6, 128)\n",
        "\n",
        "u7 = layers.UpSampling2D((2, 2))(c6)\n",
        "u7 = layers.Concatenate()([u7, c3])\n",
        "c7 = conv_block(u7, 64)\n",
        "\n",
        "u8 = layers.UpSampling2D((2, 2))(c7)\n",
        "u8 = layers.Concatenate()([u8, c2])\n",
        "c8 = conv_block(u8, 32)\n",
        "\n",
        "u9 = layers.UpSampling2D((2, 2))(c8)\n",
        "u9 = layers.Concatenate()([u9, c1])\n",
        "c9 = conv_block(u9, 16)\n",
        "\n",
        "output_layer = layers.Conv2D(4, (1, 1), activation='softmax')(c9)"
      ],
      "metadata": {
        "id": "jJ2EyqAm8uyu"
      },
      "execution_count": 17,
      "outputs": []
    },
    {
      "cell_type": "markdown",
      "source": [
        "# Data generator for slices"
      ],
      "metadata": {
        "id": "hWwCKiNi_PiT"
      }
    },
    {
      "cell_type": "markdown",
      "source": [
        "## Augmentation pipeline\n"
      ],
      "metadata": {
        "id": "bAOn43Np__km"
      }
    },
    {
      "cell_type": "code",
      "source": [
        "import os, numpy as np, nibabel as nib\n",
        "from tensorflow.keras.utils import Sequence\n",
        "from scipy import ndimage   # for rotation\n",
        "\n",
        "class BrainTumor2DSliceGenerator(Sequence):\n",
        "    def __init__(self,\n",
        "                 images_folder,\n",
        "                 labels_folder,\n",
        "                 ids,\n",
        "                 batch_size=36,\n",
        "                 slice_step=8,\n",
        "                 shuffle=True,\n",
        "                 augment=False):\n",
        "        self.images_folder = images_folder\n",
        "        self.labels_folder = labels_folder\n",
        "        self.batch_size    = batch_size\n",
        "        self.slice_step    = slice_step\n",
        "        self.shuffle       = shuffle\n",
        "        self.augment       = augment          # flag to turn aug on/off\n",
        "        self.ids           = sorted(ids)\n",
        "\n",
        "        self.index_list = self._create_index_list()\n",
        "        if self.shuffle:\n",
        "            np.random.shuffle(self.index_list)\n",
        "\n",
        "    # ------------------------------------------------------------------\n",
        "    def _create_index_list(self):\n",
        "        index_list = []\n",
        "        for pid in self.ids:\n",
        "            vol_path = os.path.join(self.images_folder, f\"{pid}.nii.gz\")\n",
        "            depth = nib.load(vol_path).shape[2]\n",
        "            index_list.extend([(pid, z) for z in range(0, depth, self.slice_step)])\n",
        "        return index_list\n",
        "\n",
        "    # ------------------------------------------------------------------\n",
        "    def __len__(self):\n",
        "        return int(np.ceil(len(self.index_list) / self.batch_size))\n",
        "\n",
        "    # ------------------------------------------------------------------\n",
        "    def __getitem__(self, idx):\n",
        "        batch_specs = self.index_list[idx*self.batch_size:(idx+1)*self.batch_size]\n",
        "        X_list, y_list = [], []\n",
        "\n",
        "        for pid, z in batch_specs:\n",
        "            img = nib.load(os.path.join(self.images_folder, f\"{pid}.nii.gz\")).get_fdata(dtype=np.float32)\n",
        "            msk = nib.load(os.path.join(self.labels_folder,  f\"{pid}.nii.gz\")).get_fdata()\n",
        "\n",
        "            img_slice = img[:, :, z, :]      # (144, 176, 2)\n",
        "            msk_slice = msk[:, :, z]         # (144, 176)\n",
        "\n",
        "            # ---------------- augmentation -------------------------\n",
        "            if self.augment:\n",
        "                # horizontal flip\n",
        "                if np.random.rand() < 0.5:\n",
        "                    img_slice = np.flip(img_slice, 1)\n",
        "                    msk_slice = np.flip(msk_slice, 1)\n",
        "\n",
        "                # vertical flip\n",
        "                if np.random.rand() < 0.5:\n",
        "                    img_slice = np.flip(img_slice, 0)\n",
        "                    msk_slice = np.flip(msk_slice, 0)\n",
        "\n",
        "                # small rotation (keeps size)\n",
        "                if np.random.rand() < 0.3:\n",
        "                    angle = np.random.uniform(-15, 15)\n",
        "                    for c in range(img_slice.shape[-1]):\n",
        "                        img_slice[..., c] = ndimage.rotate(\n",
        "                            img_slice[..., c], angle,\n",
        "                            reshape=False, order=1, mode='nearest')\n",
        "                    msk_slice = ndimage.rotate(\n",
        "                        msk_slice, angle,\n",
        "                        reshape=False, order=0, mode='nearest')\n",
        "\n",
        "                # light gaussian noise\n",
        "                if np.random.rand() < 0.3:\n",
        "                    img_slice += np.random.normal(0, 0.01, img_slice.shape).astype(np.float32)\n",
        "\n",
        "            X_list.append(img_slice.astype(np.float32))   # (H,W,2)\n",
        "            y_list.append(msk_slice.astype(np.int32))     # (H,W)\n",
        "\n",
        "        X_batch = np.stack(X_list, axis=0)  # (B, H, W, 2)\n",
        "        y_batch = np.stack(y_list, axis=0)  # (B, H, W)   ← no extra dim!\n",
        "\n",
        "        return X_batch, y_batch\n",
        "\n",
        "    # ------------------------------------------------------------------\n",
        "    def on_epoch_end(self):\n",
        "        if self.shuffle:\n",
        "            np.random.shuffle(self.index_list)\n",
        "\n"
      ],
      "metadata": {
        "id": "XbarDTlYBRmC"
      },
      "execution_count": 18,
      "outputs": []
    },
    {
      "cell_type": "markdown",
      "source": [
        "# Loss functions"
      ],
      "metadata": {
        "id": "w0fo2kAiD17V"
      }
    },
    {
      "cell_type": "markdown",
      "source": [
        "## Sparse Categorical Class Entropy Loss"
      ],
      "metadata": {
        "id": "xt2VHWWCES-s"
      }
    },
    {
      "cell_type": "code",
      "source": [
        "import tensorflow as tf\n",
        "from tensorflow.keras.losses import Dice, SparseCategoricalCrossentropy\n",
        "\n",
        "scce_loss = SparseCategoricalCrossentropy(from_logits=False)"
      ],
      "metadata": {
        "id": "JRaK-HkwESci"
      },
      "execution_count": 19,
      "outputs": []
    },
    {
      "cell_type": "markdown",
      "source": [
        "## Dice Loss"
      ],
      "metadata": {
        "id": "0AE4CzS6Iy4f"
      }
    },
    {
      "cell_type": "code",
      "source": [
        "import tensorflow as tf\n",
        "from tensorflow.keras.losses import Dice\n",
        "\n",
        "number_of_classes = 4\n",
        "\n",
        "def dice_loss(y_true, y_pred):\n",
        "\n",
        "    y_true = tf.cast(y_true, tf.int32)\n",
        "    y_true_one_hot = tf.one_hot(y_true, depth=number_of_classes)\n",
        "\n",
        "    return Dice(axis=(1, 2))(y_true_one_hot, y_pred)"
      ],
      "metadata": {
        "id": "hH-tIU5uI5zG"
      },
      "execution_count": 20,
      "outputs": []
    },
    {
      "cell_type": "markdown",
      "source": [
        "## Combo Losses"
      ],
      "metadata": {
        "id": "YMH9wqOmJVDx"
      }
    },
    {
      "cell_type": "markdown",
      "source": [
        "### Sparse Categorical Cross Entropy Loss and Dice Loss"
      ],
      "metadata": {
        "id": "hQ6lbiL-K3Df"
      }
    },
    {
      "cell_type": "code",
      "source": [
        "def combo_scce_dice_loss(y_true, y_pred, alpha=0.5):\n",
        "    scce_loss_value = scce_loss(y_true, y_pred)\n",
        "    dice_loss_value = dice_loss(y_true, y_pred)\n",
        "    return alpha * scce_loss_value + (1 - alpha) * dice_loss_value\n"
      ],
      "metadata": {
        "id": "IqQjd-BNJUgR"
      },
      "execution_count": 21,
      "outputs": []
    },
    {
      "cell_type": "markdown",
      "source": [
        "# Metrics"
      ],
      "metadata": {
        "id": "ATwTqDrPLXHW"
      }
    },
    {
      "cell_type": "markdown",
      "source": [
        "## Intersection over Union"
      ],
      "metadata": {
        "id": "5natTvCoLbtT"
      }
    },
    {
      "cell_type": "code",
      "source": [
        "from tensorflow.keras.metrics import MeanIoU\n",
        "\n",
        "number_of_classes = 4\n",
        "\n",
        "iou_metric = MeanIoU(\n",
        "    num_classes=number_of_classes,\n",
        "    sparse_y_true=True,\n",
        "    sparse_y_pred=False,\n",
        "    name=\"IoU\"\n",
        ")"
      ],
      "metadata": {
        "id": "4_ZDAmovLetp"
      },
      "execution_count": 22,
      "outputs": []
    },
    {
      "cell_type": "markdown",
      "source": [
        "## F1 Score per class"
      ],
      "metadata": {
        "id": "D1ig9-0-MG_T"
      }
    },
    {
      "cell_type": "code",
      "source": [
        "import tensorflow as tf\n",
        "\n",
        "def f1_score_per_class_fn(class_id):\n",
        "    @tf.function  # ensures TensorFlow traces once and reuses\n",
        "    def f1_score(y_true, y_pred):\n",
        "        y_pred = tf.argmax(y_pred, axis=-1)\n",
        "        y_true = tf.cast(y_true, tf.int32)\n",
        "\n",
        "        pred_labels = tf.equal(y_pred, class_id)\n",
        "        true_labels = tf.equal(y_true, class_id)\n",
        "\n",
        "        tp = tf.reduce_sum(tf.cast(pred_labels & true_labels, tf.float32))\n",
        "        fp = tf.reduce_sum(tf.cast(pred_labels & ~true_labels, tf.float32))\n",
        "        fn = tf.reduce_sum(tf.cast(~pred_labels & true_labels, tf.float32))\n",
        "\n",
        "        precision = tp / (tp + fp + 1e-6)\n",
        "        recall = tp / (tp + fn + 1e-6)\n",
        "        f1 = 2 * precision * recall / (precision + recall + 1e-6)\n",
        "\n",
        "        return f1\n",
        "    return f1_score\n",
        "\n",
        "\n",
        "f1_score_edema = f1_score_per_class_fn(1)\n",
        "f1_score_non_enhancing_tumor = f1_score_per_class_fn(2)\n",
        "f1_score_enhancing_tumor = f1_score_per_class_fn(3)\n"
      ],
      "metadata": {
        "id": "7pL1cms9MK_s"
      },
      "execution_count": 23,
      "outputs": []
    },
    {
      "cell_type": "markdown",
      "source": [
        "# Callbacks\n"
      ],
      "metadata": {
        "id": "NlzdiSpITzsG"
      }
    },
    {
      "cell_type": "markdown",
      "source": [
        "## Drive checkpoint saver"
      ],
      "metadata": {
        "id": "s-mwbwJBT3Eo"
      }
    },
    {
      "cell_type": "code",
      "source": [
        "import tensorflow as tf\n",
        "from tensorflow.keras.callbacks import ModelCheckpoint\n",
        "\n",
        "checkpoint_callback = ModelCheckpoint(\n",
        "    filepath='/content/drive/MyDrive/checkpoints/dice/epoch_{epoch:02d}.keras',  # customize as needed\n",
        "    save_freq='epoch',\n",
        "    save_weights_only=False,\n",
        "    save_best_only=False,\n",
        "    verbose=1\n",
        ")"
      ],
      "metadata": {
        "id": "U5L9-9AsT1rf"
      },
      "execution_count": 24,
      "outputs": []
    },
    {
      "cell_type": "markdown",
      "source": [
        "## Reduce LR on Plateau"
      ],
      "metadata": {
        "id": "9AQynB3OXF9O"
      }
    },
    {
      "cell_type": "code",
      "source": [
        "from tensorflow.keras.callbacks import ReduceLROnPlateau\n",
        "\n",
        "reduce_lr = ReduceLROnPlateau(\n",
        "    monitor='val_loss',\n",
        "    mode='min',\n",
        "    factor=0.5,\n",
        "    patience=2,\n",
        "    min_lr=1e-6,\n",
        "    verbose=1\n",
        ")\n"
      ],
      "metadata": {
        "id": "Yd1Bl1PtXIiP"
      },
      "execution_count": 25,
      "outputs": []
    },
    {
      "cell_type": "markdown",
      "source": [
        "# Model setup"
      ],
      "metadata": {
        "id": "zQt5UZ308Iy_"
      }
    },
    {
      "cell_type": "markdown",
      "source": [
        "## Training from scratch"
      ],
      "metadata": {
        "id": "yQ0lrAq7T4dT"
      }
    },
    {
      "cell_type": "code",
      "source": [
        "# Split IDs into train, test and validation (default ratio is 80, 10, 10)\n",
        "train_ids, validation_ids, test_ids = split_ids_into_train_val_test(images_folder)\n"
      ],
      "metadata": {
        "colab": {
          "base_uri": "https://localhost:8080/"
        },
        "id": "u9KGl3_q5Cdk",
        "outputId": "4a1295ed-949d-4ff0-f914-bd448d52fe5b"
      },
      "execution_count": null,
      "outputs": [
        {
          "output_type": "stream",
          "name": "stdout",
          "text": [
            "Total IDs count: 415\n",
            "Train IDs count: 332\n",
            "Validation IDs count: 41\n",
            "Test IDs count: 42\n"
          ]
        }
      ]
    },
    {
      "cell_type": "code",
      "source": [
        "# Get input size (care, in our case the net is 4 layers deep, so every dimension except the modalities must be divisible by 16. The general rule is to be divisible by 2^n for a n layers U-Net).\n",
        "# In our case Depth won't be used being our U-Net 2D\n",
        "height, width, depth, modalities = get_input_size(images_folder)\n"
      ],
      "metadata": {
        "colab": {
          "base_uri": "https://localhost:8080/"
        },
        "id": "5w288sbv8oFV",
        "outputId": "cbd97811-3d04-4f59-ff47-8cefc4ae9c3f"
      },
      "execution_count": null,
      "outputs": [
        {
          "output_type": "stream",
          "name": "stdout",
          "text": [
            "Height: 144, Width: 176, Depth: 144, Modalities: 2\n"
          ]
        }
      ]
    },
    {
      "cell_type": "code",
      "source": [
        "# Initialize train and validation data\n",
        "\n",
        "train_batch_size = 144\n",
        "train_slice_step = 8\n",
        "\n",
        "validation_batch_size = 144\n",
        "validation_slice_step = 8\n",
        "\n",
        "train_data_gen = BrainTumor2DSliceGenerator(\n",
        "    images_folder,\n",
        "    labels_folder,\n",
        "    train_ids,\n",
        "    train_batch_size,\n",
        "    train_slice_step,\n",
        "    shuffle=True,\n",
        "    augment=True\n",
        ")\n",
        "\n",
        "validation_data_gen = BrainTumor2DSliceGenerator(\n",
        "    images_folder,\n",
        "    labels_folder,\n",
        "    validation_ids,\n",
        "    validation_batch_size,\n",
        "    validation_slice_step,\n",
        "    shuffle=True,\n",
        "    augment=False\n",
        ")\n"
      ],
      "metadata": {
        "id": "cvwGNETnOrXt"
      },
      "execution_count": null,
      "outputs": []
    },
    {
      "cell_type": "code",
      "source": [
        "# Initialize model\n",
        "model = models.Model(inputs=input_layer, outputs=output_layer)\n",
        "\n",
        "# Compile model\n",
        "model.compile(\n",
        "    optimizer='adam',\n",
        "    loss=combo_scce_dice_loss,\n",
        "    metrics=[iou_metric]\n",
        ")\n",
        "\n",
        "# Fit model\n",
        "history = model.fit(\n",
        "          train_data_gen,\n",
        "          validation_data=validation_data_gen,\n",
        "          epochs=5,\n",
        "          callbacks=[reduce_lr])"
      ],
      "metadata": {
        "colab": {
          "base_uri": "https://localhost:8080/"
        },
        "id": "HPc0CJFOPMYs",
        "outputId": "ef44d731-2dc8-4d4f-e45b-a1fe42b8bfed"
      },
      "execution_count": null,
      "outputs": [
        {
          "output_type": "stream",
          "name": "stderr",
          "text": [
            "/usr/local/lib/python3.11/dist-packages/keras/src/trainers/data_adapters/py_dataset_adapter.py:121: UserWarning: Your `PyDataset` class should call `super().__init__(**kwargs)` in its constructor. `**kwargs` can include `workers`, `use_multiprocessing`, `max_queue_size`. Do not pass these arguments to `fit()`, as they will be ignored.\n",
            "  self._warn_if_super_not_called()\n"
          ]
        },
        {
          "output_type": "stream",
          "name": "stdout",
          "text": [
            "Epoch 1/5\n",
            "\u001b[1m42/42\u001b[0m \u001b[32m━━━━━━━━━━━━━━━━━━━━\u001b[0m\u001b[37m\u001b[0m \u001b[1m0s\u001b[0m 21s/step - IoU: 0.2426 - loss: 0.6005 "
          ]
        },
        {
          "output_type": "stream",
          "name": "stderr",
          "text": [
            "/usr/local/lib/python3.11/dist-packages/keras/src/trainers/data_adapters/py_dataset_adapter.py:121: UserWarning: Your `PyDataset` class should call `super().__init__(**kwargs)` in its constructor. `**kwargs` can include `workers`, `use_multiprocessing`, `max_queue_size`. Do not pass these arguments to `fit()`, as they will be ignored.\n",
            "  self._warn_if_super_not_called()\n"
          ]
        },
        {
          "output_type": "stream",
          "name": "stdout",
          "text": [
            "\b\b\b\b\b\b\b\b\b\b\b\b\b\b\b\b\b\b\b\b\b\b\b\b\b\b\b\b\b\b\b\b\b\b\b\b\b\b\b\b\b\b\b\b\b\b\b\b\b\b\b\b\b\b\b\b\b\b\b\b\b\b\b\b\b\b\b\r\u001b[1m42/42\u001b[0m \u001b[32m━━━━━━━━━━━━━━━━━━━━\u001b[0m\u001b[37m\u001b[0m \u001b[1m1087s\u001b[0m 25s/step - IoU: 0.2430 - loss: 0.5976 - val_IoU: 0.3163 - val_loss: 0.4049 - learning_rate: 0.0010\n",
            "Epoch 2/5\n",
            "\u001b[1m42/42\u001b[0m \u001b[32m━━━━━━━━━━━━━━━━━━━━\u001b[0m\u001b[37m\u001b[0m \u001b[1m1012s\u001b[0m 24s/step - IoU: 0.3584 - loss: 0.3829 - val_IoU: 0.5142 - val_loss: 0.3548 - learning_rate: 0.0010\n",
            "Epoch 3/5\n",
            "\u001b[1m42/42\u001b[0m \u001b[32m━━━━━━━━━━━━━━━━━━━━\u001b[0m\u001b[37m\u001b[0m \u001b[1m1031s\u001b[0m 25s/step - IoU: 0.5271 - loss: 0.3441 - val_IoU: 0.5507 - val_loss: 0.3402 - learning_rate: 0.0010\n",
            "Epoch 4/5\n",
            "\u001b[1m42/42\u001b[0m \u001b[32m━━━━━━━━━━━━━━━━━━━━\u001b[0m\u001b[37m\u001b[0m \u001b[1m986s\u001b[0m 24s/step - IoU: 0.5921 - loss: 0.3310 - val_IoU: 0.6305 - val_loss: 0.3295 - learning_rate: 0.0010\n",
            "Epoch 5/5\n",
            "\u001b[1m42/42\u001b[0m \u001b[32m━━━━━━━━━━━━━━━━━━━━\u001b[0m\u001b[37m\u001b[0m \u001b[1m978s\u001b[0m 23s/step - IoU: 0.6473 - loss: 0.3209 - val_IoU: 0.6587 - val_loss: 0.3206 - learning_rate: 0.0010\n"
          ]
        }
      ]
    },
    {
      "cell_type": "code",
      "source": [
        "# Save completed model\n",
        "import os\n",
        "import shutil\n",
        "from tensorflow.keras.models import Model # Import Model\n",
        "\n",
        "model_folder_drive = '/content/drive/MyDrive/the_final_models'\n",
        "model_filename = 'aug_combo1.keras'\n",
        "temp_model_path = f'/content/{model_filename}' # Save to a temporary location\n",
        "\n",
        "# Save the model to the temporary location\n",
        "model.save(temp_model_path)\n",
        "print(f\"Model saved temporarily to: {temp_model_path}\")\n",
        "\n",
        "# Create the target directory in Drive if it doesn't exist\n",
        "os.makedirs(model_folder_drive, exist_ok=True)\n",
        "\n",
        "# Define the final destination path in Drive\n",
        "final_model_path = os.path.join(model_folder_drive, model_filename)\n",
        "\n",
        "# Move the saved model file to Google Drive\n",
        "shutil.move(temp_model_path, final_model_path)\n",
        "print(f\"Model moved to Drive at: {final_model_path}\")\n",
        "\n",
        "\n",
        "# Save history\n",
        "import json\n",
        "import os\n",
        "\n",
        "history_filepath = '/content/drive/MyDrive/final_histories/aug_combo1.json'\n",
        "os.makedirs(os.path.dirname(history_filepath), exist_ok=True)\n",
        "with open(history_filepath, 'w') as f:\n",
        "    json.dump(history.history, f)"
      ],
      "metadata": {
        "colab": {
          "base_uri": "https://localhost:8080/"
        },
        "id": "6Qg20oyuUpC2",
        "outputId": "c19a482c-598d-4fc9-ccbe-7f796c3f965f"
      },
      "execution_count": null,
      "outputs": [
        {
          "output_type": "stream",
          "name": "stdout",
          "text": [
            "Model saved temporarily to: /content/aug_combo1.keras\n",
            "Model moved to Drive at: /content/drive/MyDrive/the_final_models/aug_combo1.keras\n"
          ]
        }
      ]
    },
    {
      "cell_type": "markdown",
      "source": [
        "## Training from saved model"
      ],
      "metadata": {
        "id": "XDxpiviUTwrZ"
      }
    },
    {
      "cell_type": "code",
      "source": [
        "# Split IDs into train, test and validation (default ratio is 80, 10, 10)\n",
        "train_ids, validation_ids, test_ids = split_ids_into_train_val_test(images_folder)\n"
      ],
      "metadata": {
        "colab": {
          "base_uri": "https://localhost:8080/"
        },
        "id": "n8AAExEPYQ9R",
        "outputId": "f45312df-ac64-4ed0-f9cc-f00ca8f9297a"
      },
      "execution_count": 26,
      "outputs": [
        {
          "output_type": "stream",
          "name": "stdout",
          "text": [
            "Total IDs count: 415\n",
            "Train IDs count: 332\n",
            "Validation IDs count: 41\n",
            "Test IDs count: 42\n"
          ]
        }
      ]
    },
    {
      "cell_type": "code",
      "source": [
        "# Get input size (care, in our case the net is 4 layers deep, so every dimension except the modalities must be divisible by 16. The general rule is to be divisible by 2^n for a n layers U-Net).\n",
        "# In our case Depth won't be used being our U-Net 2D\n",
        "height, width, depth, modalities = get_input_size(images_folder)\n"
      ],
      "metadata": {
        "colab": {
          "base_uri": "https://localhost:8080/"
        },
        "id": "-hx2fXt_YTTW",
        "outputId": "4aa97db4-9a24-4daa-e205-29eb71ca64f5"
      },
      "execution_count": 27,
      "outputs": [
        {
          "output_type": "stream",
          "name": "stdout",
          "text": [
            "Height: 144, Width: 176, Depth: 144, Modalities: 2\n"
          ]
        }
      ]
    },
    {
      "cell_type": "code",
      "source": [
        "# Initialize train and validation data\n",
        "\n",
        "train_batch_size = 144\n",
        "train_slice_step = 8\n",
        "\n",
        "validation_batch_size = 144\n",
        "validation_slice_step = 8\n",
        "\n",
        "train_data_gen = BrainTumor2DSliceGenerator(\n",
        "    images_folder,\n",
        "    labels_folder,\n",
        "    train_ids,\n",
        "    train_batch_size,\n",
        "    train_slice_step,\n",
        "    shuffle=True,\n",
        "    augment=True\n",
        ")\n",
        "\n",
        "validation_data_gen = BrainTumor2DSliceGenerator(\n",
        "    images_folder,\n",
        "    labels_folder,\n",
        "    validation_ids,\n",
        "    validation_batch_size,\n",
        "    validation_slice_step,\n",
        "    shuffle=True,\n",
        "    augment=False\n",
        ")"
      ],
      "metadata": {
        "id": "UycByUK9YViE"
      },
      "execution_count": 27,
      "outputs": []
    },
    {
      "cell_type": "code",
      "source": [
        "X, y = train_data_gen[0]\n",
        "print(\"X shape:\", X.shape)   # (B, H, W, 2)\n",
        "print(\"y shape:\", y.shape)   # (B, H, W, 1)\n"
      ],
      "metadata": {
        "colab": {
          "base_uri": "https://localhost:8080/"
        },
        "id": "p4v0zo1SEH0w",
        "outputId": "f10ec0d2-f97b-4617-cc2a-2137eb880fd1"
      },
      "execution_count": null,
      "outputs": [
        {
          "output_type": "stream",
          "name": "stdout",
          "text": [
            "X shape: (144, 144, 176, 2)\n",
            "y shape: (144, 144, 176)\n"
          ]
        }
      ]
    },
    {
      "cell_type": "code",
      "source": [
        "# Load saved model\n",
        "from tensorflow.keras.models import load_model\n",
        "\n",
        "model_path = '/content/drive/MyDrive/the_final_models/aug_combo8.keras'\n",
        "\n",
        "model = load_model(model_path, custom_objects={\n",
        "    'combo_scce_dice_loss': combo_scce_dice_loss,\n",
        "    'iou_metric': iou_metric,})\n",
        "\n",
        "# Fit model\n",
        "history = model.fit(\n",
        "          train_data_gen,\n",
        "          validation_data=validation_data_gen,\n",
        "          epochs=45,\n",
        "          initial_epoch=40,\n",
        "          callbacks=[reduce_lr])\n"
      ],
      "metadata": {
        "colab": {
          "base_uri": "https://localhost:8080/"
        },
        "id": "4lgGYhHgT8Pe",
        "outputId": "3390b2c2-2f69-4899-9c2f-c0ec3d923e87"
      },
      "execution_count": null,
      "outputs": [
        {
          "output_type": "stream",
          "name": "stdout",
          "text": [
            "Epoch 41/45\n",
            "\u001b[1m42/42\u001b[0m \u001b[32m━━━━━━━━━━━━━━━━━━━━\u001b[0m\u001b[37m\u001b[0m \u001b[1m3893s\u001b[0m 92s/step - IoU: 0.7590 - loss: 0.2942 - val_IoU: 0.7238 - val_loss: 0.3001 - learning_rate: 5.0000e-04\n",
            "Epoch 42/45\n",
            "\u001b[1m42/42\u001b[0m \u001b[32m━━━━━━━━━━━━━━━━━━━━\u001b[0m\u001b[37m\u001b[0m \u001b[1m3862s\u001b[0m 91s/step - IoU: 0.7629 - loss: 0.2918 - val_IoU: 0.7227 - val_loss: 0.3005 - learning_rate: 5.0000e-04\n",
            "Epoch 43/45\n",
            "\u001b[1m42/42\u001b[0m \u001b[32m━━━━━━━━━━━━━━━━━━━━\u001b[0m\u001b[37m\u001b[0m \u001b[1m0s\u001b[0m 87s/step - IoU: 0.7663 - loss: 0.2907  \n",
            "Epoch 43: ReduceLROnPlateau reducing learning rate to 0.0002500000118743628.\n",
            "\u001b[1m42/42\u001b[0m \u001b[32m━━━━━━━━━━━━━━━━━━━━\u001b[0m\u001b[37m\u001b[0m \u001b[1m3847s\u001b[0m 91s/step - IoU: 0.7662 - loss: 0.2907 - val_IoU: 0.7249 - val_loss: 0.3008 - learning_rate: 5.0000e-04\n",
            "Epoch 44/45\n",
            "\u001b[1m25/42\u001b[0m \u001b[32m━━━━━━━━━━━\u001b[0m\u001b[37m━━━━━━━━━\u001b[0m \u001b[1m24:17\u001b[0m 86s/step - IoU: 0.7635 - loss: 0.2915"
          ]
        }
      ]
    },
    {
      "cell_type": "code",
      "source": [
        "# Save completed model\n",
        "import os\n",
        "import shutil\n",
        "from tensorflow.keras.models import Model # Import Model\n",
        "\n",
        "model_folder_drive = '/content/drive/MyDrive/the_final_models'\n",
        "model_filename = 'aug_combo9.keras'\n",
        "temp_model_path = f'/content/{model_filename}' # Save to a temporary location\n",
        "\n",
        "# Save the model to the temporary location\n",
        "model.save(temp_model_path)\n",
        "print(f\"Model saved temporarily to: {temp_model_path}\")\n",
        "\n",
        "# Create the target directory in Drive if it doesn't exist\n",
        "os.makedirs(model_folder_drive, exist_ok=True)\n",
        "\n",
        "# Define the final destination path in Drive\n",
        "final_model_path = os.path.join(model_folder_drive, model_filename)\n",
        "\n",
        "# Move the saved model file to Google Drive\n",
        "shutil.move(temp_model_path, final_model_path)\n",
        "print(f\"Model moved to Drive at: {final_model_path}\")\n",
        "\n",
        "\n",
        "# Save history\n",
        "import json\n",
        "import os\n",
        "\n",
        "history_filepath = '/content/drive/MyDrive/final_histories/aug_combo9.json'\n",
        "os.makedirs(os.path.dirname(history_filepath), exist_ok=True)\n",
        "with open(history_filepath, 'w') as f:\n",
        "    json.dump(history.history, f)"
      ],
      "metadata": {
        "colab": {
          "base_uri": "https://localhost:8080/"
        },
        "id": "IKXZdboHVCB5",
        "outputId": "ac5ce8a1-0db7-4454-def8-7960500cac1c"
      },
      "execution_count": 33,
      "outputs": [
        {
          "output_type": "stream",
          "name": "stdout",
          "text": [
            "Model saved temporarily to: /content/aug_combo8.keras\n",
            "Model moved to Drive at: /content/drive/MyDrive/the_final_models/aug_combo8.keras\n"
          ]
        }
      ]
    },
    {
      "cell_type": "markdown",
      "source": [
        "## Test model"
      ],
      "metadata": {
        "id": "0RxpUUfVWjRf"
      }
    },
    {
      "cell_type": "code",
      "source": [
        "# Split IDs into train, test and validation (default ratio is 80, 10, 10)\n",
        "train_ids, validation_ids, test_ids = split_ids_into_train_val_test(images_folder)\n"
      ],
      "metadata": {
        "colab": {
          "base_uri": "https://localhost:8080/"
        },
        "id": "q8dc0te0KL_Z",
        "outputId": "803009c5-e0a9-4f9c-b5b8-8aacfa6238a5"
      },
      "execution_count": 39,
      "outputs": [
        {
          "output_type": "stream",
          "name": "stdout",
          "text": [
            "Total IDs count: 415\n",
            "Train IDs count: 332\n",
            "Validation IDs count: 41\n",
            "Test IDs count: 42\n"
          ]
        }
      ]
    },
    {
      "cell_type": "code",
      "source": [
        "# Initialize test data generator\n",
        "\n",
        "test_batch_size = 144\n",
        "test_slice_step = 8\n",
        "\n",
        "test_data_gen = BrainTumor2DSliceGenerator(\n",
        "    images_folder,\n",
        "    labels_folder,\n",
        "    test_ids,\n",
        "    batch_size=test_batch_size,\n",
        "    slice_step=test_slice_step,\n",
        "    shuffle=False\n",
        ")"
      ],
      "metadata": {
        "id": "12cpRn0mWk1r"
      },
      "execution_count": 42,
      "outputs": []
    },
    {
      "cell_type": "code",
      "source": [
        "from tensorflow.keras.models import load_model\n",
        "\n",
        "model_path = '/content/drive/MyDrive/the_final_models/aug_combo5.keras'\n",
        "\n",
        "model = load_model(model_path, custom_objects={\n",
        "    'combo_scce_dice_loss': combo_scce_dice_loss,\n",
        "    'iou_metric': iou_metric,})"
      ],
      "metadata": {
        "id": "AnoBNoAibFLs"
      },
      "execution_count": 28,
      "outputs": []
    },
    {
      "cell_type": "code",
      "source": [
        "# This will return a list of metric values in the same order as in model.compile()\n",
        "test_results = model.evaluate(test_data_gen, verbose=1)\n"
      ],
      "metadata": {
        "colab": {
          "base_uri": "https://localhost:8080/"
        },
        "id": "JS-ZZ9mpWy51",
        "outputId": "148c13d8-d96c-4e90-9cf7-57d7053b89c6"
      },
      "execution_count": 43,
      "outputs": [
        {
          "output_type": "stream",
          "name": "stderr",
          "text": [
            "/usr/local/lib/python3.11/dist-packages/keras/src/trainers/data_adapters/py_dataset_adapter.py:121: UserWarning: Your `PyDataset` class should call `super().__init__(**kwargs)` in its constructor. `**kwargs` can include `workers`, `use_multiprocessing`, `max_queue_size`. Do not pass these arguments to `fit()`, as they will be ignored.\n",
            "  self._warn_if_super_not_called()\n"
          ]
        },
        {
          "output_type": "stream",
          "name": "stdout",
          "text": [
            "\u001b[1m6/6\u001b[0m \u001b[32m━━━━━━━━━━━━━━━━━━━━\u001b[0m\u001b[37m\u001b[0m \u001b[1m189s\u001b[0m 28s/step - IoU: 0.6604 - loss: 0.3171\n"
          ]
        }
      ]
    },
    {
      "cell_type": "code",
      "source": [
        "import json\n",
        "import os\n",
        "\n",
        "results_dict = {name: float(value) for name, value in zip(model.metrics_names, test_results)}\n",
        "\n",
        "results_path = '/content/drive/MyDrive/test_results/aug_combo8.json'\n",
        "os.makedirs(os.path.dirname(results_path), exist_ok=True)\n",
        "\n",
        "with open(results_path, 'w') as f:\n",
        "    json.dump(results_dict, f, indent=4)\n"
      ],
      "metadata": {
        "id": "SLHbdT4AW-hx"
      },
      "execution_count": 44,
      "outputs": []
    },
    {
      "cell_type": "markdown",
      "source": [
        "## Prediction exemple"
      ],
      "metadata": {
        "id": "Bm8fJ2f5VSP9"
      }
    },
    {
      "cell_type": "code",
      "source": [
        "# Load model\n",
        "from tensorflow.keras.models import load_model\n",
        "\n",
        "model_path = '/content/drive/MyDrive/the_final_models/combo5.keras'\n",
        "model = load_model(\n",
        "    model_path,\n",
        "    compile=False\n",
        ")"
      ],
      "metadata": {
        "id": "LRZue2hrViNK"
      },
      "execution_count": null,
      "outputs": []
    },
    {
      "cell_type": "code",
      "source": [
        "print(test_ids)"
      ],
      "metadata": {
        "colab": {
          "base_uri": "https://localhost:8080/"
        },
        "id": "-xZn0QYCSYrx",
        "outputId": "baa1abb6-ffa2-4f36-86e5-e9de45c136e5"
      },
      "execution_count": null,
      "outputs": [
        {
          "output_type": "stream",
          "name": "stdout",
          "text": [
            "['BRATS_360', 'BRATS_243', 'BRATS_474', 'BRATS_191', 'BRATS_307', 'BRATS_419', 'BRATS_077', 'BRATS_385', 'BRATS_447', 'BRATS_461', 'BRATS_087', 'BRATS_280', 'BRATS_151', 'BRATS_440', 'BRATS_156', 'BRATS_032', 'BRATS_003', 'BRATS_253', 'BRATS_294', 'BRATS_140', 'BRATS_168', 'BRATS_400', 'BRATS_258', 'BRATS_454', 'BRATS_268', 'BRATS_368', 'BRATS_145', 'BRATS_386', 'BRATS_162', 'BRATS_018', 'BRATS_216', 'BRATS_426', 'BRATS_247', 'BRATS_017', 'BRATS_028', 'BRATS_349', 'BRATS_135', 'BRATS_221', 'BRATS_082', 'BRATS_462', 'BRATS_356', 'BRATS_421']\n"
          ]
        }
      ]
    },
    {
      "cell_type": "code",
      "source": [
        "import matplotlib.pyplot as plt\n",
        "import numpy as np\n",
        "import nibabel as nib\n",
        "\n",
        "# Load one patient image + label\n",
        "img_path = '/content/imagesTr/BRATS_243.nii.gz'\n",
        "label_path = '/content/labelsTr/BRATS_243.nii.gz'\n",
        "\n",
        "img = nib.load(img_path).get_fdata()\n",
        "label = nib.load(label_path).get_fdata()\n",
        "\n",
        "slice_index = 60  # choose a relevant axial slice\n",
        "\n",
        "# Preprocess input\n",
        "input_slice = img[:, :, slice_index, :2]  # shape: (H, W, 2)\n",
        "input_slice = np.expand_dims(input_slice, axis=0)  # add batch dim -> (1, H, W, 2)\n",
        "\n",
        "# Predict\n",
        "pred = model.predict(input_slice)  # shape: (1, H, W, num_classes)\n",
        "pred_label = np.argmax(pred[0], axis=-1)  # shape: (H, W)\n",
        "\n",
        "# Plot result\n",
        "plt.figure(figsize=(12, 4))\n",
        "\n",
        "plt.subplot(1, 3, 1)\n",
        "plt.imshow(input_slice[0, :, :, 0], cmap='gray')\n",
        "plt.title('Input Channel 0')\n",
        "\n",
        "plt.subplot(1, 3, 2)\n",
        "plt.imshow(label[:, :, slice_index], cmap='jet')\n",
        "plt.title('Ground Truth')\n",
        "\n",
        "plt.subplot(1, 3, 3)\n",
        "plt.imshow(pred_label, cmap='jet')\n",
        "plt.title('Prediction')\n",
        "\n",
        "plt.tight_layout()\n",
        "plt.show()\n"
      ],
      "metadata": {
        "colab": {
          "base_uri": "https://localhost:8080/",
          "height": 381
        },
        "id": "-h3rQOoCVX7_",
        "outputId": "dffec620-6b39-4e74-a7bc-c4283d1ec1be"
      },
      "execution_count": 45,
      "outputs": [
        {
          "output_type": "stream",
          "name": "stdout",
          "text": [
            "\u001b[1m1/1\u001b[0m \u001b[32m━━━━━━━━━━━━━━━━━━━━\u001b[0m\u001b[37m\u001b[0m \u001b[1m2s\u001b[0m 2s/step\n"
          ]
        },
        {
          "output_type": "display_data",
          "data": {
            "text/plain": [
              "<Figure size 1200x400 with 3 Axes>"
            ],
            "image/png": "[encoded data removed]"
          },
          "metadata": {}
        }
      ]
    },
    {
      "cell_type": "markdown",
      "source": [
        "## Clear session\n"
      ],
      "metadata": {
        "id": "XNi-XGiBohC5"
      }
    },
    {
      "cell_type": "code",
      "source": [
        "del model\n",
        "del train_data_gen\n",
        "del validation_data_gen\n",
        "del history"
      ],
      "metadata": {
        "id": "bvZxkbP8oi2Y",
        "colab": {
          "base_uri": "https://localhost:8080/",
          "height": 176
        },
        "outputId": "42d784d8-f8b9-4f60-ee4a-6aed912e079d"
      },
      "execution_count": null,
      "outputs": [
        {
          "output_type": "error",
          "ename": "NameError",
          "evalue": "name 'history' is not defined",
          "traceback": [
            "\u001b[0;31m---------------------------------------------------------------------------\u001b[0m",
            "\u001b[0;31mNameError\u001b[0m                                 Traceback (most recent call last)",
            "\u001b[0;32m/tmp/ipython-input-34-1116453820.py\u001b[0m in \u001b[0;36m<cell line: 0>\u001b[0;34m()\u001b[0m\n\u001b[1;32m      2\u001b[0m \u001b[0;32mdel\u001b[0m \u001b[0mtrain_data_gen\u001b[0m\u001b[0;34m\u001b[0m\u001b[0;34m\u001b[0m\u001b[0m\n\u001b[1;32m      3\u001b[0m \u001b[0;32mdel\u001b[0m \u001b[0mvalidation_data_gen\u001b[0m\u001b[0;34m\u001b[0m\u001b[0;34m\u001b[0m\u001b[0m\n\u001b[0;32m----> 4\u001b[0;31m \u001b[0;32mdel\u001b[0m \u001b[0mhistory\u001b[0m\u001b[0;34m\u001b[0m\u001b[0;34m\u001b[0m\u001b[0m\n\u001b[0m",
            "\u001b[0;31mNameError\u001b[0m: name 'history' is not defined"
          ]
        }
      ]
    },
    {
      "cell_type": "code",
      "source": [
        "import tensorflow.keras.backend as K\n",
        "K.clear_session()\n"
      ],
      "metadata": {
        "id": "1QmQ3LKBonSO"
      },
      "execution_count": null,
      "outputs": []
    },
    {
      "cell_type": "code",
      "source": [
        "import gc\n",
        "gc.collect()\n"
      ],
      "metadata": {
        "colab": {
          "base_uri": "https://localhost:8080/"
        },
        "id": "ft5zu-NnooSl",
        "outputId": "839273b9-e76b-42ff-a7ca-8a57bada9a36"
      },
      "execution_count": null,
      "outputs": [
        {
          "output_type": "execute_result",
          "data": {
            "text/plain": [
              "0"
            ]
          },
          "metadata": {},
          "execution_count": 36
        }
      ]
    },
    {
      "cell_type": "markdown",
      "source": [
        "# Result analysis (to do)"
      ],
      "metadata": {
        "id": "bpCALPsLVIkJ"
      }
    },
    {
      "cell_type": "code",
      "source": [
        "import json\n",
        "import os\n",
        "\n",
        "# Base path where your history files are\n",
        "base_path = '/content/drive/MyDrive/final_histories'\n",
        "\n",
        "# Filenames: combo1.json to combo4.json\n",
        "history_files = [f'aug_combo{i}.json' for i in range(1, 8)]\n",
        "\n",
        "# Initialize empty history\n",
        "full_history = {}\n",
        "\n",
        "# Loop through each history file\n",
        "for filename in history_files:\n",
        "    file_path = os.path.join(base_path, filename)\n",
        "    with open(file_path, 'r') as f:\n",
        "        history_part = json.load(f)\n",
        "        for key, values in history_part.items():\n",
        "            # Initialize or extend the list\n",
        "            if key not in full_history:\n",
        "                full_history[key] = []\n",
        "            full_history[key].extend(values)\n"
      ],
      "metadata": {
        "id": "gSn_o_x5DWn4"
      },
      "execution_count": 26,
      "outputs": []
    },
    {
      "cell_type": "code",
      "source": [
        "import matplotlib.pyplot as plt\n",
        "\n",
        "# Choose which metrics to plot\n",
        "metrics_to_plot = ['loss', 'val_loss', 'IoU', 'val_IoU']\n",
        "\n",
        "# Plot\n",
        "plt.figure(figsize=(12, 8))\n",
        "\n",
        "for i, metric in enumerate(metrics_to_plot):\n",
        "    plt.subplot(2, 2, i+1)\n",
        "    plt.plot(full_history[metric], label=metric)\n",
        "    plt.title(metric)\n",
        "    plt.xlabel('Epoch')\n",
        "    plt.ylabel('Value')\n",
        "    plt.grid(True)\n",
        "    plt.legend()\n",
        "\n",
        "plt.tight_layout()\n",
        "plt.show()\n"
      ],
      "metadata": {
        "colab": {
          "base_uri": "https://localhost:8080/",
          "height": 807
        },
        "id": "y4FUVJRnDuzy",
        "outputId": "188b9ba6-7586-4577-d700-f81cf7cdf368"
      },
      "execution_count": 27,
      "outputs": [
        {
          "output_type": "display_data",
          "data": {
            "text/plain": [
              "<Figure size 1200x800 with 4 Axes>"
            ],
            "image/png": "[encoded data removed]"
          },
          "metadata": {}
        }
      ]
    },
    {
      "cell_type": "code",
      "source": [
        "import json, os, numpy as np\n",
        "import matplotlib.pyplot as plt\n",
        "\n",
        "# --- 1. load the JSON files ---------------------------------------------\n",
        "base_path   = \"/content/drive/MyDrive/test_results\"\n",
        "metrics_files = [f\"aug_combo{i}.json\" for i in range(1, 9)]   # 1→4\n",
        "\n",
        "metrics_dict = {}          # {'loss': [val1, val2, ...], 'iou': [...]}\n",
        "\n",
        "for fname in metrics_files:\n",
        "    fp = os.path.join(base_path, fname)\n",
        "    with open(fp, \"r\") as f:\n",
        "        data = json.load(f)          # ➜ dict: {metric_name: value or list}\n",
        "\n",
        "    for k, v in data.items():\n",
        "        # If a value is a list (e.g. per-class scores), average it so each\n",
        "        # file contributes one number per metric.  Skip this if you want\n",
        "        # every class plotted separately.\n",
        "        val = np.mean(v) if isinstance(v, (list, tuple)) else v\n",
        "        metrics_dict.setdefault(k, []).append(val)\n",
        "\n",
        "# --- 2. plot every metric -------------------------------------------------\n",
        "plt.figure(figsize=(12, 4 * len(metrics_dict)))\n",
        "\n",
        "for i, (metric, values) in enumerate(metrics_dict.items(), 1):\n",
        "    plt.subplot(len(metrics_dict), 1, i)\n",
        "    plt.plot(range(1, len(values) + 1), values, marker=\"o\")\n",
        "    plt.title(metric)\n",
        "    plt.xlabel(\"Test-file index (1 → 4)\")\n",
        "    plt.ylabel(metric)\n",
        "    plt.grid(True)\n",
        "\n",
        "plt.tight_layout()\n",
        "plt.show()\n"
      ],
      "metadata": {
        "colab": {
          "base_uri": "https://localhost:8080/",
          "height": 807
        },
        "id": "NBJ3Q8gSEWxA",
        "outputId": "fa4e921c-5086-4a79-814e-3f8d35a1aa2d"
      },
      "execution_count": 46,
      "outputs": [
        {
          "output_type": "display_data",
          "data": {
            "text/plain": [
              "<Figure size 1200x800 with 2 Axes>"
            ],
            "image/png": "[encoded data removed]"
          },
          "metadata": {}
        }
      ]
    },
    {
      "cell_type": "markdown",
      "source": [
        "# ???"
      ],
      "metadata": {
        "id": "HkmXsVuSEdiN"
      }
    },
    {
      "cell_type": "code",
      "source": [
        "import os\n",
        "import nibabel as nib\n",
        "import numpy as np\n",
        "\n",
        "def compute_class_weights(label_dir, ids_list, num_classes=4):\n",
        "    class_counts = np.zeros(num_classes, dtype=np.float64)\n",
        "    total_voxels = 0\n",
        "\n",
        "    for pid in ids_list:\n",
        "        label_path = os.path.join(label_dir, pid + '.nii.gz')\n",
        "        label = nib.load(label_path).get_fdata().astype(np.int32)\n",
        "        for c in range(num_classes):\n",
        "            class_counts[c] += np.sum(label == c)\n",
        "        total_voxels += np.prod(label.shape)\n",
        "\n",
        "    class_freq = class_counts / total_voxels\n",
        "    # Avoid division by zero\n",
        "    class_freq = np.clip(class_freq, 1e-6, None)\n",
        "\n",
        "    # Compute weights as inverse frequency\n",
        "    class_weights = 1.0 / class_freq\n",
        "    # Normalize weights to sum to 1\n",
        "    class_weights /= np.sum(class_weights)\n",
        "\n",
        "    return class_weights\n",
        "\n",
        "    num_classes = 4\n",
        "weights = compute_class_weights(label_dir, train_ids, num_classes)\n",
        "class_weights = np.round(weights, 3)  # Round to 3 decimals\n",
        "print(\"Class weights:\", class_weights)"
      ],
      "metadata": {
        "id": "KkwKO6CrEe5X"
      },
      "execution_count": null,
      "outputs": []
    },
    {
      "cell_type": "code",
      "source": [
        "def sparse_focal_loss(gamma=2., alpha=0.25):\n",
        "    def loss(y_true, y_pred):\n",
        "        y_true = tf.cast(y_true, tf.int32)\n",
        "        y_pred = tf.nn.softmax(y_pred)\n",
        "\n",
        "        y_true_one_hot = tf.one_hot(y_true, depth=tf.shape(y_pred)[-1])\n",
        "        cross_entropy = -y_true_one_hot * tf.math.log(y_pred + 1e-6)\n",
        "        weight = alpha * tf.pow(1 - y_pred, gamma)\n",
        "        loss = weight * cross_entropy\n",
        "        return tf.reduce_mean(tf.reduce_sum(loss, axis=-1))\n",
        "    return loss"
      ],
      "metadata": {
        "id": "bvf3F3sfV1FJ"
      },
      "execution_count": null,
      "outputs": []
    },
    {
      "cell_type": "code",
      "metadata": {
        "id": "XbarDTlYMRmC"
      },
      "source": [
        "import os\n",
        "import numpy as np\n",
        "import nibabel as nib\n",
        "from tensorflow.keras.utils import Sequence\n",
        "\n",
        "class BrainTumor2DSliceGenerator(Sequence):\n",
        "    def __init__(self, images_folder, labels_folder, ids, batch_size=36, slice_step=8, shuffle=True):\n",
        "\n",
        "        self.images_folder = images_folder\n",
        "        self.labels_folder = labels_folder\n",
        "        self.batch_size = batch_size\n",
        "        self.shuffle = shuffle\n",
        "        self.slice_step = slice_step\n",
        "        self.ids = sorted(ids)\n",
        "        self.index_list = self._create_index_list()\n",
        "        if self.shuffle:\n",
        "            np.random.shuffle(self.index_list)\n",
        "\n",
        "    def _create_index_list(self):\n",
        "        index_list = []\n",
        "        for id in self.ids:\n",
        "            image_path = os.path.join(self.images_folder, id + '.nii.gz')\n",
        "            image_data = nib.load(image_path).get_fdata()\n",
        "            for i in range(0, image_data.shape[2], self.slice_step):\n",
        "                index_list.append((id, i))\n",
        "        return index_list\n",
        "\n",
        "    def __len__(self):\n",
        "        return int(np.ceil(len(self.index_list) / self.batch_size))\n",
        "\n",
        "    def __getitem__(self, idx):\n",
        "        batch_indexes = self.index_list[idx * self.batch_size:(idx + 1) * self.batch_size]\n",
        "        batch_X = []\n",
        "        batch_y = []\n",
        "        for id, slice_idx in batch_indexes:\n",
        "            image_data = nib.load(os.path.join(self.images_folder, id + '.nii.gz')).get_fdata(dtype=np.float32)\n",
        "            label_data = nib.load(os.path.join(self.labels_folder, id + '.nii.gz')).get_fdata()\n",
        "\n",
        "            image_slice = image_data[:, :, slice_idx, :]\n",
        "            label_slice = label_data[:, :, slice_idx]\n",
        "\n",
        "            batch_X.append(image_slice.astype(np.float32))\n",
        "            batch_y.append(label_slice.astype(np.int32))\n",
        "\n",
        "        return np.array(batch_X), np.array(batch_y).astype(np.int32)\n",
        "\n",
        "    def on_epoch_end(self):\n",
        "        if self.shuffle:\n",
        "            np.random.shuffle(self.index_list)"
      ],
      "execution_count": null,
      "outputs": []
    }
  ],
  "metadata": {
    "colab": {
      "provenance": [],
      "authorship_tag": "ABX9TyPx7nMqVJ8131/9wBgKUJS3",
      "include_colab_link": true
    },
    "kernelspec": {
      "display_name": "Python 3",
      "name": "python3"
    },
    "language_info": {
      "name": "python"
    }
  },
  "nbformat": 4,
  "nbformat_minor": 0
}